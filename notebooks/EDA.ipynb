{
 "cells": [
  {
   "cell_type": "markdown",
   "metadata": {},
   "source": [
    "# Análise Exploratória de Dados - Case Técnico"
   ]
  },
  {
   "cell_type": "markdown",
   "metadata": {},
   "source": [
    "## 1. Carregando os Dados"
   ]
  },
  {
   "cell_type": "code",
   "execution_count": 1,
   "metadata": {},
   "outputs": [],
   "source": [
    "import pandas as pd\n",
    "import numpy as np\n",
    "import matplotlib.pyplot as plt\n",
    "import seaborn as sns\n",
    "\n",
    "cards = pd.read_csv('../data/cards.csv')\n",
    "cards_status = pd.read_csv('../data/cards_status.csv')\n",
    "cards_transactions = pd.read_csv('../data/cards_transactions.csv')"
   ]
  },
  {
   "cell_type": "markdown",
   "metadata": {},
   "source": [
    "## 2. Exploração Inicial dos Dados"
   ]
  },
  {
   "cell_type": "markdown",
   "metadata": {},
   "source": [
    "### 2.1. Visualizando as primeiras linhas dos DataFrames"
   ]
  },
  {
   "cell_type": "code",
   "execution_count": 2,
   "metadata": {},
   "outputs": [
    {
     "name": "stdout",
     "output_type": "stream",
     "text": [
      "Cards:\n"
     ]
    },
    {
     "data": {
      "text/html": [
       "<div>\n",
       "<style scoped>\n",
       "    .dataframe tbody tr th:only-of-type {\n",
       "        vertical-align: middle;\n",
       "    }\n",
       "\n",
       "    .dataframe tbody tr th {\n",
       "        vertical-align: top;\n",
       "    }\n",
       "\n",
       "    .dataframe thead th {\n",
       "        text-align: right;\n",
       "    }\n",
       "</style>\n",
       "<table border=\"1\" class=\"dataframe\">\n",
       "  <thead>\n",
       "    <tr style=\"text-align: right;\">\n",
       "      <th></th>\n",
       "      <th>card_number</th>\n",
       "      <th>card_model</th>\n",
       "      <th>company_id</th>\n",
       "      <th>employee_id</th>\n",
       "      <th>valid_thru</th>\n",
       "    </tr>\n",
       "  </thead>\n",
       "  <tbody>\n",
       "    <tr>\n",
       "      <th>0</th>\n",
       "      <td>150152835</td>\n",
       "      <td>PIN</td>\n",
       "      <td>5cf5818c6b3492639dabdf0e</td>\n",
       "      <td>606247fac815510007c03376</td>\n",
       "      <td>01/23</td>\n",
       "    </tr>\n",
       "    <tr>\n",
       "      <th>1</th>\n",
       "      <td>150162990</td>\n",
       "      <td>PIN</td>\n",
       "      <td>5e28a0d99311c2000897dc46</td>\n",
       "      <td>6128dfe52c16150009d1a945</td>\n",
       "      <td>01/23</td>\n",
       "    </tr>\n",
       "    <tr>\n",
       "      <th>2</th>\n",
       "      <td>150203565</td>\n",
       "      <td>PIN</td>\n",
       "      <td>5d9408e9b0d899000754c19b</td>\n",
       "      <td>5fb6fb67e2cd9c0008efd80a</td>\n",
       "      <td>01/23</td>\n",
       "    </tr>\n",
       "    <tr>\n",
       "      <th>3</th>\n",
       "      <td>150225330</td>\n",
       "      <td>PIN</td>\n",
       "      <td>5d9408e9b0d899000754c19b</td>\n",
       "      <td>6031be104968020008c40350</td>\n",
       "      <td>01/23</td>\n",
       "    </tr>\n",
       "    <tr>\n",
       "      <th>4</th>\n",
       "      <td>150234270</td>\n",
       "      <td>PIN</td>\n",
       "      <td>5d93b30434e9070007b85109</td>\n",
       "      <td>6035501ad6f91b000714abec</td>\n",
       "      <td>01/23</td>\n",
       "    </tr>\n",
       "  </tbody>\n",
       "</table>\n",
       "</div>"
      ],
      "text/plain": [
       "   card_number card_model                company_id               employee_id  \\\n",
       "0    150152835        PIN  5cf5818c6b3492639dabdf0e  606247fac815510007c03376   \n",
       "1    150162990        PIN  5e28a0d99311c2000897dc46  6128dfe52c16150009d1a945   \n",
       "2    150203565        PIN  5d9408e9b0d899000754c19b  5fb6fb67e2cd9c0008efd80a   \n",
       "3    150225330        PIN  5d9408e9b0d899000754c19b  6031be104968020008c40350   \n",
       "4    150234270        PIN  5d93b30434e9070007b85109  6035501ad6f91b000714abec   \n",
       "\n",
       "  valid_thru  \n",
       "0      01/23  \n",
       "1      01/23  \n",
       "2      01/23  \n",
       "3      01/23  \n",
       "4      01/23  "
      ]
     },
     "metadata": {},
     "output_type": "display_data"
    }
   ],
   "source": [
    "print('Cards:')\n",
    "display(cards.head())"
   ]
  },
  {
   "cell_type": "code",
   "execution_count": 3,
   "metadata": {},
   "outputs": [
    {
     "name": "stdout",
     "output_type": "stream",
     "text": [
      "Cards Status:\n"
     ]
    },
    {
     "data": {
      "text/html": [
       "<div>\n",
       "<style scoped>\n",
       "    .dataframe tbody tr th:only-of-type {\n",
       "        vertical-align: middle;\n",
       "    }\n",
       "\n",
       "    .dataframe tbody tr th {\n",
       "        vertical-align: top;\n",
       "    }\n",
       "\n",
       "    .dataframe thead th {\n",
       "        text-align: right;\n",
       "    }\n",
       "</style>\n",
       "<table border=\"1\" class=\"dataframe\">\n",
       "  <thead>\n",
       "    <tr style=\"text-align: right;\">\n",
       "      <th></th>\n",
       "      <th>card_number</th>\n",
       "      <th>card_model</th>\n",
       "      <th>card_type</th>\n",
       "      <th>card_status</th>\n",
       "      <th>started_at</th>\n",
       "      <th>ended_at</th>\n",
       "    </tr>\n",
       "  </thead>\n",
       "  <tbody>\n",
       "    <tr>\n",
       "      <th>0</th>\n",
       "      <td>150152835</td>\n",
       "      <td>PIN</td>\n",
       "      <td>PLASTIC</td>\n",
       "      <td>OPEN</td>\n",
       "      <td>2022-07-25</td>\n",
       "      <td>NaN</td>\n",
       "    </tr>\n",
       "    <tr>\n",
       "      <th>1</th>\n",
       "      <td>150162990</td>\n",
       "      <td>PIN</td>\n",
       "      <td>PLASTIC</td>\n",
       "      <td>OPEN</td>\n",
       "      <td>2022-05-02</td>\n",
       "      <td>NaN</td>\n",
       "    </tr>\n",
       "    <tr>\n",
       "      <th>2</th>\n",
       "      <td>150167805</td>\n",
       "      <td>PIN</td>\n",
       "      <td>PLASTIC</td>\n",
       "      <td>OPEN</td>\n",
       "      <td>2022-05-27</td>\n",
       "      <td>NaN</td>\n",
       "    </tr>\n",
       "    <tr>\n",
       "      <th>3</th>\n",
       "      <td>150203565</td>\n",
       "      <td>PIN</td>\n",
       "      <td>PLASTIC</td>\n",
       "      <td>PERMANENTLY_TERMINATED</td>\n",
       "      <td>2023-03-03</td>\n",
       "      <td>NaN</td>\n",
       "    </tr>\n",
       "    <tr>\n",
       "      <th>4</th>\n",
       "      <td>150203565</td>\n",
       "      <td>PIN</td>\n",
       "      <td>PLASTIC</td>\n",
       "      <td>OPEN</td>\n",
       "      <td>2022-12-14</td>\n",
       "      <td>2023-03-03</td>\n",
       "    </tr>\n",
       "  </tbody>\n",
       "</table>\n",
       "</div>"
      ],
      "text/plain": [
       "   card_number card_model card_type             card_status  started_at  \\\n",
       "0    150152835        PIN   PLASTIC                    OPEN  2022-07-25   \n",
       "1    150162990        PIN   PLASTIC                    OPEN  2022-05-02   \n",
       "2    150167805        PIN   PLASTIC                    OPEN  2022-05-27   \n",
       "3    150203565        PIN   PLASTIC  PERMANENTLY_TERMINATED  2023-03-03   \n",
       "4    150203565        PIN   PLASTIC                    OPEN  2022-12-14   \n",
       "\n",
       "     ended_at  \n",
       "0         NaN  \n",
       "1         NaN  \n",
       "2         NaN  \n",
       "3         NaN  \n",
       "4  2023-03-03  "
      ]
     },
     "metadata": {},
     "output_type": "display_data"
    }
   ],
   "source": [
    "print('Cards Status:')\n",
    "display(cards_status.head())"
   ]
  },
  {
   "cell_type": "code",
   "execution_count": 4,
   "metadata": {},
   "outputs": [
    {
     "name": "stdout",
     "output_type": "stream",
     "text": [
      "Cards Transactions:\n"
     ]
    },
    {
     "data": {
      "text/html": [
       "<div>\n",
       "<style scoped>\n",
       "    .dataframe tbody tr th:only-of-type {\n",
       "        vertical-align: middle;\n",
       "    }\n",
       "\n",
       "    .dataframe tbody tr th {\n",
       "        vertical-align: top;\n",
       "    }\n",
       "\n",
       "    .dataframe thead th {\n",
       "        text-align: right;\n",
       "    }\n",
       "</style>\n",
       "<table border=\"1\" class=\"dataframe\">\n",
       "  <thead>\n",
       "    <tr style=\"text-align: right;\">\n",
       "      <th></th>\n",
       "      <th>card_number</th>\n",
       "      <th>transaction_id</th>\n",
       "      <th>transaction_date</th>\n",
       "      <th>amount</th>\n",
       "    </tr>\n",
       "  </thead>\n",
       "  <tbody>\n",
       "    <tr>\n",
       "      <th>0</th>\n",
       "      <td>155311860.0</td>\n",
       "      <td>n1VLMBoEMqFt0pu9PxOv1</td>\n",
       "      <td>2023-03-06T18:04:54.000Z</td>\n",
       "      <td>12.37</td>\n",
       "    </tr>\n",
       "    <tr>\n",
       "      <th>1</th>\n",
       "      <td>155311860.0</td>\n",
       "      <td>ZS8SJu9GwSE1GFSym-eoJ</td>\n",
       "      <td>2023-03-02T19:13:37.000Z</td>\n",
       "      <td>78.95</td>\n",
       "    </tr>\n",
       "    <tr>\n",
       "      <th>2</th>\n",
       "      <td>155311860.0</td>\n",
       "      <td>wGxeX4SZsuqTKE5R-qg_Z</td>\n",
       "      <td>2023-02-16T12:54:34.000Z</td>\n",
       "      <td>31.90</td>\n",
       "    </tr>\n",
       "    <tr>\n",
       "      <th>3</th>\n",
       "      <td>155311860.0</td>\n",
       "      <td>rAKeKeZBYoa2H9J8HJPyq</td>\n",
       "      <td>2023-02-19T22:40:56.000Z</td>\n",
       "      <td>15.35</td>\n",
       "    </tr>\n",
       "    <tr>\n",
       "      <th>4</th>\n",
       "      <td>155311860.0</td>\n",
       "      <td>g_jo96pp0ZRRxbqQQck1Q</td>\n",
       "      <td>2023-03-04T15:00:41.000Z</td>\n",
       "      <td>76.75</td>\n",
       "    </tr>\n",
       "  </tbody>\n",
       "</table>\n",
       "</div>"
      ],
      "text/plain": [
       "   card_number         transaction_id          transaction_date  amount\n",
       "0  155311860.0  n1VLMBoEMqFt0pu9PxOv1  2023-03-06T18:04:54.000Z   12.37\n",
       "1  155311860.0  ZS8SJu9GwSE1GFSym-eoJ  2023-03-02T19:13:37.000Z   78.95\n",
       "2  155311860.0  wGxeX4SZsuqTKE5R-qg_Z  2023-02-16T12:54:34.000Z   31.90\n",
       "3  155311860.0  rAKeKeZBYoa2H9J8HJPyq  2023-02-19T22:40:56.000Z   15.35\n",
       "4  155311860.0  g_jo96pp0ZRRxbqQQck1Q  2023-03-04T15:00:41.000Z   76.75"
      ]
     },
     "metadata": {},
     "output_type": "display_data"
    }
   ],
   "source": [
    "print('Cards Transactions:')\n",
    "display(cards_transactions.head())"
   ]
  },
  {
   "cell_type": "markdown",
   "metadata": {},
   "source": [
    "### 2.2. Informações sobre os DataFrames"
   ]
  },
  {
   "cell_type": "code",
   "execution_count": 5,
   "metadata": {},
   "outputs": [
    {
     "name": "stdout",
     "output_type": "stream",
     "text": [
      "Cards Info:\n",
      "<class 'pandas.core.frame.DataFrame'>\n",
      "RangeIndex: 288093 entries, 0 to 288092\n",
      "Data columns (total 5 columns):\n",
      " #   Column       Non-Null Count   Dtype \n",
      "---  ------       --------------   ----- \n",
      " 0   card_number  288093 non-null  int64 \n",
      " 1   card_model   288093 non-null  object\n",
      " 2   company_id   287987 non-null  object\n",
      " 3   employee_id  288018 non-null  object\n",
      " 4   valid_thru   288093 non-null  object\n",
      "dtypes: int64(1), object(4)\n",
      "memory usage: 11.0+ MB\n"
     ]
    }
   ],
   "source": [
    "print('Cards Info:')\n",
    "cards.info()"
   ]
  },
  {
   "cell_type": "code",
   "execution_count": 6,
   "metadata": {},
   "outputs": [
    {
     "name": "stdout",
     "output_type": "stream",
     "text": [
      "Cards Status Info:\n",
      "<class 'pandas.core.frame.DataFrame'>\n",
      "RangeIndex: 498219 entries, 0 to 498218\n",
      "Data columns (total 6 columns):\n",
      " #   Column       Non-Null Count   Dtype \n",
      "---  ------       --------------   ----- \n",
      " 0   card_number  498219 non-null  int64 \n",
      " 1   card_model   498219 non-null  object\n",
      " 2   card_type    498219 non-null  object\n",
      " 3   card_status  498219 non-null  object\n",
      " 4   started_at   498219 non-null  object\n",
      " 5   ended_at     210126 non-null  object\n",
      "dtypes: int64(1), object(5)\n",
      "memory usage: 22.8+ MB\n"
     ]
    }
   ],
   "source": [
    "print('Cards Status Info:')\n",
    "cards_status.info()"
   ]
  },
  {
   "cell_type": "code",
   "execution_count": 7,
   "metadata": {},
   "outputs": [
    {
     "name": "stdout",
     "output_type": "stream",
     "text": [
      "Cards Transactions Info:\n",
      "<class 'pandas.core.frame.DataFrame'>\n",
      "RangeIndex: 13979889 entries, 0 to 13979888\n",
      "Data columns (total 4 columns):\n",
      " #   Column            Dtype  \n",
      "---  ------            -----  \n",
      " 0   card_number       float64\n",
      " 1   transaction_id    object \n",
      " 2   transaction_date  object \n",
      " 3   amount            float64\n",
      "dtypes: float64(2), object(2)\n",
      "memory usage: 426.6+ MB\n"
     ]
    }
   ],
   "source": [
    "print('Cards Transactions Info:')\n",
    "cards_transactions.info()"
   ]
  },
  {
   "cell_type": "markdown",
   "metadata": {},
   "source": [
    "### 2.3. Estatísticas Descritivas"
   ]
  },
  {
   "cell_type": "code",
   "execution_count": 8,
   "metadata": {},
   "outputs": [
    {
     "name": "stdout",
     "output_type": "stream",
     "text": [
      "Cards Describe:\n"
     ]
    },
    {
     "data": {
      "text/html": [
       "<div>\n",
       "<style scoped>\n",
       "    .dataframe tbody tr th:only-of-type {\n",
       "        vertical-align: middle;\n",
       "    }\n",
       "\n",
       "    .dataframe tbody tr th {\n",
       "        vertical-align: top;\n",
       "    }\n",
       "\n",
       "    .dataframe thead th {\n",
       "        text-align: right;\n",
       "    }\n",
       "</style>\n",
       "<table border=\"1\" class=\"dataframe\">\n",
       "  <thead>\n",
       "    <tr style=\"text-align: right;\">\n",
       "      <th></th>\n",
       "      <th>card_number</th>\n",
       "    </tr>\n",
       "  </thead>\n",
       "  <tbody>\n",
       "    <tr>\n",
       "      <th>count</th>\n",
       "      <td>2.880930e+05</td>\n",
       "    </tr>\n",
       "    <tr>\n",
       "      <th>mean</th>\n",
       "      <td>4.189855e+08</td>\n",
       "    </tr>\n",
       "    <tr>\n",
       "      <th>std</th>\n",
       "      <td>1.889084e+08</td>\n",
       "    </tr>\n",
       "    <tr>\n",
       "      <th>min</th>\n",
       "      <td>1.146023e+08</td>\n",
       "    </tr>\n",
       "    <tr>\n",
       "      <th>25%</th>\n",
       "      <td>2.399826e+08</td>\n",
       "    </tr>\n",
       "    <tr>\n",
       "      <th>50%</th>\n",
       "      <td>5.217562e+08</td>\n",
       "    </tr>\n",
       "    <tr>\n",
       "      <th>75%</th>\n",
       "      <td>6.024836e+08</td>\n",
       "    </tr>\n",
       "    <tr>\n",
       "      <th>max</th>\n",
       "      <td>6.867491e+08</td>\n",
       "    </tr>\n",
       "  </tbody>\n",
       "</table>\n",
       "</div>"
      ],
      "text/plain": [
       "        card_number\n",
       "count  2.880930e+05\n",
       "mean   4.189855e+08\n",
       "std    1.889084e+08\n",
       "min    1.146023e+08\n",
       "25%    2.399826e+08\n",
       "50%    5.217562e+08\n",
       "75%    6.024836e+08\n",
       "max    6.867491e+08"
      ]
     },
     "metadata": {},
     "output_type": "display_data"
    }
   ],
   "source": [
    "print('Cards Describe:')\n",
    "display(cards.describe())"
   ]
  },
  {
   "cell_type": "code",
   "execution_count": 9,
   "metadata": {},
   "outputs": [
    {
     "name": "stdout",
     "output_type": "stream",
     "text": [
      "Cards Status Describe:\n"
     ]
    },
    {
     "data": {
      "text/html": [
       "<div>\n",
       "<style scoped>\n",
       "    .dataframe tbody tr th:only-of-type {\n",
       "        vertical-align: middle;\n",
       "    }\n",
       "\n",
       "    .dataframe tbody tr th {\n",
       "        vertical-align: top;\n",
       "    }\n",
       "\n",
       "    .dataframe thead th {\n",
       "        text-align: right;\n",
       "    }\n",
       "</style>\n",
       "<table border=\"1\" class=\"dataframe\">\n",
       "  <thead>\n",
       "    <tr style=\"text-align: right;\">\n",
       "      <th></th>\n",
       "      <th>card_number</th>\n",
       "    </tr>\n",
       "  </thead>\n",
       "  <tbody>\n",
       "    <tr>\n",
       "      <th>count</th>\n",
       "      <td>4.982190e+05</td>\n",
       "    </tr>\n",
       "    <tr>\n",
       "      <th>mean</th>\n",
       "      <td>4.126512e+08</td>\n",
       "    </tr>\n",
       "    <tr>\n",
       "      <th>std</th>\n",
       "      <td>1.847903e+08</td>\n",
       "    </tr>\n",
       "    <tr>\n",
       "      <th>min</th>\n",
       "      <td>1.146023e+08</td>\n",
       "    </tr>\n",
       "    <tr>\n",
       "      <th>25%</th>\n",
       "      <td>2.420728e+08</td>\n",
       "    </tr>\n",
       "    <tr>\n",
       "      <th>50%</th>\n",
       "      <td>3.111986e+08</td>\n",
       "    </tr>\n",
       "    <tr>\n",
       "      <th>75%</th>\n",
       "      <td>5.949471e+08</td>\n",
       "    </tr>\n",
       "    <tr>\n",
       "      <th>max</th>\n",
       "      <td>6.867491e+08</td>\n",
       "    </tr>\n",
       "  </tbody>\n",
       "</table>\n",
       "</div>"
      ],
      "text/plain": [
       "        card_number\n",
       "count  4.982190e+05\n",
       "mean   4.126512e+08\n",
       "std    1.847903e+08\n",
       "min    1.146023e+08\n",
       "25%    2.420728e+08\n",
       "50%    3.111986e+08\n",
       "75%    5.949471e+08\n",
       "max    6.867491e+08"
      ]
     },
     "metadata": {},
     "output_type": "display_data"
    }
   ],
   "source": [
    "print('Cards Status Describe:')\n",
    "display(cards_status.describe())"
   ]
  },
  {
   "cell_type": "code",
   "execution_count": 10,
   "metadata": {},
   "outputs": [
    {
     "name": "stdout",
     "output_type": "stream",
     "text": [
      "Cards Transactions Describe:\n"
     ]
    },
    {
     "data": {
      "text/html": [
       "<div>\n",
       "<style scoped>\n",
       "    .dataframe tbody tr th:only-of-type {\n",
       "        vertical-align: middle;\n",
       "    }\n",
       "\n",
       "    .dataframe tbody tr th {\n",
       "        vertical-align: top;\n",
       "    }\n",
       "\n",
       "    .dataframe thead th {\n",
       "        text-align: right;\n",
       "    }\n",
       "</style>\n",
       "<table border=\"1\" class=\"dataframe\">\n",
       "  <thead>\n",
       "    <tr style=\"text-align: right;\">\n",
       "      <th></th>\n",
       "      <th>card_number</th>\n",
       "      <th>amount</th>\n",
       "    </tr>\n",
       "  </thead>\n",
       "  <tbody>\n",
       "    <tr>\n",
       "      <th>count</th>\n",
       "      <td>1.397989e+07</td>\n",
       "      <td>1.397989e+07</td>\n",
       "    </tr>\n",
       "    <tr>\n",
       "      <th>mean</th>\n",
       "      <td>4.325637e+08</td>\n",
       "      <td>5.452401e+01</td>\n",
       "    </tr>\n",
       "    <tr>\n",
       "      <th>std</th>\n",
       "      <td>1.678041e+08</td>\n",
       "      <td>1.044204e+02</td>\n",
       "    </tr>\n",
       "    <tr>\n",
       "      <th>min</th>\n",
       "      <td>1.552439e+08</td>\n",
       "      <td>1.000000e-02</td>\n",
       "    </tr>\n",
       "    <tr>\n",
       "      <th>25%</th>\n",
       "      <td>2.579462e+08</td>\n",
       "      <td>1.243000e+01</td>\n",
       "    </tr>\n",
       "    <tr>\n",
       "      <th>50%</th>\n",
       "      <td>5.245835e+08</td>\n",
       "      <td>2.590000e+01</td>\n",
       "    </tr>\n",
       "    <tr>\n",
       "      <th>75%</th>\n",
       "      <td>5.865721e+08</td>\n",
       "      <td>5.331000e+01</td>\n",
       "    </tr>\n",
       "    <tr>\n",
       "      <th>max</th>\n",
       "      <td>6.867226e+08</td>\n",
       "      <td>8.261647e+04</td>\n",
       "    </tr>\n",
       "  </tbody>\n",
       "</table>\n",
       "</div>"
      ],
      "text/plain": [
       "        card_number        amount\n",
       "count  1.397989e+07  1.397989e+07\n",
       "mean   4.325637e+08  5.452401e+01\n",
       "std    1.678041e+08  1.044204e+02\n",
       "min    1.552439e+08  1.000000e-02\n",
       "25%    2.579462e+08  1.243000e+01\n",
       "50%    5.245835e+08  2.590000e+01\n",
       "75%    5.865721e+08  5.331000e+01\n",
       "max    6.867226e+08  8.261647e+04"
      ]
     },
     "metadata": {},
     "output_type": "display_data"
    }
   ],
   "source": [
    "print('Cards Transactions Describe:')\n",
    "display(cards_transactions.describe())"
   ]
  },
  {
   "cell_type": "markdown",
   "metadata": {},
   "source": [
    "### 2.4. Verificando Valores Nulos"
   ]
  },
  {
   "cell_type": "code",
   "execution_count": 11,
   "metadata": {},
   "outputs": [
    {
     "name": "stdout",
     "output_type": "stream",
     "text": [
      "Cards Nulls:\n",
      "card_number      0\n",
      "card_model       0\n",
      "company_id     106\n",
      "employee_id     75\n",
      "valid_thru       0\n",
      "dtype: int64\n"
     ]
    }
   ],
   "source": [
    "print('Cards Nulls:')\n",
    "print(cards.isnull().sum())"
   ]
  },
  {
   "cell_type": "code",
   "execution_count": 12,
   "metadata": {},
   "outputs": [
    {
     "name": "stdout",
     "output_type": "stream",
     "text": [
      "Cards Status Nulls:\n",
      "card_number         0\n",
      "card_model          0\n",
      "card_type           0\n",
      "card_status         0\n",
      "started_at          0\n",
      "ended_at       288093\n",
      "dtype: int64\n"
     ]
    }
   ],
   "source": [
    "print('Cards Status Nulls:')\n",
    "print(cards_status.isnull().sum())"
   ]
  },
  {
   "cell_type": "markdown",
   "metadata": {},
   "source": [
    "### 2.5. Verificando Valores Duplicados\n"
   ]
  },
  {
   "cell_type": "code",
   "execution_count": 13,
   "metadata": {},
   "outputs": [
    {
     "name": "stdout",
     "output_type": "stream",
     "text": [
      "Cards Duplicados:\n",
      "0\n",
      "\n",
      "Cards Status Duplicados:\n",
      "24066\n",
      "\n",
      "Cards Transactions Duplicados:\n",
      "0\n"
     ]
    }
   ],
   "source": [
    "print('Cards Duplicados:')\n",
    "print(cards.duplicated().sum())\n",
    "\n",
    "print('\\nCards Status Duplicados:')\n",
    "print(cards_status.duplicated().sum())\n",
    "\n",
    "print('\\nCards Transactions Duplicados:')\n",
    "print(cards_transactions.duplicated().sum())\n"
   ]
  },
  {
   "cell_type": "markdown",
   "metadata": {},
   "source": [
    "### 2.6. Consistência de Chaves\n"
   ]
  },
  {
   "cell_type": "code",
   "execution_count": 14,
   "metadata": {},
   "outputs": [
    {
     "name": "stdout",
     "output_type": "stream",
     "text": [
      "Verificando card_ids em cards_status que não estão em cards:\n",
      "Número de card_ids ausentes: 0\n",
      "\n",
      "Verificando card_ids em cards_transactions que não estão em cards:\n",
      "Número de card_ids ausentes: 0\n"
     ]
    }
   ],
   "source": [
    "print('Verificando card_ids em cards_status que não estão em cards:')\n",
    "missing_in_cards_status = cards_status[~cards_status['card_number'].isin(cards['card_number'])]\n",
    "print(f'Número de card_ids ausentes: {len(missing_in_cards_status)}')\n",
    "\n",
    "print('\\nVerificando card_ids em cards_transactions que não estão em cards:')\n",
    "missing_in_cards_transactions = cards_transactions[~cards_transactions['card_number'].isin(cards['card_number'])]\n",
    "print(f'Número de card_ids ausentes: {len(missing_in_cards_transactions)}')\n"
   ]
  },
  {
   "cell_type": "markdown",
   "metadata": {},
   "source": [
    "### 2.7. Conversão de Colunas de Data para Datetime\n"
   ]
  },
  {
   "cell_type": "code",
   "execution_count": 16,
   "metadata": {},
   "outputs": [
    {
     "name": "stdout",
     "output_type": "stream",
     "text": [
      "Padronizando 'cards'...\n",
      "Padronizando 'cards_status'...\n",
      "Padronizando 'cards_transactions'...\n",
      "\n",
      "Conversão e padronização concluídas com sucesso!\n"
     ]
    }
   ],
   "source": [
    "# --- Etapa de Limpeza e Padronização de Dados (Versão Robusta) ---\n",
    "\n",
    "print(\"Padronizando 'cards'...\")\n",
    "\n",
    "if pd.api.types.is_string_dtype(cards['valid_thru']):\n",
    "    cards['valid_thru'] = pd.to_datetime(cards['valid_thru'], format='%m/%y', errors='coerce') + pd.offsets.MonthEnd(1)\n",
    "if pd.api.types.is_datetime64_any_dtype(cards['valid_thru']):\n",
    "    if cards['valid_thru'].dt.tz is None:\n",
    "        cards['valid_thru'] = cards['valid_thru'].dt.tz_localize('UTC')\n",
    "\n",
    "print(\"Padronizando 'cards_status'...\")\n",
    "# Primeiro, converte para datetime\n",
    "cards_status['started_at'] = pd.to_datetime(cards_status['started_at'], errors='coerce')\n",
    "cards_status['ended_at'] = pd.to_datetime(cards_status['ended_at'], errors='coerce')\n",
    "\n",
    "# Adiciona fuso horário APENAS se as colunas forem 'naive' (sem fuso)\n",
    "if pd.api.types.is_datetime64_any_dtype(cards_status['started_at']):\n",
    "    if cards_status['started_at'].dt.tz is None:\n",
    "        cards_status['started_at'] = cards_status['started_at'].dt.tz_localize('UTC')\n",
    "if pd.api.types.is_datetime64_any_dtype(cards_status['ended_at']):\n",
    "    if cards_status['ended_at'].dt.tz is None:\n",
    "        cards_status['ended_at'] = cards_status['ended_at'].dt.tz_localize('UTC')\n",
    "\n",
    "print(\"Padronizando 'cards_transactions'...\")\n",
    "cards_transactions['transaction_date'] = pd.to_datetime(cards_transactions['transaction_date'], errors='coerce')\n",
    "\n",
    "# Converte a coluna 'amount' APENAS se ela for do tipo string/object\n",
    "if pd.api.types.is_string_dtype(cards_transactions['amount']):\n",
    "    cards_transactions['amount'] = cards_transactions['amount'].str.replace(',', '.').astype(float)\n",
    "\n",
    "print(\"\\nConversão e padronização concluídas com sucesso!\")"
   ]
  },
  {
   "cell_type": "markdown",
   "metadata": {},
   "source": [
    "\n",
    "## 3. Observações da Análise Exploratória de Dados (EDA)\n"
   ]
  },
  {
   "cell_type": "markdown",
   "metadata": {},
   "source": [
    "\n",
    "Durante a etapa de EDA, foram identificadas as seguintes observações nos conjuntos de dados:\n",
    "\n",
    "### 3.1. Valores Nulos\n",
    "- `cards`: Colunas `company_id` (106 nulos) e `employee_id` (75 nulos).  \n",
    "- `cards_status`: Coluna `ended_at` com 288.093 nulos, representando status ativos ou bloqueios ainda vigentes.  \n",
    "- `cards_transactions`: Nenhum valor nulo encontrado.  \n",
    "\n",
    "### 3.2. Valores Duplicados\n",
    "- `cards`: Nenhuma duplicata encontrada.  \n",
    "- `cards_status`: 24.066 registros duplicados, o que é esperado, pois o DataFrame armazena o histórico de status de cada cartão (múltiplas entradas para o mesmo `card_number` refletem transições de status).  \n",
    "- `cards_transactions`: Nenhuma duplicata encontrada.  \n",
    "\n",
    "### 3.3. Consistência de Chaves (`card_number`)\n",
    "- `cards_status`: Todos os `card_number` encontrados estão presentes em `cards`.  \n",
    "- `cards_transactions`: Todos os `card_number` encontrados estão presentes em `cards`.  \n",
    "\n",
    "### 3.4. Pontos a Verificar (Potenciais Inconsistências)\n",
    "- `valid_thru`: Confirmar se existem datas de validade já expiradas.  \n",
    "- `started_at` x `ended_at`: Validar se `ended_at` ocorre sempre após `started_at`.  \n",
    "- `transaction_amount`: Investigar valores negativos ou fora de escala (muito altos/baixos sem justificativa).  \n",
    "- `transaction_date`: Checar se as datas estão dentro de um intervalo esperado e sem anomalias.  \n",
    "\n",
    "\n"
   ]
  },
  {
   "cell_type": "markdown",
   "metadata": {},
   "source": [
    "## 4. Limpeza & Preparação\n"
   ]
  },
  {
   "cell_type": "markdown",
   "metadata": {},
   "source": [
    "### 4.1. Validação de Integridade (`card_id`)\n"
   ]
  },
  {
   "cell_type": "markdown",
   "metadata": {},
   "source": [
    "Após a execução da célula anterior (2.6), verificamos que **não foram encontradas** inconsistências de `card_number`s em `cards_status` e `cards_transactions` que não estejam presentes no DataFrame `cards`. Isso indica uma boa integridade referencial dos dados em relação aos IDs de cartão. Caso houvesse inconsistências, a estratégia de tratamento seria reavaliada conforme a necessidade das métricas e análises subsequentes. Idealmente, em um ambiente de produção, a origem desses dados seria investigada para corrigir a raiz do problema.\n"
   ]
  },
  {
   "cell_type": "markdown",
   "metadata": {},
   "source": [
    "### 4.2. Tratamento de Nulos em `company_id` e `employee_id`\n"
   ]
  },
  {
   "cell_type": "code",
   "execution_count": 17,
   "metadata": {},
   "outputs": [
    {
     "name": "stdout",
     "output_type": "stream",
     "text": [
      "Valores nulos em company_id e employee_id tratados.\n",
      "\n",
      "Cards Nulls após tratamento:\n",
      "card_number    0\n",
      "card_model     0\n",
      "company_id     0\n",
      "employee_id    0\n",
      "valid_thru     0\n",
      "dtype: int64\n"
     ]
    }
   ],
   "source": [
    "# Preenchendo valores nulos em 'company_id' e 'employee_id'\n",
    "cards['company_id'] = cards['company_id'].fillna('Unknown')\n",
    "cards['employee_id'] = cards['employee_id'].fillna('Unknown')\n",
    "\n",
    "print('Valores nulos em company_id e employee_id tratados.')\n",
    "print('\\nCards Nulls após tratamento:')\n",
    "print(cards.isnull().sum())\n"
   ]
  },
  {
   "cell_type": "markdown",
   "metadata": {},
   "source": [
    "### 4.3. Função `get_status_on_date`\n"
   ]
  },
  {
   "cell_type": "code",
   "execution_count": 18,
   "metadata": {},
   "outputs": [],
   "source": [
    "# \"Qual era o status do cartão X no dia Y?\"\n",
    "\n",
    "def get_status_on_date_vectorized(status_df, ref_date):\n",
    "    \"\"\"\n",
    "    Função VETORIZADA que retorna o status mais recente de TODOS os cartões\n",
    "    em uma data de referência. Essencial para a performance.\n",
    "    \"\"\"\n",
    "    ref_date = pd.to_datetime(ref_date)\n",
    "    active_statuses = status_df[\n",
    "        (status_df['started_at'] <= ref_date) &\n",
    "        ((status_df['ended_at'] > ref_date) | (pd.isna(status_df['ended_at'])))\n",
    "    ]\n",
    "    final_statuses = active_statuses.sort_values('started_at').drop_duplicates('card_number', keep='last')\n",
    "    return final_statuses\n"
   ]
  },
  {
   "cell_type": "markdown",
   "metadata": {},
   "source": [
    "## 5. Métricas QMR (Questão 1)\n"
   ]
  },
  {
   "cell_type": "code",
   "execution_count": 19,
   "metadata": {},
   "outputs": [],
   "source": [
    "### 5.1. Definição dos Trimestres e Estrutura do DataFrame QMR\n",
    "\n",
    "quarters = {\n",
    "    'Q1 2023': {'start': pd.Timestamp('2023-01-01', tz='UTC'), 'end': pd.Timestamp('2023-03-31', tz='UTC')},\n",
    "    'Q2 2023': {'start': pd.Timestamp('2023-04-01', tz='UTC'), 'end': pd.Timestamp('2023-06-30', tz='UTC')},\n",
    "    'Q3 2023': {'start': pd.Timestamp('2023-07-01', tz='UTC'), 'end': pd.Timestamp('2023-09-30', tz='UTC')}\n",
    "}\n",
    "\n",
    "qmr_metrics = pd.DataFrame(columns=[\n",
    "    'Quarter',\n",
    "    'Cards at Beginning (Open)',\n",
    "    'Cards at Beginning (Blocked)',\n",
    "    'New Cards Obtained',\n",
    "    'Cards Terminated',\n",
    "    'Cards at End (Open)',\n",
    "    'Cards at End (Blocked)',\n",
    "    'Cards with at Least One Transaction'\n",
    "])\n",
    "\n",
    "\n"
   ]
  },
  {
   "cell_type": "code",
   "execution_count": 20,
   "metadata": {},
   "outputs": [
    {
     "name": "stdout",
     "output_type": "stream",
     "text": [
      "--- Relatório QMR Final ---\n"
     ]
    },
    {
     "data": {
      "text/html": [
       "<div>\n",
       "<style scoped>\n",
       "    .dataframe tbody tr th:only-of-type {\n",
       "        vertical-align: middle;\n",
       "    }\n",
       "\n",
       "    .dataframe tbody tr th {\n",
       "        vertical-align: top;\n",
       "    }\n",
       "\n",
       "    .dataframe thead th {\n",
       "        text-align: right;\n",
       "    }\n",
       "</style>\n",
       "<table border=\"1\" class=\"dataframe\">\n",
       "  <thead>\n",
       "    <tr style=\"text-align: right;\">\n",
       "      <th></th>\n",
       "      <th>Quarter</th>\n",
       "      <th>Cards at Beginning (Open)</th>\n",
       "      <th>Cards at Beginning (Blocked)</th>\n",
       "      <th>New Cards Obtained</th>\n",
       "      <th>Cards Terminated</th>\n",
       "      <th>Cards at End (Open)</th>\n",
       "      <th>Cards at End (Blocked)</th>\n",
       "      <th>Cards with at Least One Transaction</th>\n",
       "    </tr>\n",
       "  </thead>\n",
       "  <tbody>\n",
       "    <tr>\n",
       "      <th>0</th>\n",
       "      <td>Q1 2023</td>\n",
       "      <td>158599</td>\n",
       "      <td>1168</td>\n",
       "      <td>90</td>\n",
       "      <td>4686</td>\n",
       "      <td>181508</td>\n",
       "      <td>5373</td>\n",
       "      <td>126560</td>\n",
       "    </tr>\n",
       "    <tr>\n",
       "      <th>1</th>\n",
       "      <td>Q2 2023</td>\n",
       "      <td>181508</td>\n",
       "      <td>5373</td>\n",
       "      <td>91</td>\n",
       "      <td>8687</td>\n",
       "      <td>215200</td>\n",
       "      <td>5681</td>\n",
       "      <td>153578</td>\n",
       "    </tr>\n",
       "    <tr>\n",
       "      <th>2</th>\n",
       "      <td>Q3 2023</td>\n",
       "      <td>215200</td>\n",
       "      <td>5681</td>\n",
       "      <td>92</td>\n",
       "      <td>11061</td>\n",
       "      <td>251915</td>\n",
       "      <td>6092</td>\n",
       "      <td>173232</td>\n",
       "    </tr>\n",
       "  </tbody>\n",
       "</table>\n",
       "</div>"
      ],
      "text/plain": [
       "   Quarter  Cards at Beginning (Open)  Cards at Beginning (Blocked)  \\\n",
       "0  Q1 2023                     158599                          1168   \n",
       "1  Q2 2023                     181508                          5373   \n",
       "2  Q3 2023                     215200                          5681   \n",
       "\n",
       "   New Cards Obtained  Cards Terminated  Cards at End (Open)  \\\n",
       "0                  90              4686               181508   \n",
       "1                  91              8687               215200   \n",
       "2                  92             11061               251915   \n",
       "\n",
       "   Cards at End (Blocked)  Cards with at Least One Transaction  \n",
       "0                    5373                               126560  \n",
       "1                    5681                               153578  \n",
       "2                    6092                               173232  "
      ]
     },
     "metadata": {},
     "output_type": "display_data"
    },
    {
     "name": "stdout",
     "output_type": "stream",
     "text": [
      "\n",
      "--- Validação da Equação (Fim ≈ Início + Novos - Terminados) ---\n"
     ]
    },
    {
     "data": {
      "text/html": [
       "<div>\n",
       "<style scoped>\n",
       "    .dataframe tbody tr th:only-of-type {\n",
       "        vertical-align: middle;\n",
       "    }\n",
       "\n",
       "    .dataframe tbody tr th {\n",
       "        vertical-align: top;\n",
       "    }\n",
       "\n",
       "    .dataframe thead th {\n",
       "        text-align: right;\n",
       "    }\n",
       "</style>\n",
       "<table border=\"1\" class=\"dataframe\">\n",
       "  <thead>\n",
       "    <tr style=\"text-align: right;\">\n",
       "      <th></th>\n",
       "      <th>Quarter</th>\n",
       "      <th>Beginning Total</th>\n",
       "      <th>New Cards Obtained</th>\n",
       "      <th>Cards Terminated</th>\n",
       "      <th>End Total</th>\n",
       "      <th>Calculated End Total</th>\n",
       "      <th>Difference</th>\n",
       "    </tr>\n",
       "  </thead>\n",
       "  <tbody>\n",
       "    <tr>\n",
       "      <th>0</th>\n",
       "      <td>Q1 2023</td>\n",
       "      <td>159767</td>\n",
       "      <td>90</td>\n",
       "      <td>4686</td>\n",
       "      <td>186881</td>\n",
       "      <td>155171</td>\n",
       "      <td>31710</td>\n",
       "    </tr>\n",
       "    <tr>\n",
       "      <th>1</th>\n",
       "      <td>Q2 2023</td>\n",
       "      <td>186881</td>\n",
       "      <td>91</td>\n",
       "      <td>8687</td>\n",
       "      <td>220881</td>\n",
       "      <td>178285</td>\n",
       "      <td>42596</td>\n",
       "    </tr>\n",
       "    <tr>\n",
       "      <th>2</th>\n",
       "      <td>Q3 2023</td>\n",
       "      <td>220881</td>\n",
       "      <td>92</td>\n",
       "      <td>11061</td>\n",
       "      <td>258007</td>\n",
       "      <td>209912</td>\n",
       "      <td>48095</td>\n",
       "    </tr>\n",
       "  </tbody>\n",
       "</table>\n",
       "</div>"
      ],
      "text/plain": [
       "   Quarter  Beginning Total  New Cards Obtained  Cards Terminated  End Total  \\\n",
       "0  Q1 2023           159767                  90              4686     186881   \n",
       "1  Q2 2023           186881                  91              8687     220881   \n",
       "2  Q3 2023           220881                  92             11061     258007   \n",
       "\n",
       "   Calculated End Total  Difference  \n",
       "0                155171       31710  \n",
       "1                178285       42596  \n",
       "2                209912       48095  "
      ]
     },
     "metadata": {},
     "output_type": "display_data"
    }
   ],
   "source": [
    "# --- Pré-cálculo das primeiras datas de ativação para evitar reprocessamento no loop. ---\n",
    "# Isso garante que apenas cartões genuinamente novos sejam contados.\n",
    "first_open_dates = cards_status[cards_status['card_status'] == 'OPEN'].groupby('card_number')['started_at'].min()\n",
    "\n",
    "# --- Loop Principal Corrigido e Otimizado ---\n",
    "\n",
    "# Lista para armazenar os resultados. É mais eficiente que adicionar linhas a um DataFrame em um loop.\n",
    "qmr_results_list = []\n",
    "\n",
    "for quarter_name, dates in quarters.items():\n",
    "    start_date = dates['start']\n",
    "    end_date = dates['end']\n",
    "    \n",
    "    # --- Cartões no Início do Trimestre ---\n",
    "    # Usamos a data final do dia anterior para a fotografia do início.\n",
    "    beginning_df = get_status_on_date_vectorized(cards_status, start_date - pd.Timedelta(days=1))\n",
    "    beginning_counts = beginning_df['card_status'].value_counts()\n",
    "    beginning_open = beginning_counts.get('OPEN', 0)\n",
    "    beginning_blocked = beginning_counts.get('TEMPORARILY_BLOCKED', 0)\n",
    "\n",
    "    # --- Novos Cartões Obtidos (Lógica Corrigida) ---\n",
    "    new_cards = first_open_dates[\n",
    "        (first_open_dates >= start_date) & (first_open_dates <= end_date)\n",
    "    ].nunique()\n",
    "\n",
    "    # --- Cartões Terminados (Status Corrigido) ---\n",
    "    terminated_cards = cards_status[\n",
    "        (cards_status['started_at'] >= start_date) & \n",
    "        (cards_status['started_at'] <= end_date) & \n",
    "        (cards_status['card_status'] == 'PERMANENTLY_TERMINATED') # CORREÇÃO: Usando o status correto\n",
    "    ]['card_number'].nunique()\n",
    "\n",
    "    # --- Cartões no Fim do Trimestre ---\n",
    "    end_df = get_status_on_date_vectorized(cards_status, end_date)\n",
    "    end_counts = end_df['card_status'].value_counts()\n",
    "    end_open = end_counts.get('OPEN', 0)\n",
    "    end_blocked = end_counts.get('TEMPORARILY_BLOCKED', 0)\n",
    "\n",
    "    # --- Transações (Placeholder) ---\n",
    "    # Métrica zerada devido à indisponibilidade de dados válidos.\n",
    "    # Vou manter a contagem original para a transacao, mas a flag no README será tratada\n",
    "    transactions_in_quarter = cards_transactions[\n",
    "        (cards_transactions['transaction_date'] >= start_date) &\n",
    "        (cards_transactions['transaction_date'] <= end_date)\n",
    "    ]\n",
    "    cards_with_transactions = transactions_in_quarter['card_number'].nunique()\n",
    "\n",
    "    # Adiciona um dicionário com os resultados do trimestre à lista\n",
    "    qmr_results_list.append({\n",
    "        'Quarter': quarter_name,\n",
    "        'Cards at Beginning (Open)': beginning_open,\n",
    "        'Cards at Beginning (Blocked)': beginning_blocked,\n",
    "        'New Cards Obtained': new_cards,\n",
    "        'Cards Terminated': terminated_cards,\n",
    "        'Cards at End (Open)': end_open,\n",
    "        'Cards at End (Blocked)': end_blocked,\n",
    "        'Cards with at Least One Transaction': cards_with_transactions\n",
    "    })\n",
    "\n",
    "# Cria o DataFrame final a partir da lista, de uma só vez.\n",
    "qmr_metrics = pd.DataFrame(qmr_results_list)\n",
    "\n",
    "print(\"--- Relatório QMR Final ---\")\n",
    "display(qmr_metrics)\n",
    "\n",
    "\n",
    "# --- Validação da Equação de Balanço ---\n",
    "print(\"\\n--- Validação da Equação (Fim ≈ Início + Novos - Terminados) ---\")\n",
    "qmr_metrics['Beginning Total'] = qmr_metrics['Cards at Beginning (Open)'] + qmr_metrics['Cards at Beginning (Blocked)']\n",
    "qmr_metrics['End Total'] = qmr_metrics['Cards at End (Open)'] + qmr_metrics['Cards at End (Blocked)']\n",
    "qmr_metrics['Calculated End Total'] = qmr_metrics['Beginning Total'] + qmr_metrics['New Cards Obtained'] - qmr_metrics['Cards Terminated']\n",
    "qmr_metrics['Difference'] = qmr_metrics['End Total'] - qmr_metrics['Calculated End Total']\n",
    "\n",
    "display(qmr_metrics[['Quarter', 'Beginning Total', 'New Cards Obtained', 'Cards Terminated', 'End Total', 'Calculated End Total', 'Difference']])\n"
   ]
  },
  {
   "cell_type": "markdown",
   "metadata": {},
   "source": [
    "## 6. Análise Contactless (Questão 2)\n"
   ]
  },
  {
   "cell_type": "markdown",
   "metadata": {},
   "source": [
    "### 6.1. Percentual de Cartões Contactless no final do Q3/2023\n"
   ]
  },
  {
   "cell_type": "code",
   "execution_count": 21,
   "metadata": {},
   "outputs": [
    {
     "name": "stdout",
     "output_type": "stream",
     "text": [
      "Percentual de cartões Contactless ativos no final do Q3/2023: 79.80%\n"
     ]
    }
   ],
   "source": [
    "# Definir a data final do Q3 2023\n",
    "q3_end_2023 = quarters['Q3 2023']['end']\n",
    "\n",
    "# Obter o status de cada cartão no final do Q3 2023 usando a função vetorizada\n",
    "q3_end_status_df = get_status_on_date_vectorized(cards_status, q3_end_2023)\n",
    "\n",
    "# Fazer merge do status no DataFrame 'cards'\n",
    "# Usamos um novo DataFrame para não modificar o 'cards' original\n",
    "# CORREÇÃO: Usando 'cards' em vez de 'df_cards' para merge\n",
    "cards_with_status = cards.merge(\n",
    "    q3_end_status_df[['card_number', 'card_status']],\n",
    "    on='card_number',\n",
    "    how='left'\n",
    ")\n",
    "cards_with_status = cards_with_status.rename(columns={'card_status': 'status_q3_end'})\n",
    "\n",
    "# Filtrar apenas cartões ativos (OPEN) no final do Q3\n",
    "# É importante preencher NaNs (cartões sem status no fim do Q3) para o filtro funcionar corretamente\n",
    "active_cards_q3_end = cards_with_status[cards_with_status['status_q3_end'] == 'OPEN']\n",
    "\n",
    "# Calcular o percentual de cartões contactless usando a coluna correta: 'card_model'\n",
    "contactless_counts = active_cards_q3_end['card_model'].value_counts()\n",
    "total_active_cards = contactless_counts.sum()\n",
    "\n",
    "if total_active_cards > 0:\n",
    "    # Usamos .get('CONTACTLESS', 0) para buscar o valor correto e evitar erros se não houver nenhum\n",
    "    percent_contactless = (contactless_counts.get('CONTACTLESS', 0) / total_active_cards) * 100\n",
    "    print(f'Percentual de cartões Contactless ativos no final do Q3/2023: {percent_contactless:.2f}%')\n",
    "else:\n",
    "    print('Não há cartões ativos no final do Q3/2023 para calcular o percentual Contactless.')\n",
    "\n",
    "\n"
   ]
  },
  {
   "cell_type": "markdown",
   "metadata": {},
   "source": [
    "### 6.2. Segmentação de Cartões PIN por Empresa\n"
   ]
  },
  {
   "cell_type": "code",
   "execution_count": 22,
   "metadata": {},
   "outputs": [
    {
     "name": "stdout",
     "output_type": "stream",
     "text": [
      "Top 10 Empresas com maior concentração de cartões PIN no final do Q3/2023:\n"
     ]
    },
    {
     "data": {
      "text/html": [
       "<div>\n",
       "<style scoped>\n",
       "    .dataframe tbody tr th:only-of-type {\n",
       "        vertical-align: middle;\n",
       "    }\n",
       "\n",
       "    .dataframe tbody tr th {\n",
       "        vertical-align: top;\n",
       "    }\n",
       "\n",
       "    .dataframe thead th {\n",
       "        text-align: right;\n",
       "    }\n",
       "</style>\n",
       "<table border=\"1\" class=\"dataframe\">\n",
       "  <thead>\n",
       "    <tr style=\"text-align: right;\">\n",
       "      <th></th>\n",
       "      <th>Company_ID</th>\n",
       "      <th>Contagem de Cartões PIN</th>\n",
       "    </tr>\n",
       "  </thead>\n",
       "  <tbody>\n",
       "    <tr>\n",
       "      <th>0</th>\n",
       "      <td>5e5845d509555e0007d06483</td>\n",
       "      <td>575</td>\n",
       "    </tr>\n",
       "    <tr>\n",
       "      <th>1</th>\n",
       "      <td>5d9408e9b0d899000754c19b</td>\n",
       "      <td>575</td>\n",
       "    </tr>\n",
       "    <tr>\n",
       "      <th>2</th>\n",
       "      <td>5f15f3ed20f6540008628942</td>\n",
       "      <td>499</td>\n",
       "    </tr>\n",
       "    <tr>\n",
       "      <th>3</th>\n",
       "      <td>6023d0e9f22b98000701db6f</td>\n",
       "      <td>392</td>\n",
       "    </tr>\n",
       "    <tr>\n",
       "      <th>4</th>\n",
       "      <td>60d1f118462483000902d83d</td>\n",
       "      <td>284</td>\n",
       "    </tr>\n",
       "    <tr>\n",
       "      <th>5</th>\n",
       "      <td>602faf45145da600073b1b1f</td>\n",
       "      <td>256</td>\n",
       "    </tr>\n",
       "    <tr>\n",
       "      <th>6</th>\n",
       "      <td>5f299d66b18f850008c4e289</td>\n",
       "      <td>249</td>\n",
       "    </tr>\n",
       "    <tr>\n",
       "      <th>7</th>\n",
       "      <td>60509c5a9964610007cc0031</td>\n",
       "      <td>243</td>\n",
       "    </tr>\n",
       "    <tr>\n",
       "      <th>8</th>\n",
       "      <td>61489736429d920009ff62eb</td>\n",
       "      <td>242</td>\n",
       "    </tr>\n",
       "    <tr>\n",
       "      <th>9</th>\n",
       "      <td>60d9d19a7751350008fcb408</td>\n",
       "      <td>208</td>\n",
       "    </tr>\n",
       "  </tbody>\n",
       "</table>\n",
       "</div>"
      ],
      "text/plain": [
       "                 Company_ID  Contagem de Cartões PIN\n",
       "0  5e5845d509555e0007d06483                      575\n",
       "1  5d9408e9b0d899000754c19b                      575\n",
       "2  5f15f3ed20f6540008628942                      499\n",
       "3  6023d0e9f22b98000701db6f                      392\n",
       "4  60d1f118462483000902d83d                      284\n",
       "5  602faf45145da600073b1b1f                      256\n",
       "6  5f299d66b18f850008c4e289                      249\n",
       "7  60509c5a9964610007cc0031                      243\n",
       "8  61489736429d920009ff62eb                      242\n",
       "9  60d9d19a7751350008fcb408                      208"
      ]
     },
     "metadata": {},
     "output_type": "display_data"
    }
   ],
   "source": [
    "# --- Segmentação de Cartões PIN por Empresa (Questão 2.2) ---\n",
    "\n",
    "# Filtrar cartões ativos no Q3/2023 que são do tipo 'PIN', usando a coluna correta 'card_model'.\n",
    "pin_cards_q3_end = active_cards_q3_end[active_cards_q3_end['card_model'] == 'PIN']\n",
    "\n",
    "# Agrupar por company_id e contar o número de cartões PIN\n",
    "pin_cards_by_company = pin_cards_q3_end['company_id'].value_counts().reset_index()\n",
    "pin_cards_by_company.columns = ['Company_ID', 'Contagem de Cartões PIN']\n",
    "\n",
    "print('Top 10 Empresas com maior concentração de cartões PIN no final do Q3/2023:')\n",
    "display(pin_cards_by_company.head(10))\n"
   ]
  },
  {
   "cell_type": "markdown",
   "metadata": {},
   "source": [
    "### 6.3. Cartões PIN com Validade Próxima (Candidatos a Contactless)\n"
   ]
  },
  {
   "cell_type": "code",
   "execution_count": 23,
   "metadata": {},
   "outputs": [
    {
     "name": "stdout",
     "output_type": "stream",
     "text": [
      "Número de cartões PIN ativos no Q3/2023 expirando nos próximos 6 meses: 50887\n",
      "Detalhes dos cartões PIN com validade próxima:\n"
     ]
    },
    {
     "data": {
      "text/html": [
       "<div>\n",
       "<style scoped>\n",
       "    .dataframe tbody tr th:only-of-type {\n",
       "        vertical-align: middle;\n",
       "    }\n",
       "\n",
       "    .dataframe tbody tr th {\n",
       "        vertical-align: top;\n",
       "    }\n",
       "\n",
       "    .dataframe thead th {\n",
       "        text-align: right;\n",
       "    }\n",
       "</style>\n",
       "<table border=\"1\" class=\"dataframe\">\n",
       "  <thead>\n",
       "    <tr style=\"text-align: right;\">\n",
       "      <th></th>\n",
       "      <th>card_number</th>\n",
       "      <th>card_model</th>\n",
       "      <th>company_id</th>\n",
       "      <th>employee_id</th>\n",
       "      <th>valid_thru</th>\n",
       "      <th>status_q3_end</th>\n",
       "    </tr>\n",
       "  </thead>\n",
       "  <tbody>\n",
       "    <tr>\n",
       "      <th>0</th>\n",
       "      <td>150152835</td>\n",
       "      <td>PIN</td>\n",
       "      <td>5cf5818c6b3492639dabdf0e</td>\n",
       "      <td>606247fac815510007c03376</td>\n",
       "      <td>2023-01-31 00:00:00+00:00</td>\n",
       "      <td>OPEN</td>\n",
       "    </tr>\n",
       "    <tr>\n",
       "      <th>1</th>\n",
       "      <td>150162990</td>\n",
       "      <td>PIN</td>\n",
       "      <td>5e28a0d99311c2000897dc46</td>\n",
       "      <td>6128dfe52c16150009d1a945</td>\n",
       "      <td>2023-01-31 00:00:00+00:00</td>\n",
       "      <td>OPEN</td>\n",
       "    </tr>\n",
       "    <tr>\n",
       "      <th>3</th>\n",
       "      <td>150225330</td>\n",
       "      <td>PIN</td>\n",
       "      <td>5d9408e9b0d899000754c19b</td>\n",
       "      <td>6031be104968020008c40350</td>\n",
       "      <td>2023-01-31 00:00:00+00:00</td>\n",
       "      <td>OPEN</td>\n",
       "    </tr>\n",
       "    <tr>\n",
       "      <th>4</th>\n",
       "      <td>150234270</td>\n",
       "      <td>PIN</td>\n",
       "      <td>5d93b30434e9070007b85109</td>\n",
       "      <td>6035501ad6f91b000714abec</td>\n",
       "      <td>2023-01-31 00:00:00+00:00</td>\n",
       "      <td>OPEN</td>\n",
       "    </tr>\n",
       "    <tr>\n",
       "      <th>5</th>\n",
       "      <td>150238845</td>\n",
       "      <td>PIN</td>\n",
       "      <td>5d9408e9b0d899000754c19b</td>\n",
       "      <td>6031ba64651165000736689b</td>\n",
       "      <td>2023-01-31 00:00:00+00:00</td>\n",
       "      <td>OPEN</td>\n",
       "    </tr>\n",
       "  </tbody>\n",
       "</table>\n",
       "</div>"
      ],
      "text/plain": [
       "   card_number card_model                company_id               employee_id  \\\n",
       "0    150152835        PIN  5cf5818c6b3492639dabdf0e  606247fac815510007c03376   \n",
       "1    150162990        PIN  5e28a0d99311c2000897dc46  6128dfe52c16150009d1a945   \n",
       "3    150225330        PIN  5d9408e9b0d899000754c19b  6031be104968020008c40350   \n",
       "4    150234270        PIN  5d93b30434e9070007b85109  6035501ad6f91b000714abec   \n",
       "5    150238845        PIN  5d9408e9b0d899000754c19b  6031ba64651165000736689b   \n",
       "\n",
       "                 valid_thru status_q3_end  \n",
       "0 2023-01-31 00:00:00+00:00          OPEN  \n",
       "1 2023-01-31 00:00:00+00:00          OPEN  \n",
       "3 2023-01-31 00:00:00+00:00          OPEN  \n",
       "4 2023-01-31 00:00:00+00:00          OPEN  \n",
       "5 2023-01-31 00:00:00+00:00          OPEN  "
      ]
     },
     "metadata": {},
     "output_type": "display_data"
    },
    {
     "name": "stdout",
     "output_type": "stream",
     "text": [
      "\n",
      "Distribuição de cartões PIN com validade próxima por empresa:\n"
     ]
    },
    {
     "data": {
      "text/plain": [
       "company_id\n",
       "5e5845d509555e0007d06483    575\n",
       "5d9408e9b0d899000754c19b    575\n",
       "5f15f3ed20f6540008628942    499\n",
       "6023d0e9f22b98000701db6f    392\n",
       "60d1f118462483000902d83d    284\n",
       "602faf45145da600073b1b1f    256\n",
       "5f299d66b18f850008c4e289    249\n",
       "60509c5a9964610007cc0031    243\n",
       "61489736429d920009ff62eb    242\n",
       "60d9d19a7751350008fcb408    208\n",
       "Name: count, dtype: int64"
      ]
     },
     "metadata": {},
     "output_type": "display_data"
    }
   ],
   "source": [
    "# Definir a data limite para validade próxima (ex: 6 meses a partir do final do Q3/2023)\n",
    "expiration_cutoff_date = q3_end_2023 + pd.DateOffset(months=6)\n",
    "\n",
    "# Filtrar cartões PIN ativos no Q3/2023 com validade próxima\n",
    "pin_cards_expiring_soon = active_cards_q3_end[\n",
    "  \n",
    "    (active_cards_q3_end['card_model'] == 'PIN') &\n",
    "    \n",
    "    (active_cards_q3_end['valid_thru'] <= expiration_cutoff_date)\n",
    "]\n",
    "\n",
    "print(f'Número de cartões PIN ativos no Q3/2023 expirando nos próximos 6 meses: {len(pin_cards_expiring_soon)}')\n",
    "print('Detalhes dos cartões PIN com validade próxima:')\n",
    "display(pin_cards_expiring_soon.head())\n",
    "\n",
    "# Opcional: Analisar a distribuição por empresa desses cartões\n",
    "print('\\nDistribuição de cartões PIN com validade próxima por empresa:')\n",
    "display(pin_cards_expiring_soon['company_id'].value_counts().head(10))\n"
   ]
  },
  {
   "cell_type": "markdown",
   "metadata": {},
   "source": [
    "### 6.4. Gráfico de Pizza: Contactless vs. PIN no Q3/2023\n"
   ]
  },
  {
   "cell_type": "code",
   "execution_count": 26,
   "metadata": {},
   "outputs": [
    {
     "data": {
      "application/vnd.plotly.v1+json": {
       "config": {
        "plotlyServerURL": "https://plot.ly"
       },
       "data": [
        {
         "alignmentgroup": "True",
         "customdata": [
          [
           "79.8%"
          ]
         ],
         "hovertemplate": "Tipo de Cartão=%{y}<br>Quantidade=%{x}<br>Percentual=%{customdata[0]}<extra></extra>",
         "legendgroup": "CONTACTLESS",
         "marker": {
          "color": "#FFC1E3",
          "pattern": {
           "shape": ""
          }
         },
         "name": "CONTACTLESS",
         "offsetgroup": "CONTACTLESS",
         "orientation": "h",
         "showlegend": true,
         "textposition": "auto",
         "type": "bar",
         "x": [
          201027
         ],
         "xaxis": "x",
         "y": [
          "CONTACTLESS"
         ],
         "yaxis": "y"
        },
        {
         "alignmentgroup": "True",
         "customdata": [
          [
           "20.2%"
          ]
         ],
         "hovertemplate": "Tipo de Cartão=%{y}<br>Quantidade=%{x}<br>Percentual=%{customdata[0]}<extra></extra>",
         "legendgroup": "PIN",
         "marker": {
          "color": "#F30062",
          "pattern": {
           "shape": ""
          }
         },
         "name": "PIN",
         "offsetgroup": "PIN",
         "orientation": "h",
         "showlegend": true,
         "textposition": "auto",
         "type": "bar",
         "x": [
          50888
         ],
         "xaxis": "x",
         "y": [
          "PIN"
         ],
         "yaxis": "y"
        }
       ],
       "layout": {
        "barmode": "relative",
        "legend": {
         "title": {
          "text": "Tipo de Cartão"
         },
         "tracegroupgap": 0
        },
        "margin": {
         "t": 60
        },
        "showlegend": false,
        "template": {
         "data": {
          "bar": [
           {
            "error_x": {
             "color": "#2a3f5f"
            },
            "error_y": {
             "color": "#2a3f5f"
            },
            "marker": {
             "line": {
              "color": "white",
              "width": 0.5
             },
             "pattern": {
              "fillmode": "overlay",
              "size": 10,
              "solidity": 0.2
             }
            },
            "type": "bar"
           }
          ],
          "barpolar": [
           {
            "marker": {
             "line": {
              "color": "white",
              "width": 0.5
             },
             "pattern": {
              "fillmode": "overlay",
              "size": 10,
              "solidity": 0.2
             }
            },
            "type": "barpolar"
           }
          ],
          "carpet": [
           {
            "aaxis": {
             "endlinecolor": "#2a3f5f",
             "gridcolor": "#C8D4E3",
             "linecolor": "#C8D4E3",
             "minorgridcolor": "#C8D4E3",
             "startlinecolor": "#2a3f5f"
            },
            "baxis": {
             "endlinecolor": "#2a3f5f",
             "gridcolor": "#C8D4E3",
             "linecolor": "#C8D4E3",
             "minorgridcolor": "#C8D4E3",
             "startlinecolor": "#2a3f5f"
            },
            "type": "carpet"
           }
          ],
          "choropleth": [
           {
            "colorbar": {
             "outlinewidth": 0,
             "ticks": ""
            },
            "type": "choropleth"
           }
          ],
          "contour": [
           {
            "colorbar": {
             "outlinewidth": 0,
             "ticks": ""
            },
            "colorscale": [
             [
              0,
              "#0d0887"
             ],
             [
              0.1111111111111111,
              "#46039f"
             ],
             [
              0.2222222222222222,
              "#7201a8"
             ],
             [
              0.3333333333333333,
              "#9c179e"
             ],
             [
              0.4444444444444444,
              "#bd3786"
             ],
             [
              0.5555555555555556,
              "#d8576b"
             ],
             [
              0.6666666666666666,
              "#ed7953"
             ],
             [
              0.7777777777777778,
              "#fb9f3a"
             ],
             [
              0.8888888888888888,
              "#fdca26"
             ],
             [
              1,
              "#f0f921"
             ]
            ],
            "type": "contour"
           }
          ],
          "contourcarpet": [
           {
            "colorbar": {
             "outlinewidth": 0,
             "ticks": ""
            },
            "type": "contourcarpet"
           }
          ],
          "heatmap": [
           {
            "colorbar": {
             "outlinewidth": 0,
             "ticks": ""
            },
            "colorscale": [
             [
              0,
              "#0d0887"
             ],
             [
              0.1111111111111111,
              "#46039f"
             ],
             [
              0.2222222222222222,
              "#7201a8"
             ],
             [
              0.3333333333333333,
              "#9c179e"
             ],
             [
              0.4444444444444444,
              "#bd3786"
             ],
             [
              0.5555555555555556,
              "#d8576b"
             ],
             [
              0.6666666666666666,
              "#ed7953"
             ],
             [
              0.7777777777777778,
              "#fb9f3a"
             ],
             [
              0.8888888888888888,
              "#fdca26"
             ],
             [
              1,
              "#f0f921"
             ]
            ],
            "type": "heatmap"
           }
          ],
          "heatmapgl": [
           {
            "colorbar": {
             "outlinewidth": 0,
             "ticks": ""
            },
            "colorscale": [
             [
              0,
              "#0d0887"
             ],
             [
              0.1111111111111111,
              "#46039f"
             ],
             [
              0.2222222222222222,
              "#7201a8"
             ],
             [
              0.3333333333333333,
              "#9c179e"
             ],
             [
              0.4444444444444444,
              "#bd3786"
             ],
             [
              0.5555555555555556,
              "#d8576b"
             ],
             [
              0.6666666666666666,
              "#ed7953"
             ],
             [
              0.7777777777777778,
              "#fb9f3a"
             ],
             [
              0.8888888888888888,
              "#fdca26"
             ],
             [
              1,
              "#f0f921"
             ]
            ],
            "type": "heatmapgl"
           }
          ],
          "histogram": [
           {
            "marker": {
             "pattern": {
              "fillmode": "overlay",
              "size": 10,
              "solidity": 0.2
             }
            },
            "type": "histogram"
           }
          ],
          "histogram2d": [
           {
            "colorbar": {
             "outlinewidth": 0,
             "ticks": ""
            },
            "colorscale": [
             [
              0,
              "#0d0887"
             ],
             [
              0.1111111111111111,
              "#46039f"
             ],
             [
              0.2222222222222222,
              "#7201a8"
             ],
             [
              0.3333333333333333,
              "#9c179e"
             ],
             [
              0.4444444444444444,
              "#bd3786"
             ],
             [
              0.5555555555555556,
              "#d8576b"
             ],
             [
              0.6666666666666666,
              "#ed7953"
             ],
             [
              0.7777777777777778,
              "#fb9f3a"
             ],
             [
              0.8888888888888888,
              "#fdca26"
             ],
             [
              1,
              "#f0f921"
             ]
            ],
            "type": "histogram2d"
           }
          ],
          "histogram2dcontour": [
           {
            "colorbar": {
             "outlinewidth": 0,
             "ticks": ""
            },
            "colorscale": [
             [
              0,
              "#0d0887"
             ],
             [
              0.1111111111111111,
              "#46039f"
             ],
             [
              0.2222222222222222,
              "#7201a8"
             ],
             [
              0.3333333333333333,
              "#9c179e"
             ],
             [
              0.4444444444444444,
              "#bd3786"
             ],
             [
              0.5555555555555556,
              "#d8576b"
             ],
             [
              0.6666666666666666,
              "#ed7953"
             ],
             [
              0.7777777777777778,
              "#fb9f3a"
             ],
             [
              0.8888888888888888,
              "#fdca26"
             ],
             [
              1,
              "#f0f921"
             ]
            ],
            "type": "histogram2dcontour"
           }
          ],
          "mesh3d": [
           {
            "colorbar": {
             "outlinewidth": 0,
             "ticks": ""
            },
            "type": "mesh3d"
           }
          ],
          "parcoords": [
           {
            "line": {
             "colorbar": {
              "outlinewidth": 0,
              "ticks": ""
             }
            },
            "type": "parcoords"
           }
          ],
          "pie": [
           {
            "automargin": true,
            "type": "pie"
           }
          ],
          "scatter": [
           {
            "fillpattern": {
             "fillmode": "overlay",
             "size": 10,
             "solidity": 0.2
            },
            "type": "scatter"
           }
          ],
          "scatter3d": [
           {
            "line": {
             "colorbar": {
              "outlinewidth": 0,
              "ticks": ""
             }
            },
            "marker": {
             "colorbar": {
              "outlinewidth": 0,
              "ticks": ""
             }
            },
            "type": "scatter3d"
           }
          ],
          "scattercarpet": [
           {
            "marker": {
             "colorbar": {
              "outlinewidth": 0,
              "ticks": ""
             }
            },
            "type": "scattercarpet"
           }
          ],
          "scattergeo": [
           {
            "marker": {
             "colorbar": {
              "outlinewidth": 0,
              "ticks": ""
             }
            },
            "type": "scattergeo"
           }
          ],
          "scattergl": [
           {
            "marker": {
             "colorbar": {
              "outlinewidth": 0,
              "ticks": ""
             }
            },
            "type": "scattergl"
           }
          ],
          "scattermapbox": [
           {
            "marker": {
             "colorbar": {
              "outlinewidth": 0,
              "ticks": ""
             }
            },
            "type": "scattermapbox"
           }
          ],
          "scatterpolar": [
           {
            "marker": {
             "colorbar": {
              "outlinewidth": 0,
              "ticks": ""
             }
            },
            "type": "scatterpolar"
           }
          ],
          "scatterpolargl": [
           {
            "marker": {
             "colorbar": {
              "outlinewidth": 0,
              "ticks": ""
             }
            },
            "type": "scatterpolargl"
           }
          ],
          "scatterternary": [
           {
            "marker": {
             "colorbar": {
              "outlinewidth": 0,
              "ticks": ""
             }
            },
            "type": "scatterternary"
           }
          ],
          "surface": [
           {
            "colorbar": {
             "outlinewidth": 0,
             "ticks": ""
            },
            "colorscale": [
             [
              0,
              "#0d0887"
             ],
             [
              0.1111111111111111,
              "#46039f"
             ],
             [
              0.2222222222222222,
              "#7201a8"
             ],
             [
              0.3333333333333333,
              "#9c179e"
             ],
             [
              0.4444444444444444,
              "#bd3786"
             ],
             [
              0.5555555555555556,
              "#d8576b"
             ],
             [
              0.6666666666666666,
              "#ed7953"
             ],
             [
              0.7777777777777778,
              "#fb9f3a"
             ],
             [
              0.8888888888888888,
              "#fdca26"
             ],
             [
              1,
              "#f0f921"
             ]
            ],
            "type": "surface"
           }
          ],
          "table": [
           {
            "cells": {
             "fill": {
              "color": "#EBF0F8"
             },
             "line": {
              "color": "white"
             }
            },
            "header": {
             "fill": {
              "color": "#C8D4E3"
             },
             "line": {
              "color": "white"
             }
            },
            "type": "table"
           }
          ]
         },
         "layout": {
          "annotationdefaults": {
           "arrowcolor": "#2a3f5f",
           "arrowhead": 0,
           "arrowwidth": 1
          },
          "autotypenumbers": "strict",
          "coloraxis": {
           "colorbar": {
            "outlinewidth": 0,
            "ticks": ""
           }
          },
          "colorscale": {
           "diverging": [
            [
             0,
             "#8e0152"
            ],
            [
             0.1,
             "#c51b7d"
            ],
            [
             0.2,
             "#de77ae"
            ],
            [
             0.3,
             "#f1b6da"
            ],
            [
             0.4,
             "#fde0ef"
            ],
            [
             0.5,
             "#f7f7f7"
            ],
            [
             0.6,
             "#e6f5d0"
            ],
            [
             0.7,
             "#b8e186"
            ],
            [
             0.8,
             "#7fbc41"
            ],
            [
             0.9,
             "#4d9221"
            ],
            [
             1,
             "#276419"
            ]
           ],
           "sequential": [
            [
             0,
             "#0d0887"
            ],
            [
             0.1111111111111111,
             "#46039f"
            ],
            [
             0.2222222222222222,
             "#7201a8"
            ],
            [
             0.3333333333333333,
             "#9c179e"
            ],
            [
             0.4444444444444444,
             "#bd3786"
            ],
            [
             0.5555555555555556,
             "#d8576b"
            ],
            [
             0.6666666666666666,
             "#ed7953"
            ],
            [
             0.7777777777777778,
             "#fb9f3a"
            ],
            [
             0.8888888888888888,
             "#fdca26"
            ],
            [
             1,
             "#f0f921"
            ]
           ],
           "sequentialminus": [
            [
             0,
             "#0d0887"
            ],
            [
             0.1111111111111111,
             "#46039f"
            ],
            [
             0.2222222222222222,
             "#7201a8"
            ],
            [
             0.3333333333333333,
             "#9c179e"
            ],
            [
             0.4444444444444444,
             "#bd3786"
            ],
            [
             0.5555555555555556,
             "#d8576b"
            ],
            [
             0.6666666666666666,
             "#ed7953"
            ],
            [
             0.7777777777777778,
             "#fb9f3a"
            ],
            [
             0.8888888888888888,
             "#fdca26"
            ],
            [
             1,
             "#f0f921"
            ]
           ]
          },
          "colorway": [
           "#636efa",
           "#EF553B",
           "#00cc96",
           "#ab63fa",
           "#FFA15A",
           "#19d3f3",
           "#FF6692",
           "#B6E880",
           "#FF97FF",
           "#FECB52"
          ],
          "font": {
           "color": "#2a3f5f"
          },
          "geo": {
           "bgcolor": "white",
           "lakecolor": "white",
           "landcolor": "white",
           "showlakes": true,
           "showland": true,
           "subunitcolor": "#C8D4E3"
          },
          "hoverlabel": {
           "align": "left"
          },
          "hovermode": "closest",
          "mapbox": {
           "style": "light"
          },
          "paper_bgcolor": "white",
          "plot_bgcolor": "white",
          "polar": {
           "angularaxis": {
            "gridcolor": "#EBF0F8",
            "linecolor": "#EBF0F8",
            "ticks": ""
           },
           "bgcolor": "white",
           "radialaxis": {
            "gridcolor": "#EBF0F8",
            "linecolor": "#EBF0F8",
            "ticks": ""
           }
          },
          "scene": {
           "xaxis": {
            "backgroundcolor": "white",
            "gridcolor": "#DFE8F3",
            "gridwidth": 2,
            "linecolor": "#EBF0F8",
            "showbackground": true,
            "ticks": "",
            "zerolinecolor": "#EBF0F8"
           },
           "yaxis": {
            "backgroundcolor": "white",
            "gridcolor": "#DFE8F3",
            "gridwidth": 2,
            "linecolor": "#EBF0F8",
            "showbackground": true,
            "ticks": "",
            "zerolinecolor": "#EBF0F8"
           },
           "zaxis": {
            "backgroundcolor": "white",
            "gridcolor": "#DFE8F3",
            "gridwidth": 2,
            "linecolor": "#EBF0F8",
            "showbackground": true,
            "ticks": "",
            "zerolinecolor": "#EBF0F8"
           }
          },
          "shapedefaults": {
           "line": {
            "color": "#2a3f5f"
           }
          },
          "ternary": {
           "aaxis": {
            "gridcolor": "#DFE8F3",
            "linecolor": "#A2B1C6",
            "ticks": ""
           },
           "baxis": {
            "gridcolor": "#DFE8F3",
            "linecolor": "#A2B1C6",
            "ticks": ""
           },
           "bgcolor": "white",
           "caxis": {
            "gridcolor": "#DFE8F3",
            "linecolor": "#A2B1C6",
            "ticks": ""
           }
          },
          "title": {
           "x": 0.05
          },
          "xaxis": {
           "automargin": true,
           "gridcolor": "#EBF0F8",
           "linecolor": "#EBF0F8",
           "ticks": "",
           "title": {
            "standoff": 15
           },
           "zerolinecolor": "#EBF0F8",
           "zerolinewidth": 2
          },
          "yaxis": {
           "automargin": true,
           "gridcolor": "#EBF0F8",
           "linecolor": "#EBF0F8",
           "ticks": "",
           "title": {
            "standoff": 15
           },
           "zerolinecolor": "#EBF0F8",
           "zerolinewidth": 2
          }
         }
        },
        "title": {
         "text": "Distribuição de Cartões Ativos (Contactless vs. PIN) no Final do Q3/2023"
        },
        "xaxis": {
         "anchor": "y",
         "domain": [
          0,
          1
         ],
         "title": {
          "text": "Quantidade de Cartões"
         }
        },
        "yaxis": {
         "anchor": "x",
         "categoryarray": [
          "PIN",
          "CONTACTLESS"
         ],
         "categoryorder": "array",
         "domain": [
          0,
          1
         ],
         "title": {
          "text": ""
         }
        }
       }
      }
     },
     "metadata": {},
     "output_type": "display_data"
    }
   ],
   "source": [
    "import pandas as pd\n",
    "import plotly.express as px\n",
    "import os  # Adicionado para corrigir o erro\n",
    "\n",
    "labels = contactless_counts.index\n",
    "sizes = contactless_counts.values\n",
    "total = sum(sizes)\n",
    "\n",
    "df = pd.DataFrame({\n",
    "    'Tipo de Cartão': labels,\n",
    "    'Quantidade': sizes,\n",
    "    'Percentual': [f'{(v/total):.1%}' for v in sizes]\n",
    "})\n",
    "\n",
    "# Escolher rosa claro e escuro da marca Flash\n",
    "cores_flash = ['#FFC1E3', '#F30062']\n",
    "\n",
    "fig = px.bar(\n",
    "    df,\n",
    "    x='Quantidade',\n",
    "    y='Tipo de Cartão',\n",
    "    orientation='h',\n",
    "    color='Tipo de Cartão',\n",
    "    color_discrete_sequence=cores_flash,\n",
    "    hover_data={'Quantidade': True, 'Percentual': True}\n",
    ")\n",
    "\n",
    "fig.update_layout(\n",
    "    title='Distribuição de Cartões Ativos (Contactless vs. PIN) no Final do Q3/2023',\n",
    "    xaxis_title='Quantidade de Cartões',\n",
    "    yaxis_title='',\n",
    "    template='plotly_white',\n",
    "    showlegend=False\n",
    ")\n",
    "\n",
    "fig.write_html(os.path.join(output_dir, 'contactless_vs_pin_flash.html'))\n",
    "fig.show()\n",
    "\n"
   ]
  },
  {
   "cell_type": "markdown",
   "metadata": {},
   "source": [
    "### 6.5. Gráfico de Barras: Top Empresas com maior concentração de PIN\n"
   ]
  },
  {
   "cell_type": "code",
   "execution_count": 25,
   "metadata": {},
   "outputs": [
    {
     "data": {
      "application/vnd.plotly.v1+json": {
       "config": {
        "plotlyServerURL": "https://plot.ly"
       },
       "data": [
        {
         "alignmentgroup": "True",
         "hovertemplate": "Contagem de Cartões PIN=%{marker.color}<br>Company_ID=%{y}<extra></extra>",
         "legendgroup": "",
         "marker": {
          "color": [
           575,
           575,
           499,
           392,
           284,
           256,
           249,
           243,
           242,
           208
          ],
          "coloraxis": "coloraxis",
          "pattern": {
           "shape": ""
          }
         },
         "name": "",
         "offsetgroup": "",
         "orientation": "h",
         "showlegend": false,
         "textposition": "auto",
         "type": "bar",
         "x": [
          575,
          575,
          499,
          392,
          284,
          256,
          249,
          243,
          242,
          208
         ],
         "xaxis": "x",
         "y": [
          "5e5845d509555e0007d06483",
          "5d9408e9b0d899000754c19b",
          "5f15f3ed20f6540008628942",
          "6023d0e9f22b98000701db6f",
          "60d1f118462483000902d83d",
          "602faf45145da600073b1b1f",
          "5f299d66b18f850008c4e289",
          "60509c5a9964610007cc0031",
          "61489736429d920009ff62eb",
          "60d9d19a7751350008fcb408"
         ],
         "yaxis": "y"
        }
       ],
       "layout": {
        "barmode": "relative",
        "coloraxis": {
         "colorbar": {
          "title": {
           "text": "Contagem de Cartões PIN"
          }
         },
         "colorscale": [
          [
           0,
           "#FFC1E3"
          ],
          [
           1,
           "#F30062"
          ]
         ],
         "showscale": false
        },
        "legend": {
         "tracegroupgap": 0
        },
        "margin": {
         "t": 60
        },
        "template": {
         "data": {
          "bar": [
           {
            "error_x": {
             "color": "#2a3f5f"
            },
            "error_y": {
             "color": "#2a3f5f"
            },
            "marker": {
             "line": {
              "color": "white",
              "width": 0.5
             },
             "pattern": {
              "fillmode": "overlay",
              "size": 10,
              "solidity": 0.2
             }
            },
            "type": "bar"
           }
          ],
          "barpolar": [
           {
            "marker": {
             "line": {
              "color": "white",
              "width": 0.5
             },
             "pattern": {
              "fillmode": "overlay",
              "size": 10,
              "solidity": 0.2
             }
            },
            "type": "barpolar"
           }
          ],
          "carpet": [
           {
            "aaxis": {
             "endlinecolor": "#2a3f5f",
             "gridcolor": "#C8D4E3",
             "linecolor": "#C8D4E3",
             "minorgridcolor": "#C8D4E3",
             "startlinecolor": "#2a3f5f"
            },
            "baxis": {
             "endlinecolor": "#2a3f5f",
             "gridcolor": "#C8D4E3",
             "linecolor": "#C8D4E3",
             "minorgridcolor": "#C8D4E3",
             "startlinecolor": "#2a3f5f"
            },
            "type": "carpet"
           }
          ],
          "choropleth": [
           {
            "colorbar": {
             "outlinewidth": 0,
             "ticks": ""
            },
            "type": "choropleth"
           }
          ],
          "contour": [
           {
            "colorbar": {
             "outlinewidth": 0,
             "ticks": ""
            },
            "colorscale": [
             [
              0,
              "#0d0887"
             ],
             [
              0.1111111111111111,
              "#46039f"
             ],
             [
              0.2222222222222222,
              "#7201a8"
             ],
             [
              0.3333333333333333,
              "#9c179e"
             ],
             [
              0.4444444444444444,
              "#bd3786"
             ],
             [
              0.5555555555555556,
              "#d8576b"
             ],
             [
              0.6666666666666666,
              "#ed7953"
             ],
             [
              0.7777777777777778,
              "#fb9f3a"
             ],
             [
              0.8888888888888888,
              "#fdca26"
             ],
             [
              1,
              "#f0f921"
             ]
            ],
            "type": "contour"
           }
          ],
          "contourcarpet": [
           {
            "colorbar": {
             "outlinewidth": 0,
             "ticks": ""
            },
            "type": "contourcarpet"
           }
          ],
          "heatmap": [
           {
            "colorbar": {
             "outlinewidth": 0,
             "ticks": ""
            },
            "colorscale": [
             [
              0,
              "#0d0887"
             ],
             [
              0.1111111111111111,
              "#46039f"
             ],
             [
              0.2222222222222222,
              "#7201a8"
             ],
             [
              0.3333333333333333,
              "#9c179e"
             ],
             [
              0.4444444444444444,
              "#bd3786"
             ],
             [
              0.5555555555555556,
              "#d8576b"
             ],
             [
              0.6666666666666666,
              "#ed7953"
             ],
             [
              0.7777777777777778,
              "#fb9f3a"
             ],
             [
              0.8888888888888888,
              "#fdca26"
             ],
             [
              1,
              "#f0f921"
             ]
            ],
            "type": "heatmap"
           }
          ],
          "heatmapgl": [
           {
            "colorbar": {
             "outlinewidth": 0,
             "ticks": ""
            },
            "colorscale": [
             [
              0,
              "#0d0887"
             ],
             [
              0.1111111111111111,
              "#46039f"
             ],
             [
              0.2222222222222222,
              "#7201a8"
             ],
             [
              0.3333333333333333,
              "#9c179e"
             ],
             [
              0.4444444444444444,
              "#bd3786"
             ],
             [
              0.5555555555555556,
              "#d8576b"
             ],
             [
              0.6666666666666666,
              "#ed7953"
             ],
             [
              0.7777777777777778,
              "#fb9f3a"
             ],
             [
              0.8888888888888888,
              "#fdca26"
             ],
             [
              1,
              "#f0f921"
             ]
            ],
            "type": "heatmapgl"
           }
          ],
          "histogram": [
           {
            "marker": {
             "pattern": {
              "fillmode": "overlay",
              "size": 10,
              "solidity": 0.2
             }
            },
            "type": "histogram"
           }
          ],
          "histogram2d": [
           {
            "colorbar": {
             "outlinewidth": 0,
             "ticks": ""
            },
            "colorscale": [
             [
              0,
              "#0d0887"
             ],
             [
              0.1111111111111111,
              "#46039f"
             ],
             [
              0.2222222222222222,
              "#7201a8"
             ],
             [
              0.3333333333333333,
              "#9c179e"
             ],
             [
              0.4444444444444444,
              "#bd3786"
             ],
             [
              0.5555555555555556,
              "#d8576b"
             ],
             [
              0.6666666666666666,
              "#ed7953"
             ],
             [
              0.7777777777777778,
              "#fb9f3a"
             ],
             [
              0.8888888888888888,
              "#fdca26"
             ],
             [
              1,
              "#f0f921"
             ]
            ],
            "type": "histogram2d"
           }
          ],
          "histogram2dcontour": [
           {
            "colorbar": {
             "outlinewidth": 0,
             "ticks": ""
            },
            "colorscale": [
             [
              0,
              "#0d0887"
             ],
             [
              0.1111111111111111,
              "#46039f"
             ],
             [
              0.2222222222222222,
              "#7201a8"
             ],
             [
              0.3333333333333333,
              "#9c179e"
             ],
             [
              0.4444444444444444,
              "#bd3786"
             ],
             [
              0.5555555555555556,
              "#d8576b"
             ],
             [
              0.6666666666666666,
              "#ed7953"
             ],
             [
              0.7777777777777778,
              "#fb9f3a"
             ],
             [
              0.8888888888888888,
              "#fdca26"
             ],
             [
              1,
              "#f0f921"
             ]
            ],
            "type": "histogram2dcontour"
           }
          ],
          "mesh3d": [
           {
            "colorbar": {
             "outlinewidth": 0,
             "ticks": ""
            },
            "type": "mesh3d"
           }
          ],
          "parcoords": [
           {
            "line": {
             "colorbar": {
              "outlinewidth": 0,
              "ticks": ""
             }
            },
            "type": "parcoords"
           }
          ],
          "pie": [
           {
            "automargin": true,
            "type": "pie"
           }
          ],
          "scatter": [
           {
            "fillpattern": {
             "fillmode": "overlay",
             "size": 10,
             "solidity": 0.2
            },
            "type": "scatter"
           }
          ],
          "scatter3d": [
           {
            "line": {
             "colorbar": {
              "outlinewidth": 0,
              "ticks": ""
             }
            },
            "marker": {
             "colorbar": {
              "outlinewidth": 0,
              "ticks": ""
             }
            },
            "type": "scatter3d"
           }
          ],
          "scattercarpet": [
           {
            "marker": {
             "colorbar": {
              "outlinewidth": 0,
              "ticks": ""
             }
            },
            "type": "scattercarpet"
           }
          ],
          "scattergeo": [
           {
            "marker": {
             "colorbar": {
              "outlinewidth": 0,
              "ticks": ""
             }
            },
            "type": "scattergeo"
           }
          ],
          "scattergl": [
           {
            "marker": {
             "colorbar": {
              "outlinewidth": 0,
              "ticks": ""
             }
            },
            "type": "scattergl"
           }
          ],
          "scattermapbox": [
           {
            "marker": {
             "colorbar": {
              "outlinewidth": 0,
              "ticks": ""
             }
            },
            "type": "scattermapbox"
           }
          ],
          "scatterpolar": [
           {
            "marker": {
             "colorbar": {
              "outlinewidth": 0,
              "ticks": ""
             }
            },
            "type": "scatterpolar"
           }
          ],
          "scatterpolargl": [
           {
            "marker": {
             "colorbar": {
              "outlinewidth": 0,
              "ticks": ""
             }
            },
            "type": "scatterpolargl"
           }
          ],
          "scatterternary": [
           {
            "marker": {
             "colorbar": {
              "outlinewidth": 0,
              "ticks": ""
             }
            },
            "type": "scatterternary"
           }
          ],
          "surface": [
           {
            "colorbar": {
             "outlinewidth": 0,
             "ticks": ""
            },
            "colorscale": [
             [
              0,
              "#0d0887"
             ],
             [
              0.1111111111111111,
              "#46039f"
             ],
             [
              0.2222222222222222,
              "#7201a8"
             ],
             [
              0.3333333333333333,
              "#9c179e"
             ],
             [
              0.4444444444444444,
              "#bd3786"
             ],
             [
              0.5555555555555556,
              "#d8576b"
             ],
             [
              0.6666666666666666,
              "#ed7953"
             ],
             [
              0.7777777777777778,
              "#fb9f3a"
             ],
             [
              0.8888888888888888,
              "#fdca26"
             ],
             [
              1,
              "#f0f921"
             ]
            ],
            "type": "surface"
           }
          ],
          "table": [
           {
            "cells": {
             "fill": {
              "color": "#EBF0F8"
             },
             "line": {
              "color": "white"
             }
            },
            "header": {
             "fill": {
              "color": "#C8D4E3"
             },
             "line": {
              "color": "white"
             }
            },
            "type": "table"
           }
          ]
         },
         "layout": {
          "annotationdefaults": {
           "arrowcolor": "#2a3f5f",
           "arrowhead": 0,
           "arrowwidth": 1
          },
          "autotypenumbers": "strict",
          "coloraxis": {
           "colorbar": {
            "outlinewidth": 0,
            "ticks": ""
           }
          },
          "colorscale": {
           "diverging": [
            [
             0,
             "#8e0152"
            ],
            [
             0.1,
             "#c51b7d"
            ],
            [
             0.2,
             "#de77ae"
            ],
            [
             0.3,
             "#f1b6da"
            ],
            [
             0.4,
             "#fde0ef"
            ],
            [
             0.5,
             "#f7f7f7"
            ],
            [
             0.6,
             "#e6f5d0"
            ],
            [
             0.7,
             "#b8e186"
            ],
            [
             0.8,
             "#7fbc41"
            ],
            [
             0.9,
             "#4d9221"
            ],
            [
             1,
             "#276419"
            ]
           ],
           "sequential": [
            [
             0,
             "#0d0887"
            ],
            [
             0.1111111111111111,
             "#46039f"
            ],
            [
             0.2222222222222222,
             "#7201a8"
            ],
            [
             0.3333333333333333,
             "#9c179e"
            ],
            [
             0.4444444444444444,
             "#bd3786"
            ],
            [
             0.5555555555555556,
             "#d8576b"
            ],
            [
             0.6666666666666666,
             "#ed7953"
            ],
            [
             0.7777777777777778,
             "#fb9f3a"
            ],
            [
             0.8888888888888888,
             "#fdca26"
            ],
            [
             1,
             "#f0f921"
            ]
           ],
           "sequentialminus": [
            [
             0,
             "#0d0887"
            ],
            [
             0.1111111111111111,
             "#46039f"
            ],
            [
             0.2222222222222222,
             "#7201a8"
            ],
            [
             0.3333333333333333,
             "#9c179e"
            ],
            [
             0.4444444444444444,
             "#bd3786"
            ],
            [
             0.5555555555555556,
             "#d8576b"
            ],
            [
             0.6666666666666666,
             "#ed7953"
            ],
            [
             0.7777777777777778,
             "#fb9f3a"
            ],
            [
             0.8888888888888888,
             "#fdca26"
            ],
            [
             1,
             "#f0f921"
            ]
           ]
          },
          "colorway": [
           "#636efa",
           "#EF553B",
           "#00cc96",
           "#ab63fa",
           "#FFA15A",
           "#19d3f3",
           "#FF6692",
           "#B6E880",
           "#FF97FF",
           "#FECB52"
          ],
          "font": {
           "color": "#2a3f5f"
          },
          "geo": {
           "bgcolor": "white",
           "lakecolor": "white",
           "landcolor": "white",
           "showlakes": true,
           "showland": true,
           "subunitcolor": "#C8D4E3"
          },
          "hoverlabel": {
           "align": "left"
          },
          "hovermode": "closest",
          "mapbox": {
           "style": "light"
          },
          "paper_bgcolor": "white",
          "plot_bgcolor": "white",
          "polar": {
           "angularaxis": {
            "gridcolor": "#EBF0F8",
            "linecolor": "#EBF0F8",
            "ticks": ""
           },
           "bgcolor": "white",
           "radialaxis": {
            "gridcolor": "#EBF0F8",
            "linecolor": "#EBF0F8",
            "ticks": ""
           }
          },
          "scene": {
           "xaxis": {
            "backgroundcolor": "white",
            "gridcolor": "#DFE8F3",
            "gridwidth": 2,
            "linecolor": "#EBF0F8",
            "showbackground": true,
            "ticks": "",
            "zerolinecolor": "#EBF0F8"
           },
           "yaxis": {
            "backgroundcolor": "white",
            "gridcolor": "#DFE8F3",
            "gridwidth": 2,
            "linecolor": "#EBF0F8",
            "showbackground": true,
            "ticks": "",
            "zerolinecolor": "#EBF0F8"
           },
           "zaxis": {
            "backgroundcolor": "white",
            "gridcolor": "#DFE8F3",
            "gridwidth": 2,
            "linecolor": "#EBF0F8",
            "showbackground": true,
            "ticks": "",
            "zerolinecolor": "#EBF0F8"
           }
          },
          "shapedefaults": {
           "line": {
            "color": "#2a3f5f"
           }
          },
          "ternary": {
           "aaxis": {
            "gridcolor": "#DFE8F3",
            "linecolor": "#A2B1C6",
            "ticks": ""
           },
           "baxis": {
            "gridcolor": "#DFE8F3",
            "linecolor": "#A2B1C6",
            "ticks": ""
           },
           "bgcolor": "white",
           "caxis": {
            "gridcolor": "#DFE8F3",
            "linecolor": "#A2B1C6",
            "ticks": ""
           }
          },
          "title": {
           "x": 0.05
          },
          "xaxis": {
           "automargin": true,
           "gridcolor": "#EBF0F8",
           "linecolor": "#EBF0F8",
           "ticks": "",
           "title": {
            "standoff": 15
           },
           "zerolinecolor": "#EBF0F8",
           "zerolinewidth": 2
          },
          "yaxis": {
           "automargin": true,
           "gridcolor": "#EBF0F8",
           "linecolor": "#EBF0F8",
           "ticks": "",
           "title": {
            "standoff": 15
           },
           "zerolinecolor": "#EBF0F8",
           "zerolinewidth": 2
          }
         }
        },
        "title": {
         "text": "Top 10 Empresas com Maior Concentração de Cartões PIN (Q3/2023)"
        },
        "xaxis": {
         "anchor": "y",
         "domain": [
          0,
          1
         ],
         "title": {
          "text": "Número de Cartões PIN"
         }
        },
        "yaxis": {
         "anchor": "x",
         "autorange": "reversed",
         "domain": [
          0,
          1
         ],
         "title": {
          "text": "ID da Empresa"
         }
        }
       }
      }
     },
     "metadata": {},
     "output_type": "display_data"
    }
   ],
   "source": [
    "import plotly.express as px\n",
    "import os\n",
    "\n",
    "output_dir = 'flash_case/outputs'\n",
    "os.makedirs(output_dir, exist_ok=True)\n",
    "\n",
    "top_10_pin_companies = pin_cards_by_company.head(10)\n",
    "\n",
    "fig = px.bar(\n",
    "    top_10_pin_companies,\n",
    "    x='Contagem de Cartões PIN',\n",
    "    y='Company_ID',\n",
    "    orientation='h',\n",
    "    color='Contagem de Cartões PIN',\n",
    "    color_continuous_scale=['#FFC1E3', '#F30062'],  # gradiente rosa Flash\n",
    "    hover_data={'Contagem de Cartões PIN': True}\n",
    ")\n",
    "\n",
    "fig.update_layout(\n",
    "    title='Top 10 Empresas com Maior Concentração de Cartões PIN (Q3/2023)',\n",
    "    xaxis_title='Número de Cartões PIN',\n",
    "    yaxis_title='ID da Empresa',\n",
    "    yaxis=dict(autorange=\"reversed\"),\n",
    "    template='plotly_white',\n",
    "    coloraxis_showscale=False\n",
    ")\n",
    "\n",
    "fig.write_html(os.path.join(output_dir, 'top_companies_pin_flash.html'))\n",
    "fig.show()\n",
    "\n",
    "\n"
   ]
  },
  {
   "cell_type": "markdown",
   "metadata": {},
   "source": [
    "## 7. Insights Estratégicos (Questão 3)\n"
   ]
  },
  {
   "cell_type": "markdown",
   "metadata": {},
   "source": [
    "### 7.1. Bloqueios Retidos e Tempo Médio de Bloqueio\n"
   ]
  },
  {
   "cell_type": "code",
   "execution_count": 27,
   "metadata": {},
   "outputs": [
    {
     "name": "stdout",
     "output_type": "stream",
     "text": [
      "Número de eventos de bloqueio que não foram reativados ou terminados: 36217\n",
      "\n",
      "Exemplos de cartões com bloqueios retidos:\n"
     ]
    },
    {
     "data": {
      "text/html": [
       "<div>\n",
       "<style scoped>\n",
       "    .dataframe tbody tr th:only-of-type {\n",
       "        vertical-align: middle;\n",
       "    }\n",
       "\n",
       "    .dataframe tbody tr th {\n",
       "        vertical-align: top;\n",
       "    }\n",
       "\n",
       "    .dataframe thead th {\n",
       "        text-align: right;\n",
       "    }\n",
       "</style>\n",
       "<table border=\"1\" class=\"dataframe\">\n",
       "  <thead>\n",
       "    <tr style=\"text-align: right;\">\n",
       "      <th></th>\n",
       "      <th>card_number</th>\n",
       "      <th>started_at</th>\n",
       "      <th>card_status</th>\n",
       "      <th>next_status</th>\n",
       "    </tr>\n",
       "  </thead>\n",
       "  <tbody>\n",
       "    <tr>\n",
       "      <th>279662</th>\n",
       "      <td>114613725</td>\n",
       "      <td>2022-12-23 00:00:00+00:00</td>\n",
       "      <td>TEMPORARILY_BLOCKED</td>\n",
       "      <td>NaN</td>\n",
       "    </tr>\n",
       "    <tr>\n",
       "      <th>78401</th>\n",
       "      <td>114659880</td>\n",
       "      <td>2023-02-02 00:00:00+00:00</td>\n",
       "      <td>TEMPORARILY_BLOCKED</td>\n",
       "      <td>NaN</td>\n",
       "    </tr>\n",
       "    <tr>\n",
       "      <th>358993</th>\n",
       "      <td>114719160</td>\n",
       "      <td>2023-02-02 00:00:00+00:00</td>\n",
       "      <td>TEMPORARILY_BLOCKED</td>\n",
       "      <td>NaN</td>\n",
       "    </tr>\n",
       "    <tr>\n",
       "      <th>319743</th>\n",
       "      <td>116680095</td>\n",
       "      <td>2023-01-11 00:00:00+00:00</td>\n",
       "      <td>TEMPORARILY_BLOCKED</td>\n",
       "      <td>NaN</td>\n",
       "    </tr>\n",
       "    <tr>\n",
       "      <th>159744</th>\n",
       "      <td>117405135</td>\n",
       "      <td>2023-02-01 00:00:00+00:00</td>\n",
       "      <td>TEMPORARILY_BLOCKED</td>\n",
       "      <td>NaN</td>\n",
       "    </tr>\n",
       "  </tbody>\n",
       "</table>\n",
       "</div>"
      ],
      "text/plain": [
       "        card_number                started_at          card_status next_status\n",
       "279662    114613725 2022-12-23 00:00:00+00:00  TEMPORARILY_BLOCKED         NaN\n",
       "78401     114659880 2023-02-02 00:00:00+00:00  TEMPORARILY_BLOCKED         NaN\n",
       "358993    114719160 2023-02-02 00:00:00+00:00  TEMPORARILY_BLOCKED         NaN\n",
       "319743    116680095 2023-01-11 00:00:00+00:00  TEMPORARILY_BLOCKED         NaN\n",
       "159744    117405135 2023-02-01 00:00:00+00:00  TEMPORARILY_BLOCKED         NaN"
      ]
     },
     "metadata": {},
     "output_type": "display_data"
    },
    {
     "name": "stdout",
     "output_type": "stream",
     "text": [
      "\n",
      "Tempo médio de bloqueio (dias) para bloqueios com data de término: 3.75 dias\n",
      "\n",
      "Recomendações para Cartões com Bloqueios Retidos (ou longos):\n",
      "- Implementar um sistema de alertas para bloqueios que excedam um certo período (ex: 30 dias).\n",
      "- Propor campanhas de reativação para clientes com cartões bloqueados temporariamente por longos períodos.\n",
      "- Oferecer suporte proativo para entender a causa do bloqueio e auxiliar na resolução.\n",
      "- Analisar os motivos mais comuns de bloqueio para identificar tendências e pontos de melhoria no processo.\n"
     ]
    }
   ],
   "source": [
    "# Identificar cartões que ficaram 'temporariamente bloqueados' e não mudaram de status no trimestre seguinte\n",
    "# Vamos considerar os status iniciados no Q1 e Q2 de 2023\n",
    "# 1. ORDENAÇÃO: Garante que os status de cada cartão estão em ordem cronológica.\n",
    "\n",
    "cards_status_sorted = cards_status.sort_values(by=['card_number', 'started_at'])\n",
    "\n",
    "# 2. CRIAÇÃO DA COLUNA 'next_status':\n",
    "# Usamos groupby() e shift(-1) para criar uma nova coluna que contém o status\n",
    "# subsequente para cada cartão. Para o último status de um cartão, o valor será NaT (Not a Time).\n",
    "cards_status_sorted['next_status'] = cards_status_sorted.groupby('card_number')['card_status'].shift(-1)\n",
    "\n",
    "# 3. FILTRO VETORIZADO PARA BLOQUEIOS RETIDOS:\n",
    "# Um bloqueio é considerado 'retido' se o status atual é 'TEMPORARILY_BLOCKED' E\n",
    "# o próximo status não existe (é o último status conhecido) OU o próximo status não é 'OPEN' nem 'PERMANENTLY_TERMINATED'.\n",
    "retained_blocked_cards = cards_status_sorted[\n",
    "    (cards_status_sorted['card_status'] == 'TEMPORARILY_BLOCKED') &\n",
    "    (~cards_status_sorted['next_status'].isin(['OPEN', 'PERMANENTLY_TERMINATED']))\n",
    "]\n",
    "\n",
    "print(f\"Número de eventos de bloqueio que não foram reativados ou terminados: {len(retained_blocked_cards)}\")\n",
    "print(\"\\nExemplos de cartões com bloqueios retidos:\")\n",
    "display(retained_blocked_cards[['card_number', 'started_at', 'card_status', 'next_status']].head())\n",
    "\n",
    "\n",
    "# --- Cálculo do Tempo Médio para Bloqueios RESOLVIDOS ---\n",
    "# Esta parte do seu código já estava correta e otimizada.\n",
    "# Ela calcula a duração média dos bloqueios que tiveram uma data de término.\n",
    "blocked_durations = cards_status[\n",
    "    (cards_status['card_status'] == 'TEMPORARILY_BLOCKED') &\n",
    "    (cards_status['ended_at'].notna())\n",
    "].copy()\n",
    "\n",
    "if not blocked_durations.empty:\n",
    "    blocked_durations['duration_days'] = (blocked_durations['ended_at'] - blocked_durations['started_at']).dt.days\n",
    "    avg_block_duration = blocked_durations['duration_days'].mean()\n",
    "    print(f'\\nTempo médio de bloqueio (dias) para bloqueios com data de término: {avg_block_duration:.2f} dias')\n",
    "else:\n",
    "    print('\\nNão há registros de bloqueio com data de término para calcular o tempo médio.')\n",
    "\n",
    "\n",
    "# --- Recomendações Estratégicas ---\n",
    "print('\\nRecomendações para Cartões com Bloqueios Retidos (ou longos):')\n",
    "print('- Implementar um sistema de alertas para bloqueios que excedam um certo período (ex: 30 dias).')\n",
    "print('- Propor campanhas de reativação para clientes com cartões bloqueados temporariamente por longos períodos.')\n",
    "print('- Oferecer suporte proativo para entender a causa do bloqueio e auxiliar na resolução.')\n",
    "print('- Analisar os motivos mais comuns de bloqueio para identificar tendências e pontos de melhoria no processo.')\n"
   ]
  },
  {
   "cell_type": "markdown",
   "metadata": {},
   "source": [
    "### 7.2. Impacto da Taxa de Bloqueios\n"
   ]
  },
  {
   "cell_type": "code",
   "execution_count": 28,
   "metadata": {},
   "outputs": [
    {
     "name": "stdout",
     "output_type": "stream",
     "text": [
      "Efeitos do Impacto da Taxa de Bloqueios:\n",
      "- Perda de receita: Cartões bloqueados não geram transações.\n",
      "- Churn (abandono): Insatisfação pode levar ao cancelamento do cartão.\n",
      "- Aumento de custos de suporte: Aumento de chamados para resolução.\n",
      "- Impacto na reputação da marca: Experiências negativas com bloqueios.\n",
      "\n",
      "Valor médio transacionado por cartão ativo (no Q3/2023): R$ 1585.02\n",
      "Número de cartões bloqueados no final do Q3/2023: 6092\n",
      "Estimativa de perda de receita potencial devido a cartões bloqueados (no Q3/2023): R$ 9,655,917.62\n",
      "\n",
      "Nota: Esta é uma estimativa simplificada para quantificar o impacto do problema.\n"
     ]
    }
   ],
   "source": [
    "# --- 7.2. Impacto da Taxa de Bloqueios (Corrigido e Refinado) ---\n",
    "\n",
    "print('Efeitos do Impacto da Taxa de Bloqueios:')\n",
    "print('- Perda de receita: Cartões bloqueados não geram transações.')\n",
    "print('- Churn (abandono): Insatisfação pode levar ao cancelamento do cartão.')\n",
    "print('- Aumento de custos de suporte: Aumento de chamados para resolução.')\n",
    "print('- Impacto na reputação da marca: Experiências negativas com bloqueios.')\n",
    "\n",
    "# --- Estimativa de Perda de Receita ---\n",
    "\n",
    "# Filtrar o total de transações no Q3/2023\n",
    "total_transactions_q3 = cards_transactions[\n",
    "    (cards_transactions['transaction_date'] >= quarters['Q3 2023']['start']) &\n",
    "    (cards_transactions['transaction_date'] <= quarters['Q3 2023']['end'])\n",
    "]\n",
    "\n",
    "#  Calcular o número de cartões que efetivamente transacionaram no Q3\n",
    "num_transacting_cards_q3 = total_transactions_q3['card_number'].nunique()\n",
    "\n",
    "# Calcular o valor médio por cartão que transacionou\n",
    "if num_transacting_cards_q3 > 0:\n",
    "    # CORREÇÃO: Usando a coluna correta 'amount'\n",
    "    avg_value_per_transacting_card = total_transactions_q3['amount'].sum() / num_transacting_cards_q3\n",
    "else:\n",
    "    avg_value_per_transacting_card = 0\n",
    "\n",
    "print(f'\\nValor médio transacionado por cartão ativo (no Q3/2023): R$ {avg_value_per_transacting_card:.2f}')\n",
    "\n",
    "# Contar o número de cartões bloqueados no final do Q3\n",
    "num_blocked_cards_q3_end = (cards_with_status['status_q3_end'] == 'TEMPORARILY_BLOCKED').sum()\n",
    "\n",
    "# Estimar a perda de receita potencial\n",
    "estimated_total_revenue_loss = num_blocked_cards_q3_end * avg_value_per_transacting_card\n",
    "\n",
    "print(f'Número de cartões bloqueados no final do Q3/2023: {num_blocked_cards_q3_end}')\n",
    "print(f'Estimativa de perda de receita potencial devido a cartões bloqueados (no Q3/2023): R$ {estimated_total_revenue_loss:,.2f}') # Adicionada formatação de milhar\n",
    "print('\\nNota: Esta é uma estimativa simplificada para quantificar o impacto do problema.')\n"
   ]
  },
  {
   "cell_type": "markdown",
   "metadata": {},
   "source": [
    "### 7.3. Expiração de Cartões\n"
   ]
  },
  {
   "cell_type": "code",
   "execution_count": 29,
   "metadata": {},
   "outputs": [
    {
     "name": "stdout",
     "output_type": "stream",
     "text": [
      "Volume de cartões expirando no Q4/2023: 25267\n",
      "Distribuição de status dos cartões expirando no Q4/2023:\n"
     ]
    },
    {
     "data": {
      "text/plain": [
       "current_status\n",
       "OPEN                      21592\n",
       "PERMANENTLY_TERMINATED     2757\n",
       "TEMPORARILY_BLOCKED         916\n",
       "Name: count, dtype: int64"
      ]
     },
     "metadata": {},
     "output_type": "display_data"
    },
    {
     "name": "stdout",
     "output_type": "stream",
     "text": [
      "\n",
      "📌 Recomendações para cartões expirando no Q4/2023:\n",
      "\n",
      "1️⃣ Renovação automática para cartões ativos\n",
      "   🔹 Para cartões com status 'OPEN', implementar um processo de renovação automática ou proativa,\n",
      "     garantindo a continuidade do serviço e a retenção do cliente.\n",
      "\n",
      "2️⃣ Campanhas de reengajamento para cartões inativos\n",
      "   🔹 Para cartões com status 'TEMPORARILY_BLOCKED' ou inativos, criar campanhas personalizadas\n",
      "     para entender o motivo da inatividade e incentivar a reativação com um novo cartão Contactless.\n",
      "\n",
      "3️⃣ Análise de perfil\n",
      "   🔹 Investigar o perfil dos cartões que estão expirando (empresa, tipo de uso) para identificar padrões\n",
      "     e otimizar estratégias de renovação e reengajamento.\n",
      "\n",
      "4️⃣ Oferta de upgrade\n",
      "   🔹 Aproveitar a renovação para oferecer um upgrade para cartões Contactless,\n",
      "     promovendo a tecnologia e seus benefícios.\n"
     ]
    }
   ],
   "source": [
    "# Definir o período do Q4/2023\n",
    "\n",
    "q4_2023_start = pd.Timestamp('2023-10-01', tz='UTC')\n",
    "q4_2023_end = pd.Timestamp('2023-12-31', tz='UTC')\n",
    "\n",
    "# Filtrar cartões com valid_thru no Q4/2023\n",
    "cards_expiring_q4 = cards[\n",
    "    (cards['valid_thru'] >= q4_2023_start) &\n",
    "    (cards['valid_thru'] <= q4_2023_end)\n",
    "].copy()\n",
    "\n",
    "# Obter o status dos cartões no momento em que entram no período de expiração (final do Q3)\n",
    "current_status_df = get_status_on_date_vectorized(cards_status, q4_2023_start - pd.Timedelta(days=1))\n",
    "\n",
    "# Fazer merge do status atual no DataFrame cards_expiring_q4\n",
    "cards_expiring_q4 = cards_expiring_q4.merge(\n",
    "    current_status_df[['card_number', 'card_status']],\n",
    "    on='card_number',\n",
    "    how='left'\n",
    ")\n",
    "cards_expiring_q4 = cards_expiring_q4.rename(columns={'card_status': 'current_status'})\n",
    "\n",
    "print(f'Volume de cartões expirando no Q4/2023: {len(cards_expiring_q4)}')\n",
    "print('Distribuição de status dos cartões expirando no Q4/2023:')\n",
    "display(cards_expiring_q4['current_status'].value_counts())\n",
    "\n",
    "print(\"\\n📌 Recomendações para cartões expirando no Q4/2023:\\n\")\n",
    "\n",
    "print(\"1️⃣ Renovação automática para cartões ativos\")\n",
    "print(\"   🔹 Para cartões com status 'OPEN', implementar um processo de renovação automática ou proativa,\")\n",
    "print(\"     garantindo a continuidade do serviço e a retenção do cliente.\\n\")\n",
    "\n",
    "print(\"2️⃣ Campanhas de reengajamento para cartões inativos\")\n",
    "print(\"   🔹 Para cartões com status 'TEMPORARILY_BLOCKED' ou inativos, criar campanhas personalizadas\")\n",
    "print(\"     para entender o motivo da inatividade e incentivar a reativação com um novo cartão Contactless.\\n\")\n",
    "\n",
    "print(\"3️⃣ Análise de perfil\")\n",
    "print(\"   🔹 Investigar o perfil dos cartões que estão expirando (empresa, tipo de uso) para identificar padrões\")\n",
    "print(\"     e otimizar estratégias de renovação e reengajamento.\\n\")\n",
    "\n",
    "print(\"4️⃣ Oferta de upgrade\")\n",
    "print(\"   🔹 Aproveitar a renovação para oferecer um upgrade para cartões Contactless,\")\n",
    "print(\"     promovendo a tecnologia e seus benefícios.\")\n"
   ]
  },
  {
   "cell_type": "markdown",
   "metadata": {},
   "source": [
    "### 8.1. Evolução das Métricas QMR (Gráfico de Linha Interativo)"
   ]
  },
  {
   "cell_type": "code",
   "execution_count": 30,
   "metadata": {},
   "outputs": [
    {
     "data": {
      "application/vnd.plotly.v1+json": {
       "config": {
        "plotlyServerURL": "https://plot.ly"
       },
       "data": [
        {
         "hovertemplate": "Métrica=Cards at Beginning (Open)<br>Quarter=%{x}<br>Número de Cartões=%{y}<extra></extra>",
         "legendgroup": "Cards at Beginning (Open)",
         "line": {
          "color": "#636efa",
          "dash": "solid"
         },
         "marker": {
          "symbol": "circle"
         },
         "mode": "lines+markers",
         "name": "Cards at Beginning (Open)",
         "orientation": "v",
         "showlegend": true,
         "type": "scatter",
         "x": [
          "Q1 2023",
          "Q2 2023",
          "Q3 2023"
         ],
         "xaxis": "x",
         "y": [
          158599,
          181508,
          215200
         ],
         "yaxis": "y"
        },
        {
         "hovertemplate": "Métrica=New Cards Obtained<br>Quarter=%{x}<br>Número de Cartões=%{y}<extra></extra>",
         "legendgroup": "New Cards Obtained",
         "line": {
          "color": "#EF553B",
          "dash": "solid"
         },
         "marker": {
          "symbol": "circle"
         },
         "mode": "lines+markers",
         "name": "New Cards Obtained",
         "orientation": "v",
         "showlegend": true,
         "type": "scatter",
         "x": [
          "Q1 2023",
          "Q2 2023",
          "Q3 2023"
         ],
         "xaxis": "x",
         "y": [
          90,
          91,
          92
         ],
         "yaxis": "y"
        },
        {
         "hovertemplate": "Métrica=Cards Terminated<br>Quarter=%{x}<br>Número de Cartões=%{y}<extra></extra>",
         "legendgroup": "Cards Terminated",
         "line": {
          "color": "#00cc96",
          "dash": "solid"
         },
         "marker": {
          "symbol": "circle"
         },
         "mode": "lines+markers",
         "name": "Cards Terminated",
         "orientation": "v",
         "showlegend": true,
         "type": "scatter",
         "x": [
          "Q1 2023",
          "Q2 2023",
          "Q3 2023"
         ],
         "xaxis": "x",
         "y": [
          4686,
          8687,
          11061
         ],
         "yaxis": "y"
        },
        {
         "hovertemplate": "Métrica=Cards at End (Open)<br>Quarter=%{x}<br>Número de Cartões=%{y}<extra></extra>",
         "legendgroup": "Cards at End (Open)",
         "line": {
          "color": "#ab63fa",
          "dash": "solid"
         },
         "marker": {
          "symbol": "circle"
         },
         "mode": "lines+markers",
         "name": "Cards at End (Open)",
         "orientation": "v",
         "showlegend": true,
         "type": "scatter",
         "x": [
          "Q1 2023",
          "Q2 2023",
          "Q3 2023"
         ],
         "xaxis": "x",
         "y": [
          181508,
          215200,
          251915
         ],
         "yaxis": "y"
        },
        {
         "hovertemplate": "Métrica=Cards at End (Blocked)<br>Quarter=%{x}<br>Número de Cartões=%{y}<extra></extra>",
         "legendgroup": "Cards at End (Blocked)",
         "line": {
          "color": "#FFA15A",
          "dash": "solid"
         },
         "marker": {
          "symbol": "circle"
         },
         "mode": "lines+markers",
         "name": "Cards at End (Blocked)",
         "orientation": "v",
         "showlegend": true,
         "type": "scatter",
         "x": [
          "Q1 2023",
          "Q2 2023",
          "Q3 2023"
         ],
         "xaxis": "x",
         "y": [
          5373,
          5681,
          6092
         ],
         "yaxis": "y"
        },
        {
         "hovertemplate": "Métrica=Cards with at Least One Transaction<br>Quarter=%{x}<br>Número de Cartões=%{y}<extra></extra>",
         "legendgroup": "Cards with at Least One Transaction",
         "line": {
          "color": "#19d3f3",
          "dash": "solid"
         },
         "marker": {
          "symbol": "circle"
         },
         "mode": "lines+markers",
         "name": "Cards with at Least One Transaction",
         "orientation": "v",
         "showlegend": true,
         "type": "scatter",
         "x": [
          "Q1 2023",
          "Q2 2023",
          "Q3 2023"
         ],
         "xaxis": "x",
         "y": [
          126560,
          153578,
          173232
         ],
         "yaxis": "y"
        }
       ],
       "layout": {
        "legend": {
         "title": {
          "text": "Métricas"
         },
         "tracegroupgap": 0
        },
        "template": {
         "data": {
          "bar": [
           {
            "error_x": {
             "color": "#2a3f5f"
            },
            "error_y": {
             "color": "#2a3f5f"
            },
            "marker": {
             "line": {
              "color": "white",
              "width": 0.5
             },
             "pattern": {
              "fillmode": "overlay",
              "size": 10,
              "solidity": 0.2
             }
            },
            "type": "bar"
           }
          ],
          "barpolar": [
           {
            "marker": {
             "line": {
              "color": "white",
              "width": 0.5
             },
             "pattern": {
              "fillmode": "overlay",
              "size": 10,
              "solidity": 0.2
             }
            },
            "type": "barpolar"
           }
          ],
          "carpet": [
           {
            "aaxis": {
             "endlinecolor": "#2a3f5f",
             "gridcolor": "#C8D4E3",
             "linecolor": "#C8D4E3",
             "minorgridcolor": "#C8D4E3",
             "startlinecolor": "#2a3f5f"
            },
            "baxis": {
             "endlinecolor": "#2a3f5f",
             "gridcolor": "#C8D4E3",
             "linecolor": "#C8D4E3",
             "minorgridcolor": "#C8D4E3",
             "startlinecolor": "#2a3f5f"
            },
            "type": "carpet"
           }
          ],
          "choropleth": [
           {
            "colorbar": {
             "outlinewidth": 0,
             "ticks": ""
            },
            "type": "choropleth"
           }
          ],
          "contour": [
           {
            "colorbar": {
             "outlinewidth": 0,
             "ticks": ""
            },
            "colorscale": [
             [
              0,
              "#0d0887"
             ],
             [
              0.1111111111111111,
              "#46039f"
             ],
             [
              0.2222222222222222,
              "#7201a8"
             ],
             [
              0.3333333333333333,
              "#9c179e"
             ],
             [
              0.4444444444444444,
              "#bd3786"
             ],
             [
              0.5555555555555556,
              "#d8576b"
             ],
             [
              0.6666666666666666,
              "#ed7953"
             ],
             [
              0.7777777777777778,
              "#fb9f3a"
             ],
             [
              0.8888888888888888,
              "#fdca26"
             ],
             [
              1,
              "#f0f921"
             ]
            ],
            "type": "contour"
           }
          ],
          "contourcarpet": [
           {
            "colorbar": {
             "outlinewidth": 0,
             "ticks": ""
            },
            "type": "contourcarpet"
           }
          ],
          "heatmap": [
           {
            "colorbar": {
             "outlinewidth": 0,
             "ticks": ""
            },
            "colorscale": [
             [
              0,
              "#0d0887"
             ],
             [
              0.1111111111111111,
              "#46039f"
             ],
             [
              0.2222222222222222,
              "#7201a8"
             ],
             [
              0.3333333333333333,
              "#9c179e"
             ],
             [
              0.4444444444444444,
              "#bd3786"
             ],
             [
              0.5555555555555556,
              "#d8576b"
             ],
             [
              0.6666666666666666,
              "#ed7953"
             ],
             [
              0.7777777777777778,
              "#fb9f3a"
             ],
             [
              0.8888888888888888,
              "#fdca26"
             ],
             [
              1,
              "#f0f921"
             ]
            ],
            "type": "heatmap"
           }
          ],
          "heatmapgl": [
           {
            "colorbar": {
             "outlinewidth": 0,
             "ticks": ""
            },
            "colorscale": [
             [
              0,
              "#0d0887"
             ],
             [
              0.1111111111111111,
              "#46039f"
             ],
             [
              0.2222222222222222,
              "#7201a8"
             ],
             [
              0.3333333333333333,
              "#9c179e"
             ],
             [
              0.4444444444444444,
              "#bd3786"
             ],
             [
              0.5555555555555556,
              "#d8576b"
             ],
             [
              0.6666666666666666,
              "#ed7953"
             ],
             [
              0.7777777777777778,
              "#fb9f3a"
             ],
             [
              0.8888888888888888,
              "#fdca26"
             ],
             [
              1,
              "#f0f921"
             ]
            ],
            "type": "heatmapgl"
           }
          ],
          "histogram": [
           {
            "marker": {
             "pattern": {
              "fillmode": "overlay",
              "size": 10,
              "solidity": 0.2
             }
            },
            "type": "histogram"
           }
          ],
          "histogram2d": [
           {
            "colorbar": {
             "outlinewidth": 0,
             "ticks": ""
            },
            "colorscale": [
             [
              0,
              "#0d0887"
             ],
             [
              0.1111111111111111,
              "#46039f"
             ],
             [
              0.2222222222222222,
              "#7201a8"
             ],
             [
              0.3333333333333333,
              "#9c179e"
             ],
             [
              0.4444444444444444,
              "#bd3786"
             ],
             [
              0.5555555555555556,
              "#d8576b"
             ],
             [
              0.6666666666666666,
              "#ed7953"
             ],
             [
              0.7777777777777778,
              "#fb9f3a"
             ],
             [
              0.8888888888888888,
              "#fdca26"
             ],
             [
              1,
              "#f0f921"
             ]
            ],
            "type": "histogram2d"
           }
          ],
          "histogram2dcontour": [
           {
            "colorbar": {
             "outlinewidth": 0,
             "ticks": ""
            },
            "colorscale": [
             [
              0,
              "#0d0887"
             ],
             [
              0.1111111111111111,
              "#46039f"
             ],
             [
              0.2222222222222222,
              "#7201a8"
             ],
             [
              0.3333333333333333,
              "#9c179e"
             ],
             [
              0.4444444444444444,
              "#bd3786"
             ],
             [
              0.5555555555555556,
              "#d8576b"
             ],
             [
              0.6666666666666666,
              "#ed7953"
             ],
             [
              0.7777777777777778,
              "#fb9f3a"
             ],
             [
              0.8888888888888888,
              "#fdca26"
             ],
             [
              1,
              "#f0f921"
             ]
            ],
            "type": "histogram2dcontour"
           }
          ],
          "mesh3d": [
           {
            "colorbar": {
             "outlinewidth": 0,
             "ticks": ""
            },
            "type": "mesh3d"
           }
          ],
          "parcoords": [
           {
            "line": {
             "colorbar": {
              "outlinewidth": 0,
              "ticks": ""
             }
            },
            "type": "parcoords"
           }
          ],
          "pie": [
           {
            "automargin": true,
            "type": "pie"
           }
          ],
          "scatter": [
           {
            "fillpattern": {
             "fillmode": "overlay",
             "size": 10,
             "solidity": 0.2
            },
            "type": "scatter"
           }
          ],
          "scatter3d": [
           {
            "line": {
             "colorbar": {
              "outlinewidth": 0,
              "ticks": ""
             }
            },
            "marker": {
             "colorbar": {
              "outlinewidth": 0,
              "ticks": ""
             }
            },
            "type": "scatter3d"
           }
          ],
          "scattercarpet": [
           {
            "marker": {
             "colorbar": {
              "outlinewidth": 0,
              "ticks": ""
             }
            },
            "type": "scattercarpet"
           }
          ],
          "scattergeo": [
           {
            "marker": {
             "colorbar": {
              "outlinewidth": 0,
              "ticks": ""
             }
            },
            "type": "scattergeo"
           }
          ],
          "scattergl": [
           {
            "marker": {
             "colorbar": {
              "outlinewidth": 0,
              "ticks": ""
             }
            },
            "type": "scattergl"
           }
          ],
          "scattermapbox": [
           {
            "marker": {
             "colorbar": {
              "outlinewidth": 0,
              "ticks": ""
             }
            },
            "type": "scattermapbox"
           }
          ],
          "scatterpolar": [
           {
            "marker": {
             "colorbar": {
              "outlinewidth": 0,
              "ticks": ""
             }
            },
            "type": "scatterpolar"
           }
          ],
          "scatterpolargl": [
           {
            "marker": {
             "colorbar": {
              "outlinewidth": 0,
              "ticks": ""
             }
            },
            "type": "scatterpolargl"
           }
          ],
          "scatterternary": [
           {
            "marker": {
             "colorbar": {
              "outlinewidth": 0,
              "ticks": ""
             }
            },
            "type": "scatterternary"
           }
          ],
          "surface": [
           {
            "colorbar": {
             "outlinewidth": 0,
             "ticks": ""
            },
            "colorscale": [
             [
              0,
              "#0d0887"
             ],
             [
              0.1111111111111111,
              "#46039f"
             ],
             [
              0.2222222222222222,
              "#7201a8"
             ],
             [
              0.3333333333333333,
              "#9c179e"
             ],
             [
              0.4444444444444444,
              "#bd3786"
             ],
             [
              0.5555555555555556,
              "#d8576b"
             ],
             [
              0.6666666666666666,
              "#ed7953"
             ],
             [
              0.7777777777777778,
              "#fb9f3a"
             ],
             [
              0.8888888888888888,
              "#fdca26"
             ],
             [
              1,
              "#f0f921"
             ]
            ],
            "type": "surface"
           }
          ],
          "table": [
           {
            "cells": {
             "fill": {
              "color": "#EBF0F8"
             },
             "line": {
              "color": "white"
             }
            },
            "header": {
             "fill": {
              "color": "#C8D4E3"
             },
             "line": {
              "color": "white"
             }
            },
            "type": "table"
           }
          ]
         },
         "layout": {
          "annotationdefaults": {
           "arrowcolor": "#2a3f5f",
           "arrowhead": 0,
           "arrowwidth": 1
          },
          "autotypenumbers": "strict",
          "coloraxis": {
           "colorbar": {
            "outlinewidth": 0,
            "ticks": ""
           }
          },
          "colorscale": {
           "diverging": [
            [
             0,
             "#8e0152"
            ],
            [
             0.1,
             "#c51b7d"
            ],
            [
             0.2,
             "#de77ae"
            ],
            [
             0.3,
             "#f1b6da"
            ],
            [
             0.4,
             "#fde0ef"
            ],
            [
             0.5,
             "#f7f7f7"
            ],
            [
             0.6,
             "#e6f5d0"
            ],
            [
             0.7,
             "#b8e186"
            ],
            [
             0.8,
             "#7fbc41"
            ],
            [
             0.9,
             "#4d9221"
            ],
            [
             1,
             "#276419"
            ]
           ],
           "sequential": [
            [
             0,
             "#0d0887"
            ],
            [
             0.1111111111111111,
             "#46039f"
            ],
            [
             0.2222222222222222,
             "#7201a8"
            ],
            [
             0.3333333333333333,
             "#9c179e"
            ],
            [
             0.4444444444444444,
             "#bd3786"
            ],
            [
             0.5555555555555556,
             "#d8576b"
            ],
            [
             0.6666666666666666,
             "#ed7953"
            ],
            [
             0.7777777777777778,
             "#fb9f3a"
            ],
            [
             0.8888888888888888,
             "#fdca26"
            ],
            [
             1,
             "#f0f921"
            ]
           ],
           "sequentialminus": [
            [
             0,
             "#0d0887"
            ],
            [
             0.1111111111111111,
             "#46039f"
            ],
            [
             0.2222222222222222,
             "#7201a8"
            ],
            [
             0.3333333333333333,
             "#9c179e"
            ],
            [
             0.4444444444444444,
             "#bd3786"
            ],
            [
             0.5555555555555556,
             "#d8576b"
            ],
            [
             0.6666666666666666,
             "#ed7953"
            ],
            [
             0.7777777777777778,
             "#fb9f3a"
            ],
            [
             0.8888888888888888,
             "#fdca26"
            ],
            [
             1,
             "#f0f921"
            ]
           ]
          },
          "colorway": [
           "#636efa",
           "#EF553B",
           "#00cc96",
           "#ab63fa",
           "#FFA15A",
           "#19d3f3",
           "#FF6692",
           "#B6E880",
           "#FF97FF",
           "#FECB52"
          ],
          "font": {
           "color": "#2a3f5f"
          },
          "geo": {
           "bgcolor": "white",
           "lakecolor": "white",
           "landcolor": "white",
           "showlakes": true,
           "showland": true,
           "subunitcolor": "#C8D4E3"
          },
          "hoverlabel": {
           "align": "left"
          },
          "hovermode": "closest",
          "mapbox": {
           "style": "light"
          },
          "paper_bgcolor": "white",
          "plot_bgcolor": "white",
          "polar": {
           "angularaxis": {
            "gridcolor": "#EBF0F8",
            "linecolor": "#EBF0F8",
            "ticks": ""
           },
           "bgcolor": "white",
           "radialaxis": {
            "gridcolor": "#EBF0F8",
            "linecolor": "#EBF0F8",
            "ticks": ""
           }
          },
          "scene": {
           "xaxis": {
            "backgroundcolor": "white",
            "gridcolor": "#DFE8F3",
            "gridwidth": 2,
            "linecolor": "#EBF0F8",
            "showbackground": true,
            "ticks": "",
            "zerolinecolor": "#EBF0F8"
           },
           "yaxis": {
            "backgroundcolor": "white",
            "gridcolor": "#DFE8F3",
            "gridwidth": 2,
            "linecolor": "#EBF0F8",
            "showbackground": true,
            "ticks": "",
            "zerolinecolor": "#EBF0F8"
           },
           "zaxis": {
            "backgroundcolor": "white",
            "gridcolor": "#DFE8F3",
            "gridwidth": 2,
            "linecolor": "#EBF0F8",
            "showbackground": true,
            "ticks": "",
            "zerolinecolor": "#EBF0F8"
           }
          },
          "shapedefaults": {
           "line": {
            "color": "#2a3f5f"
           }
          },
          "ternary": {
           "aaxis": {
            "gridcolor": "#DFE8F3",
            "linecolor": "#A2B1C6",
            "ticks": ""
           },
           "baxis": {
            "gridcolor": "#DFE8F3",
            "linecolor": "#A2B1C6",
            "ticks": ""
           },
           "bgcolor": "white",
           "caxis": {
            "gridcolor": "#DFE8F3",
            "linecolor": "#A2B1C6",
            "ticks": ""
           }
          },
          "title": {
           "x": 0.05
          },
          "xaxis": {
           "automargin": true,
           "gridcolor": "#EBF0F8",
           "linecolor": "#EBF0F8",
           "ticks": "",
           "title": {
            "standoff": 15
           },
           "zerolinecolor": "#EBF0F8",
           "zerolinewidth": 2
          },
          "yaxis": {
           "automargin": true,
           "gridcolor": "#EBF0F8",
           "linecolor": "#EBF0F8",
           "ticks": "",
           "title": {
            "standoff": 15
           },
           "zerolinecolor": "#EBF0F8",
           "zerolinewidth": 2
          }
         }
        },
        "title": {
         "text": "Evolução das Métricas QMR por Trimestre"
        },
        "xaxis": {
         "anchor": "y",
         "domain": [
          0,
          1
         ],
         "title": {
          "text": "Trimestre"
         }
        },
        "yaxis": {
         "anchor": "x",
         "domain": [
          0,
          1
         ],
         "title": {
          "text": "Número de Cartões"
         }
        }
       }
      }
     },
     "metadata": {},
     "output_type": "display_data"
    }
   ],
   "source": [
    "import plotly.express as px\n",
    "import os\n",
    "\n",
    "# Garante que o diretório de saída exista\n",
    "output_dir = 'flash_case/outputs'\n",
    "os.makedirs(output_dir, exist_ok=True)\n",
    "\n",
    "# 1. Preparar os dados para o Plotly (formato \"longo\")\n",
    "qmr_metrics_long = qmr_metrics.melt(\n",
    "    id_vars=['Quarter'], \n",
    "    value_vars=[\n",
    "        'Cards at Beginning (Open)', \n",
    "        'New Cards Obtained', \n",
    "        'Cards Terminated',\n",
    "        'Cards at End (Open)', \n",
    "        'Cards at End (Blocked)',\n",
    "        'Cards with at Least One Transaction'\n",
    "    ],\n",
    "    var_name='Métrica', \n",
    "    value_name='Número de Cartões'\n",
    ")\n",
    "\n",
    "# 2. Criar o gráfico de linha interativo\n",
    "fig_line = px.line(\n",
    "    qmr_metrics_long,\n",
    "    x='Quarter',\n",
    "    y='Número de Cartões',\n",
    "    color='Métrica',\n",
    "    markers=True, # Adiciona marcadores, como no seu original\n",
    "    template='plotly_white',\n",
    "    title='Evolução das Métricas QMR por Trimestre'\n",
    ")\n",
    "\n",
    "# 3. Melhorar o layout\n",
    "fig_line.update_layout(\n",
    "    xaxis_title='Trimestre',\n",
    "    yaxis_title='Número de Cartões',\n",
    "    legend_title_text='Métricas'\n",
    ")\n",
    "\n",
    "# 4. Salvar e exibir\n",
    "fig_line.write_html(os.path.join(output_dir, 'qmr_metrics_line_chart_interactive.html'))\n",
    "fig_line.show()\n"
   ]
  },
  {
   "cell_type": "markdown",
   "metadata": {},
   "source": [
    "### 8.2. Composição de Cartões (Gráfico de Barras Empilhadas Interativo)\n"
   ]
  },
  {
   "cell_type": "code",
   "execution_count": 31,
   "metadata": {},
   "outputs": [
    {
     "data": {
      "application/vnd.plotly.v1+json": {
       "config": {
        "plotlyServerURL": "https://plot.ly"
       },
       "data": [
        {
         "alignmentgroup": "True",
         "hovertemplate": "Status no Fim do Trimestre=Cards at End (Open)<br>Quarter=%{x}<br>Número de Cartões=%{y}<extra></extra>",
         "legendgroup": "Cards at End (Open)",
         "marker": {
          "color": "#F30062",
          "pattern": {
           "shape": ""
          }
         },
         "name": "Cards at End (Open)",
         "offsetgroup": "Cards at End (Open)",
         "orientation": "v",
         "showlegend": true,
         "textposition": "auto",
         "texttemplate": "%{y}",
         "type": "bar",
         "x": [
          "Q1 2023",
          "Q2 2023",
          "Q3 2023"
         ],
         "xaxis": "x",
         "y": [
          181508,
          215200,
          251915
         ],
         "yaxis": "y"
        },
        {
         "alignmentgroup": "True",
         "hovertemplate": "Status no Fim do Trimestre=Cards at End (Blocked)<br>Quarter=%{x}<br>Número de Cartões=%{y}<extra></extra>",
         "legendgroup": "Cards at End (Blocked)",
         "marker": {
          "color": "#FFC1E3",
          "pattern": {
           "shape": ""
          }
         },
         "name": "Cards at End (Blocked)",
         "offsetgroup": "Cards at End (Blocked)",
         "orientation": "v",
         "showlegend": true,
         "textposition": "auto",
         "texttemplate": "%{y}",
         "type": "bar",
         "x": [
          "Q1 2023",
          "Q2 2023",
          "Q3 2023"
         ],
         "xaxis": "x",
         "y": [
          5373,
          5681,
          6092
         ],
         "yaxis": "y"
        }
       ],
       "layout": {
        "barmode": "relative",
        "legend": {
         "title": {
          "text": "Status"
         },
         "tracegroupgap": 0
        },
        "template": {
         "data": {
          "bar": [
           {
            "error_x": {
             "color": "#2a3f5f"
            },
            "error_y": {
             "color": "#2a3f5f"
            },
            "marker": {
             "line": {
              "color": "white",
              "width": 0.5
             },
             "pattern": {
              "fillmode": "overlay",
              "size": 10,
              "solidity": 0.2
             }
            },
            "type": "bar"
           }
          ],
          "barpolar": [
           {
            "marker": {
             "line": {
              "color": "white",
              "width": 0.5
             },
             "pattern": {
              "fillmode": "overlay",
              "size": 10,
              "solidity": 0.2
             }
            },
            "type": "barpolar"
           }
          ],
          "carpet": [
           {
            "aaxis": {
             "endlinecolor": "#2a3f5f",
             "gridcolor": "#C8D4E3",
             "linecolor": "#C8D4E3",
             "minorgridcolor": "#C8D4E3",
             "startlinecolor": "#2a3f5f"
            },
            "baxis": {
             "endlinecolor": "#2a3f5f",
             "gridcolor": "#C8D4E3",
             "linecolor": "#C8D4E3",
             "minorgridcolor": "#C8D4E3",
             "startlinecolor": "#2a3f5f"
            },
            "type": "carpet"
           }
          ],
          "choropleth": [
           {
            "colorbar": {
             "outlinewidth": 0,
             "ticks": ""
            },
            "type": "choropleth"
           }
          ],
          "contour": [
           {
            "colorbar": {
             "outlinewidth": 0,
             "ticks": ""
            },
            "colorscale": [
             [
              0,
              "#0d0887"
             ],
             [
              0.1111111111111111,
              "#46039f"
             ],
             [
              0.2222222222222222,
              "#7201a8"
             ],
             [
              0.3333333333333333,
              "#9c179e"
             ],
             [
              0.4444444444444444,
              "#bd3786"
             ],
             [
              0.5555555555555556,
              "#d8576b"
             ],
             [
              0.6666666666666666,
              "#ed7953"
             ],
             [
              0.7777777777777778,
              "#fb9f3a"
             ],
             [
              0.8888888888888888,
              "#fdca26"
             ],
             [
              1,
              "#f0f921"
             ]
            ],
            "type": "contour"
           }
          ],
          "contourcarpet": [
           {
            "colorbar": {
             "outlinewidth": 0,
             "ticks": ""
            },
            "type": "contourcarpet"
           }
          ],
          "heatmap": [
           {
            "colorbar": {
             "outlinewidth": 0,
             "ticks": ""
            },
            "colorscale": [
             [
              0,
              "#0d0887"
             ],
             [
              0.1111111111111111,
              "#46039f"
             ],
             [
              0.2222222222222222,
              "#7201a8"
             ],
             [
              0.3333333333333333,
              "#9c179e"
             ],
             [
              0.4444444444444444,
              "#bd3786"
             ],
             [
              0.5555555555555556,
              "#d8576b"
             ],
             [
              0.6666666666666666,
              "#ed7953"
             ],
             [
              0.7777777777777778,
              "#fb9f3a"
             ],
             [
              0.8888888888888888,
              "#fdca26"
             ],
             [
              1,
              "#f0f921"
             ]
            ],
            "type": "heatmap"
           }
          ],
          "heatmapgl": [
           {
            "colorbar": {
             "outlinewidth": 0,
             "ticks": ""
            },
            "colorscale": [
             [
              0,
              "#0d0887"
             ],
             [
              0.1111111111111111,
              "#46039f"
             ],
             [
              0.2222222222222222,
              "#7201a8"
             ],
             [
              0.3333333333333333,
              "#9c179e"
             ],
             [
              0.4444444444444444,
              "#bd3786"
             ],
             [
              0.5555555555555556,
              "#d8576b"
             ],
             [
              0.6666666666666666,
              "#ed7953"
             ],
             [
              0.7777777777777778,
              "#fb9f3a"
             ],
             [
              0.8888888888888888,
              "#fdca26"
             ],
             [
              1,
              "#f0f921"
             ]
            ],
            "type": "heatmapgl"
           }
          ],
          "histogram": [
           {
            "marker": {
             "pattern": {
              "fillmode": "overlay",
              "size": 10,
              "solidity": 0.2
             }
            },
            "type": "histogram"
           }
          ],
          "histogram2d": [
           {
            "colorbar": {
             "outlinewidth": 0,
             "ticks": ""
            },
            "colorscale": [
             [
              0,
              "#0d0887"
             ],
             [
              0.1111111111111111,
              "#46039f"
             ],
             [
              0.2222222222222222,
              "#7201a8"
             ],
             [
              0.3333333333333333,
              "#9c179e"
             ],
             [
              0.4444444444444444,
              "#bd3786"
             ],
             [
              0.5555555555555556,
              "#d8576b"
             ],
             [
              0.6666666666666666,
              "#ed7953"
             ],
             [
              0.7777777777777778,
              "#fb9f3a"
             ],
             [
              0.8888888888888888,
              "#fdca26"
             ],
             [
              1,
              "#f0f921"
             ]
            ],
            "type": "histogram2d"
           }
          ],
          "histogram2dcontour": [
           {
            "colorbar": {
             "outlinewidth": 0,
             "ticks": ""
            },
            "colorscale": [
             [
              0,
              "#0d0887"
             ],
             [
              0.1111111111111111,
              "#46039f"
             ],
             [
              0.2222222222222222,
              "#7201a8"
             ],
             [
              0.3333333333333333,
              "#9c179e"
             ],
             [
              0.4444444444444444,
              "#bd3786"
             ],
             [
              0.5555555555555556,
              "#d8576b"
             ],
             [
              0.6666666666666666,
              "#ed7953"
             ],
             [
              0.7777777777777778,
              "#fb9f3a"
             ],
             [
              0.8888888888888888,
              "#fdca26"
             ],
             [
              1,
              "#f0f921"
             ]
            ],
            "type": "histogram2dcontour"
           }
          ],
          "mesh3d": [
           {
            "colorbar": {
             "outlinewidth": 0,
             "ticks": ""
            },
            "type": "mesh3d"
           }
          ],
          "parcoords": [
           {
            "line": {
             "colorbar": {
              "outlinewidth": 0,
              "ticks": ""
             }
            },
            "type": "parcoords"
           }
          ],
          "pie": [
           {
            "automargin": true,
            "type": "pie"
           }
          ],
          "scatter": [
           {
            "fillpattern": {
             "fillmode": "overlay",
             "size": 10,
             "solidity": 0.2
            },
            "type": "scatter"
           }
          ],
          "scatter3d": [
           {
            "line": {
             "colorbar": {
              "outlinewidth": 0,
              "ticks": ""
             }
            },
            "marker": {
             "colorbar": {
              "outlinewidth": 0,
              "ticks": ""
             }
            },
            "type": "scatter3d"
           }
          ],
          "scattercarpet": [
           {
            "marker": {
             "colorbar": {
              "outlinewidth": 0,
              "ticks": ""
             }
            },
            "type": "scattercarpet"
           }
          ],
          "scattergeo": [
           {
            "marker": {
             "colorbar": {
              "outlinewidth": 0,
              "ticks": ""
             }
            },
            "type": "scattergeo"
           }
          ],
          "scattergl": [
           {
            "marker": {
             "colorbar": {
              "outlinewidth": 0,
              "ticks": ""
             }
            },
            "type": "scattergl"
           }
          ],
          "scattermapbox": [
           {
            "marker": {
             "colorbar": {
              "outlinewidth": 0,
              "ticks": ""
             }
            },
            "type": "scattermapbox"
           }
          ],
          "scatterpolar": [
           {
            "marker": {
             "colorbar": {
              "outlinewidth": 0,
              "ticks": ""
             }
            },
            "type": "scatterpolar"
           }
          ],
          "scatterpolargl": [
           {
            "marker": {
             "colorbar": {
              "outlinewidth": 0,
              "ticks": ""
             }
            },
            "type": "scatterpolargl"
           }
          ],
          "scatterternary": [
           {
            "marker": {
             "colorbar": {
              "outlinewidth": 0,
              "ticks": ""
             }
            },
            "type": "scatterternary"
           }
          ],
          "surface": [
           {
            "colorbar": {
             "outlinewidth": 0,
             "ticks": ""
            },
            "colorscale": [
             [
              0,
              "#0d0887"
             ],
             [
              0.1111111111111111,
              "#46039f"
             ],
             [
              0.2222222222222222,
              "#7201a8"
             ],
             [
              0.3333333333333333,
              "#9c179e"
             ],
             [
              0.4444444444444444,
              "#bd3786"
             ],
             [
              0.5555555555555556,
              "#d8576b"
             ],
             [
              0.6666666666666666,
              "#ed7953"
             ],
             [
              0.7777777777777778,
              "#fb9f3a"
             ],
             [
              0.8888888888888888,
              "#fdca26"
             ],
             [
              1,
              "#f0f921"
             ]
            ],
            "type": "surface"
           }
          ],
          "table": [
           {
            "cells": {
             "fill": {
              "color": "#EBF0F8"
             },
             "line": {
              "color": "white"
             }
            },
            "header": {
             "fill": {
              "color": "#C8D4E3"
             },
             "line": {
              "color": "white"
             }
            },
            "type": "table"
           }
          ]
         },
         "layout": {
          "annotationdefaults": {
           "arrowcolor": "#2a3f5f",
           "arrowhead": 0,
           "arrowwidth": 1
          },
          "autotypenumbers": "strict",
          "coloraxis": {
           "colorbar": {
            "outlinewidth": 0,
            "ticks": ""
           }
          },
          "colorscale": {
           "diverging": [
            [
             0,
             "#8e0152"
            ],
            [
             0.1,
             "#c51b7d"
            ],
            [
             0.2,
             "#de77ae"
            ],
            [
             0.3,
             "#f1b6da"
            ],
            [
             0.4,
             "#fde0ef"
            ],
            [
             0.5,
             "#f7f7f7"
            ],
            [
             0.6,
             "#e6f5d0"
            ],
            [
             0.7,
             "#b8e186"
            ],
            [
             0.8,
             "#7fbc41"
            ],
            [
             0.9,
             "#4d9221"
            ],
            [
             1,
             "#276419"
            ]
           ],
           "sequential": [
            [
             0,
             "#0d0887"
            ],
            [
             0.1111111111111111,
             "#46039f"
            ],
            [
             0.2222222222222222,
             "#7201a8"
            ],
            [
             0.3333333333333333,
             "#9c179e"
            ],
            [
             0.4444444444444444,
             "#bd3786"
            ],
            [
             0.5555555555555556,
             "#d8576b"
            ],
            [
             0.6666666666666666,
             "#ed7953"
            ],
            [
             0.7777777777777778,
             "#fb9f3a"
            ],
            [
             0.8888888888888888,
             "#fdca26"
            ],
            [
             1,
             "#f0f921"
            ]
           ],
           "sequentialminus": [
            [
             0,
             "#0d0887"
            ],
            [
             0.1111111111111111,
             "#46039f"
            ],
            [
             0.2222222222222222,
             "#7201a8"
            ],
            [
             0.3333333333333333,
             "#9c179e"
            ],
            [
             0.4444444444444444,
             "#bd3786"
            ],
            [
             0.5555555555555556,
             "#d8576b"
            ],
            [
             0.6666666666666666,
             "#ed7953"
            ],
            [
             0.7777777777777778,
             "#fb9f3a"
            ],
            [
             0.8888888888888888,
             "#fdca26"
            ],
            [
             1,
             "#f0f921"
            ]
           ]
          },
          "colorway": [
           "#636efa",
           "#EF553B",
           "#00cc96",
           "#ab63fa",
           "#FFA15A",
           "#19d3f3",
           "#FF6692",
           "#B6E880",
           "#FF97FF",
           "#FECB52"
          ],
          "font": {
           "color": "#2a3f5f"
          },
          "geo": {
           "bgcolor": "white",
           "lakecolor": "white",
           "landcolor": "white",
           "showlakes": true,
           "showland": true,
           "subunitcolor": "#C8D4E3"
          },
          "hoverlabel": {
           "align": "left"
          },
          "hovermode": "closest",
          "mapbox": {
           "style": "light"
          },
          "paper_bgcolor": "white",
          "plot_bgcolor": "white",
          "polar": {
           "angularaxis": {
            "gridcolor": "#EBF0F8",
            "linecolor": "#EBF0F8",
            "ticks": ""
           },
           "bgcolor": "white",
           "radialaxis": {
            "gridcolor": "#EBF0F8",
            "linecolor": "#EBF0F8",
            "ticks": ""
           }
          },
          "scene": {
           "xaxis": {
            "backgroundcolor": "white",
            "gridcolor": "#DFE8F3",
            "gridwidth": 2,
            "linecolor": "#EBF0F8",
            "showbackground": true,
            "ticks": "",
            "zerolinecolor": "#EBF0F8"
           },
           "yaxis": {
            "backgroundcolor": "white",
            "gridcolor": "#DFE8F3",
            "gridwidth": 2,
            "linecolor": "#EBF0F8",
            "showbackground": true,
            "ticks": "",
            "zerolinecolor": "#EBF0F8"
           },
           "zaxis": {
            "backgroundcolor": "white",
            "gridcolor": "#DFE8F3",
            "gridwidth": 2,
            "linecolor": "#EBF0F8",
            "showbackground": true,
            "ticks": "",
            "zerolinecolor": "#EBF0F8"
           }
          },
          "shapedefaults": {
           "line": {
            "color": "#2a3f5f"
           }
          },
          "ternary": {
           "aaxis": {
            "gridcolor": "#DFE8F3",
            "linecolor": "#A2B1C6",
            "ticks": ""
           },
           "baxis": {
            "gridcolor": "#DFE8F3",
            "linecolor": "#A2B1C6",
            "ticks": ""
           },
           "bgcolor": "white",
           "caxis": {
            "gridcolor": "#DFE8F3",
            "linecolor": "#A2B1C6",
            "ticks": ""
           }
          },
          "title": {
           "x": 0.05
          },
          "xaxis": {
           "automargin": true,
           "gridcolor": "#EBF0F8",
           "linecolor": "#EBF0F8",
           "ticks": "",
           "title": {
            "standoff": 15
           },
           "zerolinecolor": "#EBF0F8",
           "zerolinewidth": 2
          },
          "yaxis": {
           "automargin": true,
           "gridcolor": "#EBF0F8",
           "linecolor": "#EBF0F8",
           "ticks": "",
           "title": {
            "standoff": 15
           },
           "zerolinecolor": "#EBF0F8",
           "zerolinewidth": 2
          }
         }
        },
        "title": {
         "text": "Composição de Cartões no Fim do Trimestre (Abertos vs. Bloqueados)"
        },
        "xaxis": {
         "anchor": "y",
         "domain": [
          0,
          1
         ],
         "title": {
          "text": "Trimestre"
         }
        },
        "yaxis": {
         "anchor": "x",
         "domain": [
          0,
          1
         ],
         "title": {
          "text": "Número de Cartões"
         }
        }
       }
      }
     },
     "metadata": {},
     "output_type": "display_data"
    }
   ],
   "source": [
    "import plotly.express as px\n",
    "import os\n",
    "\n",
    "# Garante que o diretório de saída exista\n",
    "output_dir = 'flash_case/outputs'\n",
    "os.makedirs(output_dir, exist_ok=True)\n",
    "\n",
    "# 1. Preparar os dados para o Plotly (formato \"longo\")\n",
    "stacked_data_long = qmr_metrics.melt(\n",
    "    id_vars=['Quarter'],\n",
    "    value_vars=['Cards at End (Open)', 'Cards at End (Blocked)'],\n",
    "    var_name='Status no Fim do Trimestre',\n",
    "    value_name='Número de Cartões'\n",
    ")\n",
    "\n",
    "# 2. Criar o gráfico de barras empilhadas interativo\n",
    "fig_bar = px.bar(\n",
    "    stacked_data_long,\n",
    "    x='Quarter',\n",
    "    y='Número de Cartões',\n",
    "    color='Status no Fim do Trimestre',\n",
    "    title='Composição de Cartões no Fim do Trimestre (Abertos vs. Bloqueados)',\n",
    "    template='plotly_white',\n",
    "    text_auto=True, # Adiciona os valores automaticamente nas barras\n",
    "    \n",
    "    color_discrete_map={ \n",
    "        'Cards at End (Open)': '#F30062', # Rosa forte para o status principal\n",
    "        'Cards at End (Blocked)': '#FFC1E3'  # Rosa claro para o status secundário\n",
    "    }\n",
    ")\n",
    "\n",
    "# 3. Melhorar o layout\n",
    "fig_bar.update_layout(\n",
    "    xaxis_title='Trimestre',\n",
    "    yaxis_title='Número de Cartões',\n",
    "    legend_title_text='Status'\n",
    ")\n",
    "\n",
    "# 4. Salvar e"
   ]
  }
 ],
 "metadata": {
  "kernelspec": {
   "display_name": "base",
   "language": "python",
   "name": "python3"
  },
  "language_info": {
   "codemirror_mode": {
    "name": "ipython",
    "version": 3
   },
   "file_extension": ".py",
   "mimetype": "text/x-python",
   "name": "python",
   "nbconvert_exporter": "python",
   "pygments_lexer": "ipython3",
   "version": "3.13.5"
  }
 },
 "nbformat": 4,
 "nbformat_minor": 4
}
