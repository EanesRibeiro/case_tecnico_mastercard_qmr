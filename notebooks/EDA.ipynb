{
 "cells": [
  {
   "cell_type": "markdown",
   "metadata": {},
   "source": [
    "# Análise Exploratória de Dados - Case Técnico"
   ]
  },
  {
   "cell_type": "markdown",
   "metadata": {},
   "source": [
    "## 1. Carregando os Dados"
   ]
  },
  {
   "cell_type": "code",
   "execution_count": 1,
   "metadata": {},
   "outputs": [],
   "source": [
    "import pandas as pd\n",
    "import numpy as np\n",
    "import matplotlib.pyplot as plt\n",
    "import seaborn as sns\n",
    "\n",
    "cards = pd.read_csv('../data/cards.csv')\n",
    "cards_status = pd.read_csv('../data/cards_status.csv')\n",
    "cards_transactions = pd.read_csv('../data/cards_transactions.csv')"
   ]
  },
  {
   "cell_type": "markdown",
   "metadata": {},
   "source": [
    "## 2. Exploração Inicial dos Dados"
   ]
  },
  {
   "cell_type": "markdown",
   "metadata": {},
   "source": [
    "### 2.1. Visualizando as primeiras linhas dos DataFrames"
   ]
  },
  {
   "cell_type": "code",
   "execution_count": 2,
   "metadata": {},
   "outputs": [
    {
     "name": "stdout",
     "output_type": "stream",
     "text": [
      "Cards:\n"
     ]
    },
    {
     "data": {
      "text/html": [
       "<div>\n",
       "<style scoped>\n",
       "    .dataframe tbody tr th:only-of-type {\n",
       "        vertical-align: middle;\n",
       "    }\n",
       "\n",
       "    .dataframe tbody tr th {\n",
       "        vertical-align: top;\n",
       "    }\n",
       "\n",
       "    .dataframe thead th {\n",
       "        text-align: right;\n",
       "    }\n",
       "</style>\n",
       "<table border=\"1\" class=\"dataframe\">\n",
       "  <thead>\n",
       "    <tr style=\"text-align: right;\">\n",
       "      <th></th>\n",
       "      <th>card_number</th>\n",
       "      <th>card_model</th>\n",
       "      <th>company_id</th>\n",
       "      <th>employee_id</th>\n",
       "      <th>valid_thru</th>\n",
       "    </tr>\n",
       "  </thead>\n",
       "  <tbody>\n",
       "    <tr>\n",
       "      <th>0</th>\n",
       "      <td>150152835</td>\n",
       "      <td>PIN</td>\n",
       "      <td>5cf5818c6b3492639dabdf0e</td>\n",
       "      <td>606247fac815510007c03376</td>\n",
       "      <td>01/23</td>\n",
       "    </tr>\n",
       "    <tr>\n",
       "      <th>1</th>\n",
       "      <td>150162990</td>\n",
       "      <td>PIN</td>\n",
       "      <td>5e28a0d99311c2000897dc46</td>\n",
       "      <td>6128dfe52c16150009d1a945</td>\n",
       "      <td>01/23</td>\n",
       "    </tr>\n",
       "    <tr>\n",
       "      <th>2</th>\n",
       "      <td>150203565</td>\n",
       "      <td>PIN</td>\n",
       "      <td>5d9408e9b0d899000754c19b</td>\n",
       "      <td>5fb6fb67e2cd9c0008efd80a</td>\n",
       "      <td>01/23</td>\n",
       "    </tr>\n",
       "    <tr>\n",
       "      <th>3</th>\n",
       "      <td>150225330</td>\n",
       "      <td>PIN</td>\n",
       "      <td>5d9408e9b0d899000754c19b</td>\n",
       "      <td>6031be104968020008c40350</td>\n",
       "      <td>01/23</td>\n",
       "    </tr>\n",
       "    <tr>\n",
       "      <th>4</th>\n",
       "      <td>150234270</td>\n",
       "      <td>PIN</td>\n",
       "      <td>5d93b30434e9070007b85109</td>\n",
       "      <td>6035501ad6f91b000714abec</td>\n",
       "      <td>01/23</td>\n",
       "    </tr>\n",
       "  </tbody>\n",
       "</table>\n",
       "</div>"
      ],
      "text/plain": [
       "   card_number card_model                company_id               employee_id  \\\n",
       "0    150152835        PIN  5cf5818c6b3492639dabdf0e  606247fac815510007c03376   \n",
       "1    150162990        PIN  5e28a0d99311c2000897dc46  6128dfe52c16150009d1a945   \n",
       "2    150203565        PIN  5d9408e9b0d899000754c19b  5fb6fb67e2cd9c0008efd80a   \n",
       "3    150225330        PIN  5d9408e9b0d899000754c19b  6031be104968020008c40350   \n",
       "4    150234270        PIN  5d93b30434e9070007b85109  6035501ad6f91b000714abec   \n",
       "\n",
       "  valid_thru  \n",
       "0      01/23  \n",
       "1      01/23  \n",
       "2      01/23  \n",
       "3      01/23  \n",
       "4      01/23  "
      ]
     },
     "metadata": {},
     "output_type": "display_data"
    }
   ],
   "source": [
    "print('Cards:')\n",
    "display(cards.head())"
   ]
  },
  {
   "cell_type": "code",
   "execution_count": 3,
   "metadata": {},
   "outputs": [
    {
     "name": "stdout",
     "output_type": "stream",
     "text": [
      "Cards Status:\n"
     ]
    },
    {
     "data": {
      "text/html": [
       "<div>\n",
       "<style scoped>\n",
       "    .dataframe tbody tr th:only-of-type {\n",
       "        vertical-align: middle;\n",
       "    }\n",
       "\n",
       "    .dataframe tbody tr th {\n",
       "        vertical-align: top;\n",
       "    }\n",
       "\n",
       "    .dataframe thead th {\n",
       "        text-align: right;\n",
       "    }\n",
       "</style>\n",
       "<table border=\"1\" class=\"dataframe\">\n",
       "  <thead>\n",
       "    <tr style=\"text-align: right;\">\n",
       "      <th></th>\n",
       "      <th>card_number</th>\n",
       "      <th>card_model</th>\n",
       "      <th>card_type</th>\n",
       "      <th>card_status</th>\n",
       "      <th>started_at</th>\n",
       "      <th>ended_at</th>\n",
       "    </tr>\n",
       "  </thead>\n",
       "  <tbody>\n",
       "    <tr>\n",
       "      <th>0</th>\n",
       "      <td>150152835</td>\n",
       "      <td>PIN</td>\n",
       "      <td>PLASTIC</td>\n",
       "      <td>OPEN</td>\n",
       "      <td>2022-07-25</td>\n",
       "      <td>NaN</td>\n",
       "    </tr>\n",
       "    <tr>\n",
       "      <th>1</th>\n",
       "      <td>150162990</td>\n",
       "      <td>PIN</td>\n",
       "      <td>PLASTIC</td>\n",
       "      <td>OPEN</td>\n",
       "      <td>2022-05-02</td>\n",
       "      <td>NaN</td>\n",
       "    </tr>\n",
       "    <tr>\n",
       "      <th>2</th>\n",
       "      <td>150167805</td>\n",
       "      <td>PIN</td>\n",
       "      <td>PLASTIC</td>\n",
       "      <td>OPEN</td>\n",
       "      <td>2022-05-27</td>\n",
       "      <td>NaN</td>\n",
       "    </tr>\n",
       "    <tr>\n",
       "      <th>3</th>\n",
       "      <td>150203565</td>\n",
       "      <td>PIN</td>\n",
       "      <td>PLASTIC</td>\n",
       "      <td>PERMANENTLY_TERMINATED</td>\n",
       "      <td>2023-03-03</td>\n",
       "      <td>NaN</td>\n",
       "    </tr>\n",
       "    <tr>\n",
       "      <th>4</th>\n",
       "      <td>150203565</td>\n",
       "      <td>PIN</td>\n",
       "      <td>PLASTIC</td>\n",
       "      <td>OPEN</td>\n",
       "      <td>2022-12-14</td>\n",
       "      <td>2023-03-03</td>\n",
       "    </tr>\n",
       "  </tbody>\n",
       "</table>\n",
       "</div>"
      ],
      "text/plain": [
       "   card_number card_model card_type             card_status  started_at  \\\n",
       "0    150152835        PIN   PLASTIC                    OPEN  2022-07-25   \n",
       "1    150162990        PIN   PLASTIC                    OPEN  2022-05-02   \n",
       "2    150167805        PIN   PLASTIC                    OPEN  2022-05-27   \n",
       "3    150203565        PIN   PLASTIC  PERMANENTLY_TERMINATED  2023-03-03   \n",
       "4    150203565        PIN   PLASTIC                    OPEN  2022-12-14   \n",
       "\n",
       "     ended_at  \n",
       "0         NaN  \n",
       "1         NaN  \n",
       "2         NaN  \n",
       "3         NaN  \n",
       "4  2023-03-03  "
      ]
     },
     "metadata": {},
     "output_type": "display_data"
    }
   ],
   "source": [
    "print('Cards Status:')\n",
    "display(cards_status.head())"
   ]
  },
  {
   "cell_type": "code",
   "execution_count": 4,
   "metadata": {},
   "outputs": [
    {
     "name": "stdout",
     "output_type": "stream",
     "text": [
      "Cards Transactions:\n"
     ]
    },
    {
     "data": {
      "text/html": [
       "<div>\n",
       "<style scoped>\n",
       "    .dataframe tbody tr th:only-of-type {\n",
       "        vertical-align: middle;\n",
       "    }\n",
       "\n",
       "    .dataframe tbody tr th {\n",
       "        vertical-align: top;\n",
       "    }\n",
       "\n",
       "    .dataframe thead th {\n",
       "        text-align: right;\n",
       "    }\n",
       "</style>\n",
       "<table border=\"1\" class=\"dataframe\">\n",
       "  <thead>\n",
       "    <tr style=\"text-align: right;\">\n",
       "      <th></th>\n",
       "      <th>card_number</th>\n",
       "      <th>transaction_id</th>\n",
       "      <th>transaction_date</th>\n",
       "      <th>amount</th>\n",
       "    </tr>\n",
       "  </thead>\n",
       "  <tbody>\n",
       "    <tr>\n",
       "      <th>0</th>\n",
       "      <td>155311860.0</td>\n",
       "      <td>n1VLMBoEMqFt0pu9PxOv1</td>\n",
       "      <td>2023-03-06T18:04:54.000Z</td>\n",
       "      <td>12.37</td>\n",
       "    </tr>\n",
       "    <tr>\n",
       "      <th>1</th>\n",
       "      <td>155311860.0</td>\n",
       "      <td>ZS8SJu9GwSE1GFSym-eoJ</td>\n",
       "      <td>2023-03-02T19:13:37.000Z</td>\n",
       "      <td>78.95</td>\n",
       "    </tr>\n",
       "    <tr>\n",
       "      <th>2</th>\n",
       "      <td>155311860.0</td>\n",
       "      <td>wGxeX4SZsuqTKE5R-qg_Z</td>\n",
       "      <td>2023-02-16T12:54:34.000Z</td>\n",
       "      <td>31.90</td>\n",
       "    </tr>\n",
       "    <tr>\n",
       "      <th>3</th>\n",
       "      <td>155311860.0</td>\n",
       "      <td>rAKeKeZBYoa2H9J8HJPyq</td>\n",
       "      <td>2023-02-19T22:40:56.000Z</td>\n",
       "      <td>15.35</td>\n",
       "    </tr>\n",
       "    <tr>\n",
       "      <th>4</th>\n",
       "      <td>155311860.0</td>\n",
       "      <td>g_jo96pp0ZRRxbqQQck1Q</td>\n",
       "      <td>2023-03-04T15:00:41.000Z</td>\n",
       "      <td>76.75</td>\n",
       "    </tr>\n",
       "  </tbody>\n",
       "</table>\n",
       "</div>"
      ],
      "text/plain": [
       "   card_number         transaction_id          transaction_date  amount\n",
       "0  155311860.0  n1VLMBoEMqFt0pu9PxOv1  2023-03-06T18:04:54.000Z   12.37\n",
       "1  155311860.0  ZS8SJu9GwSE1GFSym-eoJ  2023-03-02T19:13:37.000Z   78.95\n",
       "2  155311860.0  wGxeX4SZsuqTKE5R-qg_Z  2023-02-16T12:54:34.000Z   31.90\n",
       "3  155311860.0  rAKeKeZBYoa2H9J8HJPyq  2023-02-19T22:40:56.000Z   15.35\n",
       "4  155311860.0  g_jo96pp0ZRRxbqQQck1Q  2023-03-04T15:00:41.000Z   76.75"
      ]
     },
     "metadata": {},
     "output_type": "display_data"
    }
   ],
   "source": [
    "print('Cards Transactions:')\n",
    "display(cards_transactions.head())"
   ]
  },
  {
   "cell_type": "markdown",
   "metadata": {},
   "source": [
    "### 2.2. Informações sobre os DataFrames"
   ]
  },
  {
   "cell_type": "code",
   "execution_count": 5,
   "metadata": {},
   "outputs": [
    {
     "name": "stdout",
     "output_type": "stream",
     "text": [
      "Cards Info:\n",
      "<class 'pandas.core.frame.DataFrame'>\n",
      "RangeIndex: 288093 entries, 0 to 288092\n",
      "Data columns (total 5 columns):\n",
      " #   Column       Non-Null Count   Dtype \n",
      "---  ------       --------------   ----- \n",
      " 0   card_number  288093 non-null  int64 \n",
      " 1   card_model   288093 non-null  object\n",
      " 2   company_id   287987 non-null  object\n",
      " 3   employee_id  288018 non-null  object\n",
      " 4   valid_thru   288093 non-null  object\n",
      "dtypes: int64(1), object(4)\n",
      "memory usage: 11.0+ MB\n"
     ]
    }
   ],
   "source": [
    "print('Cards Info:')\n",
    "cards.info()"
   ]
  },
  {
   "cell_type": "code",
   "execution_count": 6,
   "metadata": {},
   "outputs": [
    {
     "name": "stdout",
     "output_type": "stream",
     "text": [
      "Cards Status Info:\n",
      "<class 'pandas.core.frame.DataFrame'>\n",
      "RangeIndex: 498219 entries, 0 to 498218\n",
      "Data columns (total 6 columns):\n",
      " #   Column       Non-Null Count   Dtype \n",
      "---  ------       --------------   ----- \n",
      " 0   card_number  498219 non-null  int64 \n",
      " 1   card_model   498219 non-null  object\n",
      " 2   card_type    498219 non-null  object\n",
      " 3   card_status  498219 non-null  object\n",
      " 4   started_at   498219 non-null  object\n",
      " 5   ended_at     210126 non-null  object\n",
      "dtypes: int64(1), object(5)\n",
      "memory usage: 22.8+ MB\n"
     ]
    }
   ],
   "source": [
    "print('Cards Status Info:')\n",
    "cards_status.info()"
   ]
  },
  {
   "cell_type": "code",
   "execution_count": 7,
   "metadata": {},
   "outputs": [
    {
     "name": "stdout",
     "output_type": "stream",
     "text": [
      "Cards Transactions Info:\n",
      "<class 'pandas.core.frame.DataFrame'>\n",
      "RangeIndex: 13979889 entries, 0 to 13979888\n",
      "Data columns (total 4 columns):\n",
      " #   Column            Dtype  \n",
      "---  ------            -----  \n",
      " 0   card_number       float64\n",
      " 1   transaction_id    object \n",
      " 2   transaction_date  object \n",
      " 3   amount            float64\n",
      "dtypes: float64(2), object(2)\n",
      "memory usage: 426.6+ MB\n"
     ]
    }
   ],
   "source": [
    "print('Cards Transactions Info:')\n",
    "cards_transactions.info()"
   ]
  },
  {
   "cell_type": "markdown",
   "metadata": {},
   "source": [
    "### 2.3. Estatísticas Descritivas"
   ]
  },
  {
   "cell_type": "code",
   "execution_count": 8,
   "metadata": {},
   "outputs": [
    {
     "name": "stdout",
     "output_type": "stream",
     "text": [
      "Cards Describe:\n"
     ]
    },
    {
     "data": {
      "text/html": [
       "<div>\n",
       "<style scoped>\n",
       "    .dataframe tbody tr th:only-of-type {\n",
       "        vertical-align: middle;\n",
       "    }\n",
       "\n",
       "    .dataframe tbody tr th {\n",
       "        vertical-align: top;\n",
       "    }\n",
       "\n",
       "    .dataframe thead th {\n",
       "        text-align: right;\n",
       "    }\n",
       "</style>\n",
       "<table border=\"1\" class=\"dataframe\">\n",
       "  <thead>\n",
       "    <tr style=\"text-align: right;\">\n",
       "      <th></th>\n",
       "      <th>card_number</th>\n",
       "    </tr>\n",
       "  </thead>\n",
       "  <tbody>\n",
       "    <tr>\n",
       "      <th>count</th>\n",
       "      <td>2.880930e+05</td>\n",
       "    </tr>\n",
       "    <tr>\n",
       "      <th>mean</th>\n",
       "      <td>4.189855e+08</td>\n",
       "    </tr>\n",
       "    <tr>\n",
       "      <th>std</th>\n",
       "      <td>1.889084e+08</td>\n",
       "    </tr>\n",
       "    <tr>\n",
       "      <th>min</th>\n",
       "      <td>1.146023e+08</td>\n",
       "    </tr>\n",
       "    <tr>\n",
       "      <th>25%</th>\n",
       "      <td>2.399826e+08</td>\n",
       "    </tr>\n",
       "    <tr>\n",
       "      <th>50%</th>\n",
       "      <td>5.217562e+08</td>\n",
       "    </tr>\n",
       "    <tr>\n",
       "      <th>75%</th>\n",
       "      <td>6.024836e+08</td>\n",
       "    </tr>\n",
       "    <tr>\n",
       "      <th>max</th>\n",
       "      <td>6.867491e+08</td>\n",
       "    </tr>\n",
       "  </tbody>\n",
       "</table>\n",
       "</div>"
      ],
      "text/plain": [
       "        card_number\n",
       "count  2.880930e+05\n",
       "mean   4.189855e+08\n",
       "std    1.889084e+08\n",
       "min    1.146023e+08\n",
       "25%    2.399826e+08\n",
       "50%    5.217562e+08\n",
       "75%    6.024836e+08\n",
       "max    6.867491e+08"
      ]
     },
     "metadata": {},
     "output_type": "display_data"
    }
   ],
   "source": [
    "print('Cards Describe:')\n",
    "display(cards.describe())"
   ]
  },
  {
   "cell_type": "code",
   "execution_count": 9,
   "metadata": {},
   "outputs": [
    {
     "name": "stdout",
     "output_type": "stream",
     "text": [
      "Cards Status Describe:\n"
     ]
    },
    {
     "data": {
      "text/html": [
       "<div>\n",
       "<style scoped>\n",
       "    .dataframe tbody tr th:only-of-type {\n",
       "        vertical-align: middle;\n",
       "    }\n",
       "\n",
       "    .dataframe tbody tr th {\n",
       "        vertical-align: top;\n",
       "    }\n",
       "\n",
       "    .dataframe thead th {\n",
       "        text-align: right;\n",
       "    }\n",
       "</style>\n",
       "<table border=\"1\" class=\"dataframe\">\n",
       "  <thead>\n",
       "    <tr style=\"text-align: right;\">\n",
       "      <th></th>\n",
       "      <th>card_number</th>\n",
       "    </tr>\n",
       "  </thead>\n",
       "  <tbody>\n",
       "    <tr>\n",
       "      <th>count</th>\n",
       "      <td>4.982190e+05</td>\n",
       "    </tr>\n",
       "    <tr>\n",
       "      <th>mean</th>\n",
       "      <td>4.126512e+08</td>\n",
       "    </tr>\n",
       "    <tr>\n",
       "      <th>std</th>\n",
       "      <td>1.847903e+08</td>\n",
       "    </tr>\n",
       "    <tr>\n",
       "      <th>min</th>\n",
       "      <td>1.146023e+08</td>\n",
       "    </tr>\n",
       "    <tr>\n",
       "      <th>25%</th>\n",
       "      <td>2.420728e+08</td>\n",
       "    </tr>\n",
       "    <tr>\n",
       "      <th>50%</th>\n",
       "      <td>3.111986e+08</td>\n",
       "    </tr>\n",
       "    <tr>\n",
       "      <th>75%</th>\n",
       "      <td>5.949471e+08</td>\n",
       "    </tr>\n",
       "    <tr>\n",
       "      <th>max</th>\n",
       "      <td>6.867491e+08</td>\n",
       "    </tr>\n",
       "  </tbody>\n",
       "</table>\n",
       "</div>"
      ],
      "text/plain": [
       "        card_number\n",
       "count  4.982190e+05\n",
       "mean   4.126512e+08\n",
       "std    1.847903e+08\n",
       "min    1.146023e+08\n",
       "25%    2.420728e+08\n",
       "50%    3.111986e+08\n",
       "75%    5.949471e+08\n",
       "max    6.867491e+08"
      ]
     },
     "metadata": {},
     "output_type": "display_data"
    }
   ],
   "source": [
    "print('Cards Status Describe:')\n",
    "display(cards_status.describe())"
   ]
  },
  {
   "cell_type": "code",
   "execution_count": 10,
   "metadata": {},
   "outputs": [
    {
     "name": "stdout",
     "output_type": "stream",
     "text": [
      "Cards Transactions Describe:\n"
     ]
    },
    {
     "data": {
      "text/html": [
       "<div>\n",
       "<style scoped>\n",
       "    .dataframe tbody tr th:only-of-type {\n",
       "        vertical-align: middle;\n",
       "    }\n",
       "\n",
       "    .dataframe tbody tr th {\n",
       "        vertical-align: top;\n",
       "    }\n",
       "\n",
       "    .dataframe thead th {\n",
       "        text-align: right;\n",
       "    }\n",
       "</style>\n",
       "<table border=\"1\" class=\"dataframe\">\n",
       "  <thead>\n",
       "    <tr style=\"text-align: right;\">\n",
       "      <th></th>\n",
       "      <th>card_number</th>\n",
       "      <th>amount</th>\n",
       "    </tr>\n",
       "  </thead>\n",
       "  <tbody>\n",
       "    <tr>\n",
       "      <th>count</th>\n",
       "      <td>1.397989e+07</td>\n",
       "      <td>1.397989e+07</td>\n",
       "    </tr>\n",
       "    <tr>\n",
       "      <th>mean</th>\n",
       "      <td>4.325637e+08</td>\n",
       "      <td>5.452401e+01</td>\n",
       "    </tr>\n",
       "    <tr>\n",
       "      <th>std</th>\n",
       "      <td>1.678041e+08</td>\n",
       "      <td>1.044204e+02</td>\n",
       "    </tr>\n",
       "    <tr>\n",
       "      <th>min</th>\n",
       "      <td>1.552439e+08</td>\n",
       "      <td>1.000000e-02</td>\n",
       "    </tr>\n",
       "    <tr>\n",
       "      <th>25%</th>\n",
       "      <td>2.579462e+08</td>\n",
       "      <td>1.243000e+01</td>\n",
       "    </tr>\n",
       "    <tr>\n",
       "      <th>50%</th>\n",
       "      <td>5.245835e+08</td>\n",
       "      <td>2.590000e+01</td>\n",
       "    </tr>\n",
       "    <tr>\n",
       "      <th>75%</th>\n",
       "      <td>5.865721e+08</td>\n",
       "      <td>5.331000e+01</td>\n",
       "    </tr>\n",
       "    <tr>\n",
       "      <th>max</th>\n",
       "      <td>6.867226e+08</td>\n",
       "      <td>8.261647e+04</td>\n",
       "    </tr>\n",
       "  </tbody>\n",
       "</table>\n",
       "</div>"
      ],
      "text/plain": [
       "        card_number        amount\n",
       "count  1.397989e+07  1.397989e+07\n",
       "mean   4.325637e+08  5.452401e+01\n",
       "std    1.678041e+08  1.044204e+02\n",
       "min    1.552439e+08  1.000000e-02\n",
       "25%    2.579462e+08  1.243000e+01\n",
       "50%    5.245835e+08  2.590000e+01\n",
       "75%    5.865721e+08  5.331000e+01\n",
       "max    6.867226e+08  8.261647e+04"
      ]
     },
     "metadata": {},
     "output_type": "display_data"
    }
   ],
   "source": [
    "print('Cards Transactions Describe:')\n",
    "display(cards_transactions.describe())"
   ]
  },
  {
   "cell_type": "markdown",
   "metadata": {},
   "source": [
    "### 2.4. Verificando Valores Nulos"
   ]
  },
  {
   "cell_type": "code",
   "execution_count": 11,
   "metadata": {},
   "outputs": [
    {
     "name": "stdout",
     "output_type": "stream",
     "text": [
      "Cards Nulls:\n",
      "card_number      0\n",
      "card_model       0\n",
      "company_id     106\n",
      "employee_id     75\n",
      "valid_thru       0\n",
      "dtype: int64\n"
     ]
    }
   ],
   "source": [
    "print('Cards Nulls:')\n",
    "print(cards.isnull().sum())"
   ]
  },
  {
   "cell_type": "code",
   "execution_count": 12,
   "metadata": {},
   "outputs": [
    {
     "name": "stdout",
     "output_type": "stream",
     "text": [
      "Cards Status Nulls:\n",
      "card_number         0\n",
      "card_model          0\n",
      "card_type           0\n",
      "card_status         0\n",
      "started_at          0\n",
      "ended_at       288093\n",
      "dtype: int64\n"
     ]
    }
   ],
   "source": [
    "print('Cards Status Nulls:')\n",
    "print(cards_status.isnull().sum())"
   ]
  },
  {
   "cell_type": "markdown",
   "metadata": {},
   "source": [
    "### 2.5. Verificando Valores Duplicados\n"
   ]
  },
  {
   "cell_type": "code",
   "execution_count": 13,
   "metadata": {},
   "outputs": [
    {
     "name": "stdout",
     "output_type": "stream",
     "text": [
      "Cards Duplicados:\n",
      "0\n",
      "\n",
      "Cards Status Duplicados:\n",
      "24066\n",
      "\n",
      "Cards Transactions Duplicados:\n",
      "0\n"
     ]
    }
   ],
   "source": [
    "print('Cards Duplicados:')\n",
    "print(cards.duplicated().sum())\n",
    "\n",
    "print('\\nCards Status Duplicados:')\n",
    "print(cards_status.duplicated().sum())\n",
    "\n",
    "print('\\nCards Transactions Duplicados:')\n",
    "print(cards_transactions.duplicated().sum())\n"
   ]
  },
  {
   "cell_type": "markdown",
   "metadata": {},
   "source": [
    "### 2.6. Consistência de Chaves\n"
   ]
  },
  {
   "cell_type": "code",
   "execution_count": 14,
   "metadata": {},
   "outputs": [
    {
     "name": "stdout",
     "output_type": "stream",
     "text": [
      "Verificando card_ids em cards_status que não estão em cards:\n"
     ]
    },
    {
     "name": "stdout",
     "output_type": "stream",
     "text": [
      "Número de card_ids ausentes: 0\n",
      "\n",
      "Verificando card_ids em cards_transactions que não estão em cards:\n",
      "Número de card_ids ausentes: 0\n"
     ]
    }
   ],
   "source": [
    "print('Verificando card_ids em cards_status que não estão em cards:')\n",
    "missing_in_cards_status = cards_status[~cards_status['card_number'].isin(cards['card_number'])]\n",
    "print(f'Número de card_ids ausentes: {len(missing_in_cards_status)}')\n",
    "\n",
    "print('\\nVerificando card_ids em cards_transactions que não estão em cards:')\n",
    "missing_in_cards_transactions = cards_transactions[~cards_transactions['card_number'].isin(cards['card_number'])]\n",
    "print(f'Número de card_ids ausentes: {len(missing_in_cards_transactions)}')\n"
   ]
  },
  {
   "cell_type": "markdown",
   "metadata": {},
   "source": [
    "### 2.7. Conversão de Colunas de Data para Datetime\n"
   ]
  },
  {
   "cell_type": "code",
   "execution_count": 15,
   "metadata": {},
   "outputs": [
    {
     "name": "stdout",
     "output_type": "stream",
     "text": [
      "Padronizando 'cards'...\n",
      "Padronizando 'cards_status'...\n",
      "Padronizando 'cards_transactions'...\n",
      "\n",
      "Conversão e padronização concluídas com sucesso!\n"
     ]
    }
   ],
   "source": [
    "print(\"Padronizando 'cards'...\")\n",
    "\n",
    "if pd.api.types.is_string_dtype(cards['valid_thru']):\n",
    "    cards['valid_thru'] = pd.to_datetime(cards['valid_thru'], format='%m/%y', errors='coerce') + pd.offsets.MonthEnd(1)\n",
    "if pd.api.types.is_datetime64_any_dtype(cards['valid_thru']):\n",
    "    if cards['valid_thru'].dt.tz is None:\n",
    "        cards['valid_thru'] = cards['valid_thru'].dt.tz_localize('UTC')\n",
    "\n",
    "print(\"Padronizando 'cards_status'...\")\n",
    "# Primeiro, converte para datetime\n",
    "cards_status['started_at'] = pd.to_datetime(cards_status['started_at'], errors='coerce')\n",
    "cards_status['ended_at'] = pd.to_datetime(cards_status['ended_at'], errors='coerce')\n",
    "\n",
    "\n",
    "if pd.api.types.is_datetime64_any_dtype(cards_status['started_at']):\n",
    "    if cards_status['started_at'].dt.tz is None:\n",
    "        cards_status['started_at'] = cards_status['started_at'].dt.tz_localize('UTC')\n",
    "if pd.api.types.is_datetime64_any_dtype(cards_status['ended_at']):\n",
    "    if cards_status['ended_at'].dt.tz is None:\n",
    "        cards_status['ended_at'] = cards_status['ended_at'].dt.tz_localize('UTC')\n",
    "\n",
    "print(\"Padronizando 'cards_transactions'...\")\n",
    "cards_transactions['transaction_date'] = pd.to_datetime(cards_transactions['transaction_date'], errors='coerce')\n",
    "\n",
    "\n",
    "if pd.api.types.is_string_dtype(cards_transactions['amount']):\n",
    "    cards_transactions['amount'] = cards_transactions['amount'].str.replace(',', '.').astype(float)\n",
    "\n",
    "print(\"\\nConversão e padronização concluídas com sucesso!\")"
   ]
  },
  {
   "cell_type": "markdown",
   "metadata": {},
   "source": [
    "\n",
    "## 3. Observações da Análise Exploratória de Dados (EDA)\n"
   ]
  },
  {
   "cell_type": "markdown",
   "metadata": {},
   "source": [
    "\n",
    "Durante a etapa de EDA, foram identificadas as seguintes observações nos conjuntos de dados:\n",
    "\n",
    "### 3.1. Valores Nulos\n",
    "- `cards`: Colunas `company_id` (106 nulos) e `employee_id` (75 nulos).  \n",
    "- `cards_status`: Coluna `ended_at` com 288.093 nulos, representando status ativos ou bloqueios ainda vigentes.  \n",
    "- `cards_transactions`: Nenhum valor nulo encontrado.  \n",
    "\n",
    "### 3.2. Valores Duplicados\n",
    "- `cards`: Nenhuma duplicata encontrada.  \n",
    "- `cards_status`: 24.066 registros duplicados, o que é esperado, pois o DataFrame armazena o histórico de status de cada cartão (múltiplas entradas para o mesmo `card_number` refletem transições de status).  \n",
    "- `cards_transactions`: Nenhuma duplicata encontrada.  \n",
    "\n",
    "### 3.3. Consistência de Chaves (`card_number`)\n",
    "- `cards_status`: Todos os `card_number` encontrados estão presentes em `cards`.  \n",
    "- `cards_transactions`: Todos os `card_number` encontrados estão presentes em `cards`.  \n",
    "\n",
    "### 3.4. Pontos a Verificar (Potenciais Inconsistências)\n",
    "- `valid_thru`: Confirmar se existem datas de validade já expiradas.  \n",
    "- `started_at` x `ended_at`: Validar se `ended_at` ocorre sempre após `started_at`.  \n",
    "- `transaction_amount`: Investigar valores negativos ou fora de escala (muito altos/baixos sem justificativa).  \n",
    "- `transaction_date`: Checar se as datas estão dentro de um intervalo esperado e sem anomalias.  \n",
    "\n",
    "\n"
   ]
  },
  {
   "cell_type": "markdown",
   "metadata": {},
   "source": [
    "## 4. Limpeza & Preparação\n"
   ]
  },
  {
   "cell_type": "markdown",
   "metadata": {},
   "source": [
    "### 4.1. Validação de Integridade (`card_id`)\n"
   ]
  },
  {
   "cell_type": "markdown",
   "metadata": {},
   "source": [
    "Após a execução da célula anterior (2.6), verificamos que **não foram encontradas** inconsistências de `card_number`s em `cards_status` e `cards_transactions` que não estejam presentes no DataFrame `cards`. Isso indica uma boa integridade referencial dos dados em relação aos IDs de cartão. Caso houvesse inconsistências, a estratégia de tratamento seria reavaliada conforme a necessidade das métricas e análises subsequentes. Idealmente, em um ambiente de produção, a origem desses dados seria investigada para corrigir a raiz do problema.\n"
   ]
  },
  {
   "cell_type": "markdown",
   "metadata": {},
   "source": [
    "### 4.2. Tratamento de Nulos em `company_id` e `employee_id`\n"
   ]
  },
  {
   "cell_type": "code",
   "execution_count": 16,
   "metadata": {},
   "outputs": [
    {
     "name": "stdout",
     "output_type": "stream",
     "text": [
      "Valores nulos em company_id e employee_id tratados.\n",
      "\n",
      "Cards Nulls após tratamento:\n",
      "card_number    0\n",
      "card_model     0\n",
      "company_id     0\n",
      "employee_id    0\n",
      "valid_thru     0\n",
      "dtype: int64\n"
     ]
    }
   ],
   "source": [
    "# Preenchendo valores nulos em 'company_id' e 'employee_id'\n",
    "cards['company_id'] = cards['company_id'].fillna('Unknown')\n",
    "cards['employee_id'] = cards['employee_id'].fillna('Unknown')\n",
    "\n",
    "print('Valores nulos em company_id e employee_id tratados.')\n",
    "print('\\nCards Nulls após tratamento:')\n",
    "print(cards.isnull().sum())\n"
   ]
  },
  {
   "cell_type": "markdown",
   "metadata": {},
   "source": [
    "### 4.3. Função `get_status_on_date`\n"
   ]
  },
  {
   "cell_type": "code",
   "execution_count": 17,
   "metadata": {},
   "outputs": [],
   "source": [
    "# \"Qual era o status do cartão X no dia Y?\"\n",
    "\n",
    "def get_status_on_date_vectorized(status_df, ref_date):\n",
    "    \"\"\"\n",
    "    Função VETORIZADA que retorna o status mais recente de TODOS os cartões\n",
    "    em uma data de referência. Essencial para a performance.\n",
    "    \"\"\"\n",
    "    ref_date = pd.to_datetime(ref_date)\n",
    "    active_statuses = status_df[\n",
    "        (status_df['started_at'] <= ref_date) &\n",
    "        ((status_df['ended_at'] > ref_date) | (pd.isna(status_df['ended_at'])))\n",
    "    ]\n",
    "    final_statuses = active_statuses.sort_values('started_at').drop_duplicates('card_number', keep='last')\n",
    "    return final_statuses\n"
   ]
  },
  {
   "cell_type": "markdown",
   "metadata": {},
   "source": [
    "## 5. Métricas QMR (Questão 1)\n"
   ]
  },
  {
   "cell_type": "code",
   "execution_count": 18,
   "metadata": {},
   "outputs": [],
   "source": [
    "### 5.1. Definição dos Trimestres e Estrutura do DataFrame QMR\n",
    "\n",
    "quarters = {\n",
    "    'Q1 2023': {'start': pd.Timestamp('2023-01-01', tz='UTC'), 'end': pd.Timestamp('2023-03-31', tz='UTC')},\n",
    "    'Q2 2023': {'start': pd.Timestamp('2023-04-01', tz='UTC'), 'end': pd.Timestamp('2023-06-30', tz='UTC')},\n",
    "    'Q3 2023': {'start': pd.Timestamp('2023-07-01', tz='UTC'), 'end': pd.Timestamp('2023-09-30', tz='UTC')}\n",
    "}\n",
    "\n",
    "qmr_metrics = pd.DataFrame(columns=[\n",
    "    'Quarter',\n",
    "    'Cards at Beginning (Open)',\n",
    "    'Cards at Beginning (Blocked)',\n",
    "    'New Cards Obtained',\n",
    "    'Cards Terminated',\n",
    "    'Cards at End (Open)',\n",
    "    'Cards at End (Blocked)',\n",
    "    'Cards with at Least One Transaction'\n",
    "])\n",
    "\n",
    "\n"
   ]
  },
  {
   "cell_type": "code",
   "execution_count": 19,
   "metadata": {},
   "outputs": [
    {
     "name": "stdout",
     "output_type": "stream",
     "text": [
      "--- Relatório QMR Final (com Racional Ajustado) ---\n"
     ]
    },
    {
     "data": {
      "text/html": [
       "<div>\n",
       "<style scoped>\n",
       "    .dataframe tbody tr th:only-of-type {\n",
       "        vertical-align: middle;\n",
       "    }\n",
       "\n",
       "    .dataframe tbody tr th {\n",
       "        vertical-align: top;\n",
       "    }\n",
       "\n",
       "    .dataframe thead th {\n",
       "        text-align: right;\n",
       "    }\n",
       "</style>\n",
       "<table border=\"1\" class=\"dataframe\">\n",
       "  <thead>\n",
       "    <tr style=\"text-align: right;\">\n",
       "      <th></th>\n",
       "      <th>Quarter</th>\n",
       "      <th>Cards at Beginning (Open)</th>\n",
       "      <th>Cards at Beginning (Blocked)</th>\n",
       "      <th>New Cards Obtained</th>\n",
       "      <th>Cards Terminated</th>\n",
       "      <th>Cards at End (Open)</th>\n",
       "      <th>Cards at End (Blocked)</th>\n",
       "      <th>Cards with at Least One Transaction</th>\n",
       "    </tr>\n",
       "  </thead>\n",
       "  <tbody>\n",
       "    <tr>\n",
       "      <th>0</th>\n",
       "      <td>Q1 2023</td>\n",
       "      <td>158599</td>\n",
       "      <td>1168</td>\n",
       "      <td>31800</td>\n",
       "      <td>4686</td>\n",
       "      <td>181508</td>\n",
       "      <td>5373</td>\n",
       "      <td>126560</td>\n",
       "    </tr>\n",
       "    <tr>\n",
       "      <th>1</th>\n",
       "      <td>Q2 2023</td>\n",
       "      <td>181508</td>\n",
       "      <td>5373</td>\n",
       "      <td>42687</td>\n",
       "      <td>8687</td>\n",
       "      <td>215200</td>\n",
       "      <td>5681</td>\n",
       "      <td>153578</td>\n",
       "    </tr>\n",
       "    <tr>\n",
       "      <th>2</th>\n",
       "      <td>Q3 2023</td>\n",
       "      <td>215200</td>\n",
       "      <td>5681</td>\n",
       "      <td>48187</td>\n",
       "      <td>11061</td>\n",
       "      <td>251915</td>\n",
       "      <td>6092</td>\n",
       "      <td>173232</td>\n",
       "    </tr>\n",
       "  </tbody>\n",
       "</table>\n",
       "</div>"
      ],
      "text/plain": [
       "   Quarter  Cards at Beginning (Open)  Cards at Beginning (Blocked)  \\\n",
       "0  Q1 2023                     158599                          1168   \n",
       "1  Q2 2023                     181508                          5373   \n",
       "2  Q3 2023                     215200                          5681   \n",
       "\n",
       "   New Cards Obtained  Cards Terminated  Cards at End (Open)  \\\n",
       "0               31800              4686               181508   \n",
       "1               42687              8687               215200   \n",
       "2               48187             11061               251915   \n",
       "\n",
       "   Cards at End (Blocked)  Cards with at Least One Transaction  \n",
       "0                    5373                               126560  \n",
       "1                    5681                               153578  \n",
       "2                    6092                               173232  "
      ]
     },
     "metadata": {},
     "output_type": "display_data"
    },
    {
     "name": "stdout",
     "output_type": "stream",
     "text": [
      "\n",
      "--- Validação da Equação (Fim ≈ Início + Novos - Terminados) ---\n"
     ]
    },
    {
     "data": {
      "text/html": [
       "<div>\n",
       "<style scoped>\n",
       "    .dataframe tbody tr th:only-of-type {\n",
       "        vertical-align: middle;\n",
       "    }\n",
       "\n",
       "    .dataframe tbody tr th {\n",
       "        vertical-align: top;\n",
       "    }\n",
       "\n",
       "    .dataframe thead th {\n",
       "        text-align: right;\n",
       "    }\n",
       "</style>\n",
       "<table border=\"1\" class=\"dataframe\">\n",
       "  <thead>\n",
       "    <tr style=\"text-align: right;\">\n",
       "      <th></th>\n",
       "      <th>Quarter</th>\n",
       "      <th>Beginning Total</th>\n",
       "      <th>New Cards Obtained</th>\n",
       "      <th>Cards Terminated</th>\n",
       "      <th>End Total</th>\n",
       "      <th>Calculated End Total</th>\n",
       "      <th>Difference</th>\n",
       "    </tr>\n",
       "  </thead>\n",
       "  <tbody>\n",
       "    <tr>\n",
       "      <th>0</th>\n",
       "      <td>Q1 2023</td>\n",
       "      <td>159767</td>\n",
       "      <td>31800</td>\n",
       "      <td>4686</td>\n",
       "      <td>186881</td>\n",
       "      <td>186881</td>\n",
       "      <td>0</td>\n",
       "    </tr>\n",
       "    <tr>\n",
       "      <th>1</th>\n",
       "      <td>Q2 2023</td>\n",
       "      <td>186881</td>\n",
       "      <td>42687</td>\n",
       "      <td>8687</td>\n",
       "      <td>220881</td>\n",
       "      <td>220881</td>\n",
       "      <td>0</td>\n",
       "    </tr>\n",
       "    <tr>\n",
       "      <th>2</th>\n",
       "      <td>Q3 2023</td>\n",
       "      <td>220881</td>\n",
       "      <td>48187</td>\n",
       "      <td>11061</td>\n",
       "      <td>258007</td>\n",
       "      <td>258007</td>\n",
       "      <td>0</td>\n",
       "    </tr>\n",
       "  </tbody>\n",
       "</table>\n",
       "</div>"
      ],
      "text/plain": [
       "   Quarter  Beginning Total  New Cards Obtained  Cards Terminated  End Total  \\\n",
       "0  Q1 2023           159767               31800              4686     186881   \n",
       "1  Q2 2023           186881               42687              8687     220881   \n",
       "2  Q3 2023           220881               48187             11061     258007   \n",
       "\n",
       "   Calculated End Total  Difference  \n",
       "0                186881           0  \n",
       "1                220881           0  \n",
       "2                258007           0  "
      ]
     },
     "metadata": {},
     "output_type": "display_data"
    }
   ],
   "source": [
    "qmr_results_list = []\n",
    "\n",
    "for quarter_name, dates in quarters.items():\n",
    "    start_date = dates['start']\n",
    "    end_date = dates['end']\n",
    "    \n",
    "    # --- Cartões no Início do Trimestre ---\n",
    "    beginning_df = get_status_on_date_vectorized(cards_status, start_date - pd.Timedelta(days=1))\n",
    "    beginning_counts = beginning_df['card_status'].value_counts()\n",
    "    beginning_open = beginning_counts.get('OPEN', 0)\n",
    "    beginning_blocked = beginning_counts.get('TEMPORARILY_BLOCKED', 0)\n",
    "\n",
    "    # Novos Cartões Obtidos\n",
    "    previous_quarter_end_date = start_date - pd.Timedelta(days=1)\n",
    "    \n",
    "    # 1. Conjunto de cartões que existiam ATÉ o fim do trimestre anterior.\n",
    "    cards_before = set(cards_status[cards_status['started_at'] <= previous_quarter_end_date]['card_number'].unique())\n",
    "    \n",
    "    # 2. Conjunto de cartões que existem ATÉ o fim do trimestre atual.\n",
    "    cards_now = set(cards_status[cards_status['started_at'] <= end_date]['card_number'].unique())\n",
    "    \n",
    "    # 3. A diferença resulta nos cartões que apareceram pela primeira vez neste trimestre.\n",
    "    new_cards = len(cards_now.difference(cards_before))\n",
    "   \n",
    "\n",
    "    # --- Cartões Terminados ---\n",
    "    terminated_cards = cards_status[\n",
    "        (cards_status['started_at'] >= start_date) & \n",
    "        (cards_status['started_at'] <= end_date) & \n",
    "        (cards_status['card_status'] == 'PERMANENTLY_TERMINATED')\n",
    "    ]['card_number'].nunique()\n",
    "\n",
    "    # --- Cartões no Fim do Trimestre ---\n",
    "    end_df = get_status_on_date_vectorized(cards_status, end_date)\n",
    "    end_counts = end_df['card_status'].value_counts()\n",
    "    end_open = end_counts.get('OPEN', 0)\n",
    "    end_blocked = end_counts.get('TEMPORARILY_BLOCKED', 0)\n",
    "\n",
    "    # --- Transações ---\n",
    "    transactions_in_quarter = cards_transactions[\n",
    "        (cards_transactions['transaction_date'] >= start_date) &\n",
    "        (cards_transactions['transaction_date'] <= end_date)\n",
    "    ]\n",
    "    cards_with_transactions = transactions_in_quarter['card_number'].nunique()\n",
    "\n",
    "    # Adiciona um dicionário com os resultados do trimestre à lista\n",
    "    qmr_results_list.append({\n",
    "        'Quarter': quarter_name,\n",
    "        'Cards at Beginning (Open)': beginning_open,\n",
    "        'Cards at Beginning (Blocked)': beginning_blocked,\n",
    "        'New Cards Obtained': new_cards,\n",
    "        'Cards Terminated': terminated_cards,\n",
    "        'Cards at End (Open)': end_open,\n",
    "        'Cards at End (Blocked)': end_blocked,\n",
    "        'Cards with at Least One Transaction': cards_with_transactions\n",
    "    })\n",
    "\n",
    "# Cria o DataFrame final a partir da lista\n",
    "qmr_metrics = pd.DataFrame(qmr_results_list)\n",
    "\n",
    "print(\"--- Relatório QMR Final (com Racional Ajustado) ---\")\n",
    "display(qmr_metrics)\n",
    "\n",
    "\n",
    "# --- Validação da Equação de Balanço ---\n",
    "print(\"\\n--- Validação da Equação (Fim ≈ Início + Novos - Terminados) ---\")\n",
    "qmr_metrics['Beginning Total'] = qmr_metrics['Cards at Beginning (Open)'] + qmr_metrics['Cards at Beginning (Blocked)']\n",
    "qmr_metrics['End Total'] = qmr_metrics['Cards at End (Open)'] + qmr_metrics['Cards at End (Blocked)']\n",
    "qmr_metrics['Calculated End Total'] = qmr_metrics['Beginning Total'] + qmr_metrics['New Cards Obtained'] - qmr_metrics['Cards Terminated']\n",
    "qmr_metrics['Difference'] = qmr_metrics['End Total'] - qmr_metrics['Calculated End Total']\n",
    "\n",
    "display(qmr_metrics[['Quarter', 'Beginning Total', 'New Cards Obtained', 'Cards Terminated', 'End Total', 'Calculated End Total', 'Difference']])\n"
   ]
  },
  {
   "cell_type": "markdown",
   "metadata": {},
   "source": [
    "## 6. Análise Contactless (Questão 2)\n"
   ]
  },
  {
   "cell_type": "markdown",
   "metadata": {},
   "source": [
    "### 6.1. Percentual de Cartões Contactless no final do Q3/2023\n"
   ]
  },
  {
   "cell_type": "code",
   "execution_count": 20,
   "metadata": {},
   "outputs": [
    {
     "name": "stdout",
     "output_type": "stream",
     "text": [
      "Percentual de cartões Contactless ativos no final do Q3/2023: 79.80%\n"
     ]
    }
   ],
   "source": [
    "# Definir a data final do Q3 2023\n",
    "q3_end_2023 = quarters['Q3 2023']['end']\n",
    "\n",
    "# Obter o status de cada cartão no final do Q3 2023 usando a função vetorizada\n",
    "q3_end_status_df = get_status_on_date_vectorized(cards_status, q3_end_2023)\n",
    "\n",
    "# Fazer merge do status no DataFrame 'cards'\n",
    "cards_with_status = cards.merge(\n",
    "    q3_end_status_df[['card_number', 'card_status']],\n",
    "    on='card_number',\n",
    "    how='left'\n",
    ")\n",
    "cards_with_status = cards_with_status.rename(columns={'card_status': 'status_q3_end'})\n",
    "\n",
    "# Filtrar apenas cartões ativos (OPEN) no final do Q3\n",
    "active_cards_q3_end = cards_with_status[cards_with_status['status_q3_end'] == 'OPEN']\n",
    "\n",
    "# Calcular o percentual de cartões contactless usando a coluna correta: 'card_model'\n",
    "contactless_counts = active_cards_q3_end['card_model'].value_counts()\n",
    "total_active_cards = contactless_counts.sum()\n",
    "\n",
    "if total_active_cards > 0:\n",
    "    # Usamos .get('CONTACTLESS', 0) para buscar o valor correto e evitar erros se não houver nenhum\n",
    "    percent_contactless = (contactless_counts.get('CONTACTLESS', 0) / total_active_cards) * 100\n",
    "    print(f'Percentual de cartões Contactless ativos no final do Q3/2023: {percent_contactless:.2f}%')\n",
    "else:\n",
    "    print('Não há cartões ativos no final do Q3/2023 para calcular o percentual Contactless.')\n",
    "\n",
    "\n"
   ]
  },
  {
   "cell_type": "markdown",
   "metadata": {},
   "source": [
    "### 6.2. Segmentação de Cartões PIN por Empresa\n"
   ]
  },
  {
   "cell_type": "code",
   "execution_count": 21,
   "metadata": {},
   "outputs": [
    {
     "name": "stdout",
     "output_type": "stream",
     "text": [
      "Top 10 Empresas com maior concentração de cartões PIN no final do Q3/2023:\n"
     ]
    },
    {
     "data": {
      "text/html": [
       "<div>\n",
       "<style scoped>\n",
       "    .dataframe tbody tr th:only-of-type {\n",
       "        vertical-align: middle;\n",
       "    }\n",
       "\n",
       "    .dataframe tbody tr th {\n",
       "        vertical-align: top;\n",
       "    }\n",
       "\n",
       "    .dataframe thead th {\n",
       "        text-align: right;\n",
       "    }\n",
       "</style>\n",
       "<table border=\"1\" class=\"dataframe\">\n",
       "  <thead>\n",
       "    <tr style=\"text-align: right;\">\n",
       "      <th></th>\n",
       "      <th>Company_ID</th>\n",
       "      <th>Contagem de Cartões PIN</th>\n",
       "    </tr>\n",
       "  </thead>\n",
       "  <tbody>\n",
       "    <tr>\n",
       "      <th>0</th>\n",
       "      <td>5e5845d509555e0007d06483</td>\n",
       "      <td>575</td>\n",
       "    </tr>\n",
       "    <tr>\n",
       "      <th>1</th>\n",
       "      <td>5d9408e9b0d899000754c19b</td>\n",
       "      <td>575</td>\n",
       "    </tr>\n",
       "    <tr>\n",
       "      <th>2</th>\n",
       "      <td>5f15f3ed20f6540008628942</td>\n",
       "      <td>499</td>\n",
       "    </tr>\n",
       "    <tr>\n",
       "      <th>3</th>\n",
       "      <td>6023d0e9f22b98000701db6f</td>\n",
       "      <td>392</td>\n",
       "    </tr>\n",
       "    <tr>\n",
       "      <th>4</th>\n",
       "      <td>60d1f118462483000902d83d</td>\n",
       "      <td>284</td>\n",
       "    </tr>\n",
       "    <tr>\n",
       "      <th>5</th>\n",
       "      <td>602faf45145da600073b1b1f</td>\n",
       "      <td>256</td>\n",
       "    </tr>\n",
       "    <tr>\n",
       "      <th>6</th>\n",
       "      <td>5f299d66b18f850008c4e289</td>\n",
       "      <td>249</td>\n",
       "    </tr>\n",
       "    <tr>\n",
       "      <th>7</th>\n",
       "      <td>60509c5a9964610007cc0031</td>\n",
       "      <td>243</td>\n",
       "    </tr>\n",
       "    <tr>\n",
       "      <th>8</th>\n",
       "      <td>61489736429d920009ff62eb</td>\n",
       "      <td>242</td>\n",
       "    </tr>\n",
       "    <tr>\n",
       "      <th>9</th>\n",
       "      <td>60d9d19a7751350008fcb408</td>\n",
       "      <td>208</td>\n",
       "    </tr>\n",
       "  </tbody>\n",
       "</table>\n",
       "</div>"
      ],
      "text/plain": [
       "                 Company_ID  Contagem de Cartões PIN\n",
       "0  5e5845d509555e0007d06483                      575\n",
       "1  5d9408e9b0d899000754c19b                      575\n",
       "2  5f15f3ed20f6540008628942                      499\n",
       "3  6023d0e9f22b98000701db6f                      392\n",
       "4  60d1f118462483000902d83d                      284\n",
       "5  602faf45145da600073b1b1f                      256\n",
       "6  5f299d66b18f850008c4e289                      249\n",
       "7  60509c5a9964610007cc0031                      243\n",
       "8  61489736429d920009ff62eb                      242\n",
       "9  60d9d19a7751350008fcb408                      208"
      ]
     },
     "metadata": {},
     "output_type": "display_data"
    }
   ],
   "source": [
    "# --- Segmentação de Cartões PIN por Empresa (Questão 2.2) ---\n",
    "\n",
    "# Filtrar cartões ativos no Q3/2023 que são do tipo 'PIN', usando a coluna correta 'card_model'.\n",
    "pin_cards_q3_end = active_cards_q3_end[active_cards_q3_end['card_model'] == 'PIN']\n",
    "\n",
    "# Agrupar por company_id e contar o número de cartões PIN\n",
    "pin_cards_by_company = pin_cards_q3_end['company_id'].value_counts().reset_index()\n",
    "pin_cards_by_company.columns = ['Company_ID', 'Contagem de Cartões PIN']\n",
    "\n",
    "print('Top 10 Empresas com maior concentração de cartões PIN no final do Q3/2023:')\n",
    "display(pin_cards_by_company.head(10))\n"
   ]
  },
  {
   "cell_type": "markdown",
   "metadata": {},
   "source": [
    "### 6.3. Cartões PIN com Validade Próxima (Candidatos a Contactless)\n"
   ]
  },
  {
   "cell_type": "code",
   "execution_count": 22,
   "metadata": {},
   "outputs": [
    {
     "name": "stdout",
     "output_type": "stream",
     "text": [
      "Número de cartões PIN ativos no Q3/2023 expirando nos próximos 6 meses: 50887\n",
      "Detalhes dos cartões PIN com validade próxima:\n"
     ]
    },
    {
     "data": {
      "text/html": [
       "<div>\n",
       "<style scoped>\n",
       "    .dataframe tbody tr th:only-of-type {\n",
       "        vertical-align: middle;\n",
       "    }\n",
       "\n",
       "    .dataframe tbody tr th {\n",
       "        vertical-align: top;\n",
       "    }\n",
       "\n",
       "    .dataframe thead th {\n",
       "        text-align: right;\n",
       "    }\n",
       "</style>\n",
       "<table border=\"1\" class=\"dataframe\">\n",
       "  <thead>\n",
       "    <tr style=\"text-align: right;\">\n",
       "      <th></th>\n",
       "      <th>card_number</th>\n",
       "      <th>card_model</th>\n",
       "      <th>company_id</th>\n",
       "      <th>employee_id</th>\n",
       "      <th>valid_thru</th>\n",
       "      <th>status_q3_end</th>\n",
       "    </tr>\n",
       "  </thead>\n",
       "  <tbody>\n",
       "    <tr>\n",
       "      <th>0</th>\n",
       "      <td>150152835</td>\n",
       "      <td>PIN</td>\n",
       "      <td>5cf5818c6b3492639dabdf0e</td>\n",
       "      <td>606247fac815510007c03376</td>\n",
       "      <td>2023-01-31 00:00:00+00:00</td>\n",
       "      <td>OPEN</td>\n",
       "    </tr>\n",
       "    <tr>\n",
       "      <th>1</th>\n",
       "      <td>150162990</td>\n",
       "      <td>PIN</td>\n",
       "      <td>5e28a0d99311c2000897dc46</td>\n",
       "      <td>6128dfe52c16150009d1a945</td>\n",
       "      <td>2023-01-31 00:00:00+00:00</td>\n",
       "      <td>OPEN</td>\n",
       "    </tr>\n",
       "    <tr>\n",
       "      <th>3</th>\n",
       "      <td>150225330</td>\n",
       "      <td>PIN</td>\n",
       "      <td>5d9408e9b0d899000754c19b</td>\n",
       "      <td>6031be104968020008c40350</td>\n",
       "      <td>2023-01-31 00:00:00+00:00</td>\n",
       "      <td>OPEN</td>\n",
       "    </tr>\n",
       "    <tr>\n",
       "      <th>4</th>\n",
       "      <td>150234270</td>\n",
       "      <td>PIN</td>\n",
       "      <td>5d93b30434e9070007b85109</td>\n",
       "      <td>6035501ad6f91b000714abec</td>\n",
       "      <td>2023-01-31 00:00:00+00:00</td>\n",
       "      <td>OPEN</td>\n",
       "    </tr>\n",
       "    <tr>\n",
       "      <th>5</th>\n",
       "      <td>150238845</td>\n",
       "      <td>PIN</td>\n",
       "      <td>5d9408e9b0d899000754c19b</td>\n",
       "      <td>6031ba64651165000736689b</td>\n",
       "      <td>2023-01-31 00:00:00+00:00</td>\n",
       "      <td>OPEN</td>\n",
       "    </tr>\n",
       "  </tbody>\n",
       "</table>\n",
       "</div>"
      ],
      "text/plain": [
       "   card_number card_model                company_id               employee_id  \\\n",
       "0    150152835        PIN  5cf5818c6b3492639dabdf0e  606247fac815510007c03376   \n",
       "1    150162990        PIN  5e28a0d99311c2000897dc46  6128dfe52c16150009d1a945   \n",
       "3    150225330        PIN  5d9408e9b0d899000754c19b  6031be104968020008c40350   \n",
       "4    150234270        PIN  5d93b30434e9070007b85109  6035501ad6f91b000714abec   \n",
       "5    150238845        PIN  5d9408e9b0d899000754c19b  6031ba64651165000736689b   \n",
       "\n",
       "                 valid_thru status_q3_end  \n",
       "0 2023-01-31 00:00:00+00:00          OPEN  \n",
       "1 2023-01-31 00:00:00+00:00          OPEN  \n",
       "3 2023-01-31 00:00:00+00:00          OPEN  \n",
       "4 2023-01-31 00:00:00+00:00          OPEN  \n",
       "5 2023-01-31 00:00:00+00:00          OPEN  "
      ]
     },
     "metadata": {},
     "output_type": "display_data"
    },
    {
     "name": "stdout",
     "output_type": "stream",
     "text": [
      "\n",
      "Distribuição de cartões PIN com validade próxima por empresa:\n"
     ]
    },
    {
     "data": {
      "text/plain": [
       "company_id\n",
       "5e5845d509555e0007d06483    575\n",
       "5d9408e9b0d899000754c19b    575\n",
       "5f15f3ed20f6540008628942    499\n",
       "6023d0e9f22b98000701db6f    392\n",
       "60d1f118462483000902d83d    284\n",
       "602faf45145da600073b1b1f    256\n",
       "5f299d66b18f850008c4e289    249\n",
       "60509c5a9964610007cc0031    243\n",
       "61489736429d920009ff62eb    242\n",
       "60d9d19a7751350008fcb408    208\n",
       "Name: count, dtype: int64"
      ]
     },
     "metadata": {},
     "output_type": "display_data"
    }
   ],
   "source": [
    "# Definir a data limite para validade próxima (ex: 6 meses a partir do final do Q3/2023)\n",
    "expiration_cutoff_date = q3_end_2023 + pd.DateOffset(months=6)\n",
    "\n",
    "# Filtrar cartões PIN ativos no Q3/2023 com validade próxima\n",
    "pin_cards_expiring_soon = active_cards_q3_end[\n",
    "  \n",
    "    (active_cards_q3_end['card_model'] == 'PIN') &\n",
    "    \n",
    "    (active_cards_q3_end['valid_thru'] <= expiration_cutoff_date)\n",
    "]\n",
    "\n",
    "print(f'Número de cartões PIN ativos no Q3/2023 expirando nos próximos 6 meses: {len(pin_cards_expiring_soon)}')\n",
    "print('Detalhes dos cartões PIN com validade próxima:')\n",
    "display(pin_cards_expiring_soon.head())\n",
    "\n",
    "# Opcional: Analisar a distribuição por empresa desses cartões\n",
    "print('\\nDistribuição de cartões PIN com validade próxima por empresa:')\n",
    "display(pin_cards_expiring_soon['company_id'].value_counts().head(10))\n"
   ]
  },
  {
   "cell_type": "markdown",
   "metadata": {},
   "source": [
    "### 6.4. Gráfico: Contactless vs. PIN no Q3/2023\n"
   ]
  },
  {
   "cell_type": "code",
   "execution_count": 49,
   "metadata": {},
   "outputs": [
    {
     "data": {
      "image/png": "[encoded data removed]",
      "text/plain": [
       "<Figure size 1200x600 with 1 Axes>"
      ]
     },
     "metadata": {},
     "output_type": "display_data"
    }
   ],
   "source": [
    "import pandas as pd\n",
    "import matplotlib.pyplot as plt\n",
    "import seaborn as sns\n",
    "import os\n",
    "\n",
    "# Cria diretório de saída\n",
    "output_dir = r'C:\\Users\\eanes\\Documents\\flash_case\\outputs'\n",
    "os.makedirs(output_dir, exist_ok=True)\n",
    "\n",
    "# Prepara dados para visualização\n",
    "labels = contactless_counts.index\n",
    "sizes = contactless_counts.values\n",
    "total = sum(sizes)\n",
    "\n",
    "df = pd.DataFrame({\n",
    "    'Tipo de Cartão': labels,\n",
    "    'Quantidade': sizes,\n",
    "    'Percentual': [f'{(v/total):.1%}' for v in sizes]\n",
    "})\n",
    "\n",
    "plt.figure(figsize=(12, 6))\n",
    "\n",
    "# Cria gráfico de barras horizontal\n",
    "ax = sns.barplot(\n",
    "    data=df,\n",
    "    x='Quantidade',\n",
    "    y='Tipo de Cartão',\n",
    "    orient='h',\n",
    "    palette=['#FFC1E3', '#F30062'],\n",
    "    hue='Tipo de Cartão',\n",
    "    legend=False\n",
    ")\n",
    "\n",
    "# Personaliza títulos\n",
    "ax.set_title('Distribuição de Cartões Ativos (Contactless vs. PIN) no Final do Q3/2023', \n",
    "             fontsize=16, fontweight='bold', pad=20)\n",
    "ax.set_xlabel('Quantidade de Cartões', fontsize=12)\n",
    "ax.set_ylabel('Tipo de Cartão', fontsize=12)\n",
    "\n",
    "# Adiciona valores nas barras\n",
    "for container in ax.containers:\n",
    "    ax.bar_label(container, fmt='%d', fontsize=10, fontweight='bold')\n",
    "\n",
    "plt.tight_layout()\n",
    "\n",
    "# Salva e exibe\n",
    "output_path = os.path.join(output_dir, 'contactless_vs_pin_flash.png')\n",
    "plt.savefig(output_path, dpi=300, bbox_inches='tight')\n",
    "plt.show()\n"
   ]
  },
  {
   "cell_type": "markdown",
   "metadata": {},
   "source": [
    "### 6.5. Gráfico de Barras: Top Empresas com maior concentração de PIN\n"
   ]
  },
  {
   "cell_type": "code",
   "execution_count": 47,
   "metadata": {},
   "outputs": [
    {
     "data": {
      "image/png": "[encoded data removed]",
      "text/plain": [
       "<Figure size 1200x800 with 1 Axes>"
      ]
     },
     "metadata": {},
     "output_type": "display_data"
    }
   ],
   "source": [
    "import pandas as pd\n",
    "import matplotlib.pyplot as plt\n",
    "import seaborn as sns\n",
    "import os\n",
    "\n",
    "output_dir = r'C:\\Users\\eanes\\Documents\\flash_case\\outputs'\n",
    "os.makedirs(output_dir, exist_ok=True)\n",
    "\n",
    "top_10_pin_companies = pin_cards_by_company.head(10)\n",
    "\n",
    "plt.figure(figsize=(12, 8))\n",
    "\n",
    "# Cria gráfico de barras horizontal\n",
    "ax = sns.barplot(\n",
    "    data=top_10_pin_companies,\n",
    "    x='Contagem de Cartões PIN',\n",
    "    y='Company_ID',\n",
    "    orient='h',\n",
    "    palette='viridis',\n",
    "    hue='Company_ID',\n",
    "    legend=False\n",
    ")\n",
    "\n",
    "ax.set_title('Top 10 Empresas com Maior Concentração de Cartões PIN (Q3/2023)', \n",
    "             fontsize=16, fontweight='bold', pad=20)\n",
    "ax.set_xlabel('Número de Cartões PIN', fontsize=12)\n",
    "ax.set_ylabel('ID da Empresa', fontsize=12)\n",
    "\n",
    "# Adiciona valores nas barras\n",
    "for container in ax.containers:\n",
    "    ax.bar_label(container, fmt='%d', fontsize=10, fontweight='bold')\n",
    "\n",
    "plt.tight_layout()\n",
    "\n",
    "output_path = os.path.join(output_dir, 'top_companies_pin_chart.png')\n",
    "plt.savefig(output_path, dpi=300, bbox_inches='tight')\n",
    "plt.show()\n"
   ]
  },
  {
   "cell_type": "markdown",
   "metadata": {},
   "source": [
    "## 7. Insights Estratégicos (Questão 3)\n"
   ]
  },
  {
   "cell_type": "markdown",
   "metadata": {},
   "source": [
    "### 7.1. Bloqueios Retidos e Tempo Médio de Bloqueio\n"
   ]
  },
  {
   "cell_type": "code",
   "execution_count": 25,
   "metadata": {},
   "outputs": [
    {
     "name": "stdout",
     "output_type": "stream",
     "text": [
      "Número de eventos de bloqueio que não foram reativados ou terminados: 36217\n",
      "\n",
      "Exemplos de cartões com bloqueios retidos:\n"
     ]
    },
    {
     "data": {
      "text/html": [
       "<div>\n",
       "<style scoped>\n",
       "    .dataframe tbody tr th:only-of-type {\n",
       "        vertical-align: middle;\n",
       "    }\n",
       "\n",
       "    .dataframe tbody tr th {\n",
       "        vertical-align: top;\n",
       "    }\n",
       "\n",
       "    .dataframe thead th {\n",
       "        text-align: right;\n",
       "    }\n",
       "</style>\n",
       "<table border=\"1\" class=\"dataframe\">\n",
       "  <thead>\n",
       "    <tr style=\"text-align: right;\">\n",
       "      <th></th>\n",
       "      <th>card_number</th>\n",
       "      <th>started_at</th>\n",
       "      <th>card_status</th>\n",
       "      <th>next_status</th>\n",
       "    </tr>\n",
       "  </thead>\n",
       "  <tbody>\n",
       "    <tr>\n",
       "      <th>279662</th>\n",
       "      <td>114613725</td>\n",
       "      <td>2022-12-23 00:00:00+00:00</td>\n",
       "      <td>TEMPORARILY_BLOCKED</td>\n",
       "      <td>NaN</td>\n",
       "    </tr>\n",
       "    <tr>\n",
       "      <th>78401</th>\n",
       "      <td>114659880</td>\n",
       "      <td>2023-02-02 00:00:00+00:00</td>\n",
       "      <td>TEMPORARILY_BLOCKED</td>\n",
       "      <td>NaN</td>\n",
       "    </tr>\n",
       "    <tr>\n",
       "      <th>358993</th>\n",
       "      <td>114719160</td>\n",
       "      <td>2023-02-02 00:00:00+00:00</td>\n",
       "      <td>TEMPORARILY_BLOCKED</td>\n",
       "      <td>NaN</td>\n",
       "    </tr>\n",
       "    <tr>\n",
       "      <th>319743</th>\n",
       "      <td>116680095</td>\n",
       "      <td>2023-01-11 00:00:00+00:00</td>\n",
       "      <td>TEMPORARILY_BLOCKED</td>\n",
       "      <td>NaN</td>\n",
       "    </tr>\n",
       "    <tr>\n",
       "      <th>159744</th>\n",
       "      <td>117405135</td>\n",
       "      <td>2023-02-01 00:00:00+00:00</td>\n",
       "      <td>TEMPORARILY_BLOCKED</td>\n",
       "      <td>NaN</td>\n",
       "    </tr>\n",
       "  </tbody>\n",
       "</table>\n",
       "</div>"
      ],
      "text/plain": [
       "        card_number                started_at          card_status next_status\n",
       "279662    114613725 2022-12-23 00:00:00+00:00  TEMPORARILY_BLOCKED         NaN\n",
       "78401     114659880 2023-02-02 00:00:00+00:00  TEMPORARILY_BLOCKED         NaN\n",
       "358993    114719160 2023-02-02 00:00:00+00:00  TEMPORARILY_BLOCKED         NaN\n",
       "319743    116680095 2023-01-11 00:00:00+00:00  TEMPORARILY_BLOCKED         NaN\n",
       "159744    117405135 2023-02-01 00:00:00+00:00  TEMPORARILY_BLOCKED         NaN"
      ]
     },
     "metadata": {},
     "output_type": "display_data"
    },
    {
     "name": "stdout",
     "output_type": "stream",
     "text": [
      "\n",
      "Tempo médio de bloqueio (dias) para bloqueios com data de término: 3.75 dias\n",
      "\n",
      "Recomendações para Cartões com Bloqueios Retidos (ou longos):\n",
      "- Implementar um sistema de alertas para bloqueios que excedam um certo período (ex: 30 dias).\n",
      "- Propor campanhas de reativação para clientes com cartões bloqueados temporariamente por longos períodos.\n",
      "- Oferecer suporte proativo para entender a causa do bloqueio e auxiliar na resolução.\n",
      "- Analisar os motivos mais comuns de bloqueio para identificar tendências e pontos de melhoria no processo.\n"
     ]
    }
   ],
   "source": [
    "# Identificar cartões que ficaram 'temporariamente bloqueados' e não mudaram de status no trimestre seguinte\n",
    "# Vamos considerar os status iniciados no Q1 e Q2 de 2023\n",
    "# 1. ORDENAÇÃO: Garante que os status de cada cartão estão em ordem cronológica.\n",
    "\n",
    "cards_status_sorted = cards_status.sort_values(by=['card_number', 'started_at'])\n",
    "\n",
    "# 2. CRIAÇÃO DA COLUNA 'next_status':\n",
    "# Usamos groupby() e shift(-1) para criar uma nova coluna que contém o status\n",
    "# subsequente para cada cartão. Para o último status de um cartão, o valor será NaT (Not a Time).\n",
    "cards_status_sorted['next_status'] = cards_status_sorted.groupby('card_number')['card_status'].shift(-1)\n",
    "\n",
    "# 3. FILTRO VETORIZADO PARA BLOQUEIOS RETIDOS:\n",
    "# Um bloqueio é considerado 'retido' se o status atual é 'TEMPORARILY_BLOCKED' E\n",
    "# o próximo status não existe (é o último status conhecido) OU o próximo status não é 'OPEN' nem 'PERMANENTLY_TERMINATED'.\n",
    "retained_blocked_cards = cards_status_sorted[\n",
    "    (cards_status_sorted['card_status'] == 'TEMPORARILY_BLOCKED') &\n",
    "    (~cards_status_sorted['next_status'].isin(['OPEN', 'PERMANENTLY_TERMINATED']))\n",
    "]\n",
    "\n",
    "print(f\"Número de eventos de bloqueio que não foram reativados ou terminados: {len(retained_blocked_cards)}\")\n",
    "print(\"\\nExemplos de cartões com bloqueios retidos:\")\n",
    "display(retained_blocked_cards[['card_number', 'started_at', 'card_status', 'next_status']].head())\n",
    "\n",
    "\n",
    "# --- Cálculo do Tempo Médio para Bloqueios RESOLVIDOS ---\n",
    "# Esta parte do seu código já estava correta e otimizada.\n",
    "# Ela calcula a duração média dos bloqueios que tiveram uma data de término.\n",
    "blocked_durations = cards_status[\n",
    "    (cards_status['card_status'] == 'TEMPORARILY_BLOCKED') &\n",
    "    (cards_status['ended_at'].notna())\n",
    "].copy()\n",
    "\n",
    "if not blocked_durations.empty:\n",
    "    blocked_durations['duration_days'] = (blocked_durations['ended_at'] - blocked_durations['started_at']).dt.days\n",
    "    avg_block_duration = blocked_durations['duration_days'].mean()\n",
    "    print(f'\\nTempo médio de bloqueio (dias) para bloqueios com data de término: {avg_block_duration:.2f} dias')\n",
    "else:\n",
    "    print('\\nNão há registros de bloqueio com data de término para calcular o tempo médio.')\n",
    "\n",
    "\n",
    "# --- Recomendações Estratégicas ---\n",
    "print('\\nRecomendações para Cartões com Bloqueios Retidos (ou longos):')\n",
    "print('- Implementar um sistema de alertas para bloqueios que excedam um certo período (ex: 30 dias).')\n",
    "print('- Propor campanhas de reativação para clientes com cartões bloqueados temporariamente por longos períodos.')\n",
    "print('- Oferecer suporte proativo para entender a causa do bloqueio e auxiliar na resolução.')\n",
    "print('- Analisar os motivos mais comuns de bloqueio para identificar tendências e pontos de melhoria no processo.')\n"
   ]
  },
  {
   "cell_type": "markdown",
   "metadata": {},
   "source": [
    "### 7.2. Impacto da Taxa de Bloqueios\n"
   ]
  },
  {
   "cell_type": "code",
   "execution_count": 26,
   "metadata": {},
   "outputs": [
    {
     "name": "stdout",
     "output_type": "stream",
     "text": [
      "Efeitos do Impacto da Taxa de Bloqueios:\n",
      "- Perda de receita: Cartões bloqueados não geram transações.\n",
      "- Churn (abandono): Insatisfação pode levar ao cancelamento do cartão.\n",
      "- Aumento de custos de suporte: Aumento de chamados para resolução.\n",
      "- Impacto na reputação da marca: Experiências negativas com bloqueios.\n",
      "\n",
      "Valor médio transacionado por cartão ativo (no Q3/2023): R$ 1585.02\n",
      "Número de cartões bloqueados no final do Q3/2023: 6092\n",
      "Estimativa de perda de receita potencial devido a cartões bloqueados (no Q3/2023): R$ 9,655,917.62\n",
      "\n",
      "Nota: Esta é uma estimativa simplificada para quantificar o impacto do problema.\n"
     ]
    }
   ],
   "source": [
    "# --- 7.2. Impacto da Taxa de Bloqueios (Corrigido e Refinado) ---\n",
    "\n",
    "print('Efeitos do Impacto da Taxa de Bloqueios:')\n",
    "print('- Perda de receita: Cartões bloqueados não geram transações.')\n",
    "print('- Churn (abandono): Insatisfação pode levar ao cancelamento do cartão.')\n",
    "print('- Aumento de custos de suporte: Aumento de chamados para resolução.')\n",
    "print('- Impacto na reputação da marca: Experiências negativas com bloqueios.')\n",
    "\n",
    "# --- Estimativa de Perda de Receita ---\n",
    "\n",
    "# Filtrar o total de transações no Q3/2023\n",
    "total_transactions_q3 = cards_transactions[\n",
    "    (cards_transactions['transaction_date'] >= quarters['Q3 2023']['start']) &\n",
    "    (cards_transactions['transaction_date'] <= quarters['Q3 2023']['end'])\n",
    "]\n",
    "\n",
    "#  Calcular o número de cartões que efetivamente transacionaram no Q3\n",
    "num_transacting_cards_q3 = total_transactions_q3['card_number'].nunique()\n",
    "\n",
    "# Calcular o valor médio por cartão que transacionou\n",
    "if num_transacting_cards_q3 > 0:\n",
    "    # CORREÇÃO: Usando a coluna correta 'amount'\n",
    "    avg_value_per_transacting_card = total_transactions_q3['amount'].sum() / num_transacting_cards_q3\n",
    "else:\n",
    "    avg_value_per_transacting_card = 0\n",
    "\n",
    "print(f'\\nValor médio transacionado por cartão ativo (no Q3/2023): R$ {avg_value_per_transacting_card:.2f}')\n",
    "\n",
    "# Contar o número de cartões bloqueados no final do Q3\n",
    "num_blocked_cards_q3_end = (cards_with_status['status_q3_end'] == 'TEMPORARILY_BLOCKED').sum()\n",
    "\n",
    "# Estimar a perda de receita potencial\n",
    "estimated_total_revenue_loss = num_blocked_cards_q3_end * avg_value_per_transacting_card\n",
    "\n",
    "print(f'Número de cartões bloqueados no final do Q3/2023: {num_blocked_cards_q3_end}')\n",
    "print(f'Estimativa de perda de receita potencial devido a cartões bloqueados (no Q3/2023): R$ {estimated_total_revenue_loss:,.2f}') # Adicionada formatação de milhar\n",
    "print('\\nNota: Esta é uma estimativa simplificada para quantificar o impacto do problema.')\n"
   ]
  },
  {
   "cell_type": "markdown",
   "metadata": {},
   "source": [
    "### 7.3. Cartões Expirando em Q4\n"
   ]
  },
  {
   "cell_type": "code",
   "execution_count": 27,
   "metadata": {},
   "outputs": [
    {
     "name": "stdout",
     "output_type": "stream",
     "text": [
      "Volume de cartões expirando no Q4/2023: 25267\n",
      "Distribuição de status dos cartões expirando no Q4/2023:\n"
     ]
    },
    {
     "data": {
      "text/plain": [
       "current_status\n",
       "OPEN                      21592\n",
       "PERMANENTLY_TERMINATED     2757\n",
       "TEMPORARILY_BLOCKED         916\n",
       "Name: count, dtype: int64"
      ]
     },
     "metadata": {},
     "output_type": "display_data"
    },
    {
     "name": "stdout",
     "output_type": "stream",
     "text": [
      "\n",
      "📌 Recomendações para cartões expirando no Q4/2023:\n",
      "\n",
      "1️⃣ Renovação automática para cartões ativos\n",
      "   🔹 Para cartões com status 'OPEN', implementar um processo de renovação automática ou proativa,\n",
      "     garantindo a continuidade do serviço e a retenção do cliente.\n",
      "\n",
      "2️⃣ Campanhas de reengajamento para cartões inativos\n",
      "   🔹 Para cartões com status 'TEMPORARILY_BLOCKED' ou inativos, criar campanhas personalizadas\n",
      "     para entender o motivo da inatividade e incentivar a reativação com um novo cartão Contactless.\n",
      "\n",
      "3️⃣ Análise de perfil\n",
      "   🔹 Investigar o perfil dos cartões que estão expirando (empresa, tipo de uso) para identificar padrões\n",
      "     e otimizar estratégias de renovação e reengajamento.\n",
      "\n",
      "4️⃣ Oferta de upgrade\n",
      "   🔹 Aproveitar a renovação para oferecer um upgrade para cartões Contactless,\n",
      "     promovendo a tecnologia e seus benefícios.\n"
     ]
    }
   ],
   "source": [
    "# Definir o período do Q4/2023\n",
    "\n",
    "q4_2023_start = pd.Timestamp('2023-10-01', tz='UTC')\n",
    "q4_2023_end = pd.Timestamp('2023-12-31', tz='UTC')\n",
    "\n",
    "# Filtrar cartões com valid_thru no Q4/2023\n",
    "cards_expiring_q4 = cards[\n",
    "    (cards['valid_thru'] >= q4_2023_start) &\n",
    "    (cards['valid_thru'] <= q4_2023_end)\n",
    "].copy()\n",
    "\n",
    "# Obter o status dos cartões no momento em que entram no período de expiração (final do Q3)\n",
    "current_status_df = get_status_on_date_vectorized(cards_status, q4_2023_start - pd.Timedelta(days=1))\n",
    "\n",
    "# Fazer merge do status atual no DataFrame cards_expiring_q4\n",
    "cards_expiring_q4 = cards_expiring_q4.merge(\n",
    "    current_status_df[['card_number', 'card_status']],\n",
    "    on='card_number',\n",
    "    how='left'\n",
    ")\n",
    "cards_expiring_q4 = cards_expiring_q4.rename(columns={'card_status': 'current_status'})\n",
    "\n",
    "print(f'Volume de cartões expirando no Q4/2023: {len(cards_expiring_q4)}')\n",
    "print('Distribuição de status dos cartões expirando no Q4/2023:')\n",
    "display(cards_expiring_q4['current_status'].value_counts())\n",
    "\n",
    "print(\"\\n📌 Recomendações para cartões expirando no Q4/2023:\\n\")\n",
    "\n",
    "print(\"1️⃣ Renovação automática para cartões ativos\")\n",
    "print(\"   🔹 Para cartões com status 'OPEN', implementar um processo de renovação automática ou proativa,\")\n",
    "print(\"     garantindo a continuidade do serviço e a retenção do cliente.\\n\")\n",
    "\n",
    "print(\"2️⃣ Campanhas de reengajamento para cartões inativos\")\n",
    "print(\"   🔹 Para cartões com status 'TEMPORARILY_BLOCKED' ou inativos, criar campanhas personalizadas\")\n",
    "print(\"     para entender o motivo da inatividade e incentivar a reativação com um novo cartão Contactless.\\n\")\n",
    "\n",
    "print(\"3️⃣ Análise de perfil\")\n",
    "print(\"   🔹 Investigar o perfil dos cartões que estão expirando (empresa, tipo de uso) para identificar padrões\")\n",
    "print(\"     e otimizar estratégias de renovação e reengajamento.\\n\")\n",
    "\n",
    "print(\"4️⃣ Oferta de upgrade\")\n",
    "print(\"   🔹 Aproveitar a renovação para oferecer um upgrade para cartões Contactless,\")\n",
    "print(\"     promovendo a tecnologia e seus benefícios.\")\n"
   ]
  },
  {
   "cell_type": "markdown",
   "metadata": {},
   "source": [
    "### 8.1. Evolução das Métricas QMR (Gráfico de Linha Interativo)"
   ]
  },
  {
   "cell_type": "code",
   "execution_count": 40,
   "metadata": {},
   "outputs": [
    {
     "data": {
      "image/png": "[encoded data removed]",
      "text/plain": [
       "<Figure size 1200x700 with 1 Axes>"
      ]
     },
     "metadata": {},
     "output_type": "display_data"
    }
   ],
   "source": [
    "import seaborn as sns\n",
    "import matplotlib.pyplot as plt\n",
    "import os\n",
    "\n",
    "# Garante que o diretório de saída exista\n",
    "output_dir = r'C:\\Users\\eanes\\Documents\\flash_case\\outputs'\n",
    "os.makedirs(output_dir, exist_ok=True)\n",
    "\n",
    "# Configurar o tamanho da figura\n",
    "plt.figure(figsize=(12, 7))\n",
    "\n",
    "# Criar o gráfico de linha com Seaborn\n",
    "ax = sns.lineplot(\n",
    "    data=qmr_metrics_long,\n",
    "    x='Quarter',\n",
    "    y='Número de Cartões',\n",
    "    hue='Métrica',\n",
    "    marker='o' \n",
    ")\n",
    "\n",
    "# Melhorar o layout\n",
    "ax.set_title('Evolução das Métricas QMR por Trimestre', fontsize=16)\n",
    "ax.set_xlabel('Trimestre', fontsize=12)\n",
    "ax.set_ylabel('Número de Cartões', fontsize=12)\n",
    "plt.xticks(rotation=45)\n",
    "plt.grid(True, linestyle='--', alpha=0.6)\n",
    "plt.tight_layout()\n",
    "\n",
    "# Salvar o arquivo (esta ação não gera saída visual)\n",
    "output_path_seaborn = os.path.join(output_dir, 'qmr_metrics_chart_seaborn.png')\n",
    "plt.savefig(output_path_seaborn)\n",
    "\n",
    "# Exibir o gráfico gerado (uma única vez)\n",
    "plt.show() \n",
    "\n",
    "# A linha \"Image(...)\" foi removida para evitar a duplicidade."
   ]
  },
  {
   "cell_type": "markdown",
   "metadata": {},
   "source": [
    "### 8.2. Composição de Cartões (Gráfico de Barras Empilhadas Interativo)\n"
   ]
  },
  {
   "cell_type": "code",
   "execution_count": 41,
   "metadata": {},
   "outputs": [
    {
     "data": {
      "image/png": "[encoded data removed]",
      "text/plain": [
       "<Figure size 1200x700 with 1 Axes>"
      ]
     },
     "metadata": {},
     "output_type": "display_data"
    }
   ],
   "source": [
    "import pandas as pd\n",
    "import matplotlib.pyplot as plt\n",
    "import os\n",
    "\n",
    "# Garante que o diretório de saída exista\n",
    "output_dir = r'C:\\Users\\eanes\\Documents\\flash_case\\outputs'\n",
    "os.makedirs(output_dir, exist_ok=True)\n",
    "\n",
    "# 1. Preparar os dados (pivotar para o formato \"largo\")\n",
    "# O DataFrame original 'qmr_metrics' é usado aqui\n",
    "pivoted_data = qmr_metrics.pivot_table(\n",
    "    index='Quarter',\n",
    "    values=['Cards at End (Open)', 'Cards at End (Blocked)'],\n",
    "    aggfunc='sum' # Garante a agregação caso haja duplicatas\n",
    ")\n",
    "\n",
    "# 2. Criar a figura e os eixos do gráfico\n",
    "fig, ax = plt.subplots(figsize=(12, 7))\n",
    "\n",
    "# Define as cores\n",
    "cores = {\n",
    "    'Cards at End (Open)': '#F30062', \n",
    "    'Cards at End (Blocked)': '#FFC1E3'\n",
    "}\n",
    "largura_barra = 0.6 # Define uma largura para as barras\n",
    "\n",
    "# 3. Plotar as barras empilhadas\n",
    "# Primeiro, a base da pilha (Cartões Abertos)\n",
    "ax.bar(\n",
    "    pivoted_data.index, \n",
    "    pivoted_data['Cards at End (Open)'], \n",
    "    label='Cards at End (Open)', \n",
    "    color=cores['Cards at End (Open)'],\n",
    "    width=largura_barra\n",
    ")\n",
    "# Segundo, o topo da pilha (Cartões Bloqueados), usando o parâmetro 'bottom'\n",
    "ax.bar(\n",
    "    pivoted_data.index, \n",
    "    pivoted_data['Cards at End (Blocked)'], \n",
    "    label='Cards at End (Blocked)', \n",
    "    color=cores['Cards at End (Blocked)'],\n",
    "    bottom=pivoted_data['Cards at End (Open)'], # A mágica do empilhamento\n",
    "    width=largura_barra\n",
    ")\n",
    "\n",
    "# 4. Adicionar os valores no centro de cada segmento da barra\n",
    "# Loop através dos trimestres para posicionar os textos\n",
    "for quarter in pivoted_data.index:\n",
    "    # Valor e posição para a barra inferior (Open)\n",
    "    valor_open = pivoted_data.loc[quarter, 'Cards at End (Open)']\n",
    "    pos_y_open = valor_open / 2\n",
    "    ax.text(quarter, pos_y_open, f'{int(valor_open)}', ha='center', va='center', color='white', fontsize=10, fontweight='bold')\n",
    "    \n",
    "    # Valor e posição para a barra superior (Blocked)\n",
    "    valor_blocked = pivoted_data.loc[quarter, 'Cards at End (Blocked)']\n",
    "    pos_y_blocked = valor_open + (valor_blocked / 2)\n",
    "    ax.text(quarter, pos_y_blocked, f'{int(valor_blocked)}', ha='center', va='center', color='black', fontsize=10)\n",
    "\n",
    "\n",
    "\n",
    "ax.set_title('Composição de Cartões no Fim do Trimestre (Abertos vs. Bloqueados)', fontsize=16)\n",
    "ax.set_xlabel('Trimestre', fontsize=12)\n",
    "ax.set_ylabel('Número de Cartões', fontsize=12)\n",
    "ax.legend(title='Status')\n",
    "plt.xticks(rotation=45)\n",
    "plt.tight_layout()\n",
    "\n",
    "output_path = os.path.join(output_dir, 'qmr_stacked_bar_chart.png')\n",
    "plt.savefig(output_path)\n",
    "plt.show()\n",
    "\n"
   ]
  },
  {
   "cell_type": "markdown",
   "metadata": {},
   "source": [
    "### 8.3 Gráfico de Novos Cartões vs. Encerrados com Projeção"
   ]
  },
  {
   "cell_type": "code",
   "execution_count": 42,
   "metadata": {},
   "outputs": [
    {
     "data": {
      "image/png": "[encoded data removed]",
      "text/plain": [
       "<Figure size 1200x700 with 1 Axes>"
      ]
     },
     "metadata": {},
     "output_type": "display_data"
    }
   ],
   "source": [
    "import pandas as pd\n",
    "import numpy as np\n",
    "import matplotlib.pyplot as plt\n",
    "import seaborn as sns\n",
    "from sklearn.linear_model import LinearRegression\n",
    "import os  # Importa a biblioteca 'os' para manipulação de caminhos e diretórios\n",
    "\n",
    "# 1. Dados dos trimestres Q1, Q2 e Q3\n",
    "data = {\n",
    "    'Trimestre': ['Q1 2023', 'Q2 2023', 'Q3 2023'],\n",
    "    'Trimestre_Num': [1, 2, 3],\n",
    "    'New Cards Obtained': [31800, 42687, 48187],\n",
    "    'Cards Terminated': [4686, 8687, 11061]\n",
    "}\n",
    "df = pd.DataFrame(data)\n",
    "\n",
    "# 2. Projeção para Q4 usando Regressão Linear\n",
    "# (O código da projeção permanece o mesmo)\n",
    "X = df['Trimestre_Num'].values.reshape(-1, 1)\n",
    "y_new = df['New Cards Obtained'].values\n",
    "y_terminated = df['Cards Terminated'].values\n",
    "\n",
    "model_new = LinearRegression()\n",
    "model_new.fit(X, y_new)\n",
    "\n",
    "model_terminated = LinearRegression()\n",
    "model_terminated.fit(X, y_terminated)\n",
    "\n",
    "q4_num = np.array([[4]])\n",
    "q4_new_projected = model_new.predict(q4_num)[0]\n",
    "q4_terminated_projected = model_terminated.predict(q4_num)[0]\n",
    "\n",
    "new_row = pd.DataFrame({\n",
    "    'Trimestre': ['Q4 2023 (Proj.)'],\n",
    "    'Trimestre_Num': [4],\n",
    "    'New Cards Obtained': [q4_new_projected],\n",
    "    'Cards Terminated': [q4_terminated_projected]\n",
    "})\n",
    "df_proj = pd.concat([df, new_row], ignore_index=True)\n",
    "\n",
    "\n",
    "# 3. Gerando o Gráfico\n",
    "# (O código de plotagem permanece o mesmo)\n",
    "plt.style.use('seaborn-v0_8-whitegrid')\n",
    "fig, ax = plt.subplots(figsize=(12, 7))\n",
    "\n",
    "ax.plot(df['Trimestre'], df['New Cards Obtained'], marker='o', linestyle='-', color='royalblue', label='Novos Cartões (Real)')\n",
    "ax.plot(df['Trimestre'], df['Cards Terminated'], marker='o', linestyle='-', color='crimson', label='Cartões Encerrados (Real)')\n",
    "ax.plot(df_proj['Trimestre'].iloc[2:], df_proj['New Cards Obtained'].iloc[2:], linestyle='--', color='royalblue', label='Novos Cartões (Projeção)')\n",
    "ax.plot(df_proj['Trimestre'].iloc[2:], df_proj['Cards Terminated'].iloc[2:], linestyle='--', color='crimson', label='Cartões Encerrados (Projeção)')\n",
    "ax.text(df_proj['Trimestre'].iloc[3], df_proj['New Cards Obtained'].iloc[3] + 500, f'{df_proj[\"New Cards Obtained\"].iloc[3]:,.0f}', ha='center', color='royalblue', weight='bold')\n",
    "ax.text(df_proj['Trimestre'].iloc[3], df_proj['Cards Terminated'].iloc[3] + 500, f'{df_proj[\"Cards Terminated\"].iloc[3]:,.0f}', ha='center', color='crimson', weight='bold')\n",
    "ax.set_title('Evolução de Novos Cartões vs. Encerrados (com Projeção para Q4)', fontsize=16, weight='bold')\n",
    "ax.set_ylabel('Quantidade de Cartões', fontsize=12)\n",
    "ax.tick_params(axis='x', rotation=0)\n",
    "ax.legend()\n",
    "plt.tight_layout()\n",
    "\n",
    "# O 'r' antes da string garante que as barras invertidas do Windows sejam lidas corretamente\n",
    "output_dir = r'C:\\Users\\eanes\\Documents\\flash_case\\outputs'\n",
    "\n",
    "# Cria o diretório, se ele não existir\n",
    "os.makedirs(output_dir, exist_ok=True)\n",
    "\n",
    "# Combina o diretório com o nome do arquivo para criar o caminho completo\n",
    "file_path = os.path.join(output_dir, 'evolucao_new_vs_terminated.png')\n",
    "\n",
    "# Salva o gráfico no caminho especificado\n",
    "plt.savefig(file_path)\n",
    "\n"
   ]
  }
 ],
 "metadata": {
  "kernelspec": {
   "display_name": "base",
   "language": "python",
   "name": "python3"
  },
  "language_info": {
   "codemirror_mode": {
    "name": "ipython",
    "version": 3
   },
   "file_extension": ".py",
   "mimetype": "text/x-python",
   "name": "python",
   "nbconvert_exporter": "python",
   "pygments_lexer": "ipython3",
   "version": "3.13.5"
  }
 },
 "nbformat": 4,
 "nbformat_minor": 4
}
